{
  "metadata": {
    "colab": {
      "provenance": [],
      "include_colab_link": true
    },
    "kernelspec": {
      "name": "python3",
      "display_name": "Python 3",
      "language": "python"
    },
    "language_info": {
      "name": "python",
      "version": "3.7.12",
      "mimetype": "text/x-python",
      "codemirror_mode": {
        "name": "ipython",
        "version": 3
      },
      "pygments_lexer": "ipython3",
      "nbconvert_exporter": "python",
      "file_extension": ".py"
    },
    "accelerator": "GPU",
    "gpuClass": "standard",
    "widgets": {
      "application/vnd.jupyter.widget-state+json": {
        "864f6fcb5ebe4a29b65b0bf1ed7d4e26": {
          "model_module": "@jupyter-widgets/controls",
          "model_name": "HBoxModel",
          "model_module_version": "1.5.0",
          "state": {
            "_dom_classes": [],
            "_model_module": "@jupyter-widgets/controls",
            "_model_module_version": "1.5.0",
            "_model_name": "HBoxModel",
            "_view_count": null,
            "_view_module": "@jupyter-widgets/controls",
            "_view_module_version": "1.5.0",
            "_view_name": "HBoxView",
            "box_style": "",
            "children": [
              "IPY_MODEL_6a8fc5e37ee44693a9f58405011addeb",
              "IPY_MODEL_8c6d0c7922e2467e9464c0988ece3839",
              "IPY_MODEL_e2405a9e08954f10b37f938a7aab54b3"
            ],
            "layout": "IPY_MODEL_87f8e15155d544ac907c0b1bd9e9f242"
          }
        },
        "6a8fc5e37ee44693a9f58405011addeb": {
          "model_module": "@jupyter-widgets/controls",
          "model_name": "HTMLModel",
          "model_module_version": "1.5.0",
          "state": {
            "_dom_classes": [],
            "_model_module": "@jupyter-widgets/controls",
            "_model_module_version": "1.5.0",
            "_model_name": "HTMLModel",
            "_view_count": null,
            "_view_module": "@jupyter-widgets/controls",
            "_view_module_version": "1.5.0",
            "_view_name": "HTMLView",
            "description": "",
            "description_tooltip": null,
            "layout": "IPY_MODEL_a41c129cf8a04a4594c7c4b13cc745b2",
            "placeholder": "​",
            "style": "IPY_MODEL_44cdc6c401af4ef7ac745161be1ac4b1",
            "value": "Sanity Checking DataLoader 0: 100%"
          }
        },
        "8c6d0c7922e2467e9464c0988ece3839": {
          "model_module": "@jupyter-widgets/controls",
          "model_name": "FloatProgressModel",
          "model_module_version": "1.5.0",
          "state": {
            "_dom_classes": [],
            "_model_module": "@jupyter-widgets/controls",
            "_model_module_version": "1.5.0",
            "_model_name": "FloatProgressModel",
            "_view_count": null,
            "_view_module": "@jupyter-widgets/controls",
            "_view_module_version": "1.5.0",
            "_view_name": "ProgressView",
            "bar_style": "",
            "description": "",
            "description_tooltip": null,
            "layout": "IPY_MODEL_22eca153bf8648d38164953fef2045e8",
            "max": 2,
            "min": 0,
            "orientation": "horizontal",
            "style": "IPY_MODEL_97e2b58739904994a5f4406672edae30",
            "value": 2
          }
        },
        "e2405a9e08954f10b37f938a7aab54b3": {
          "model_module": "@jupyter-widgets/controls",
          "model_name": "HTMLModel",
          "model_module_version": "1.5.0",
          "state": {
            "_dom_classes": [],
            "_model_module": "@jupyter-widgets/controls",
            "_model_module_version": "1.5.0",
            "_model_name": "HTMLModel",
            "_view_count": null,
            "_view_module": "@jupyter-widgets/controls",
            "_view_module_version": "1.5.0",
            "_view_name": "HTMLView",
            "description": "",
            "description_tooltip": null,
            "layout": "IPY_MODEL_32a0cea353da4f2bb1ad498447cbcb80",
            "placeholder": "​",
            "style": "IPY_MODEL_25634a4f32bd4c86acca985cb74647e7",
            "value": " 2/2 [00:03&lt;00:00,  1.64s/it]"
          }
        },
        "87f8e15155d544ac907c0b1bd9e9f242": {
          "model_module": "@jupyter-widgets/base",
          "model_name": "LayoutModel",
          "model_module_version": "1.2.0",
          "state": {
            "_model_module": "@jupyter-widgets/base",
            "_model_module_version": "1.2.0",
            "_model_name": "LayoutModel",
            "_view_count": null,
            "_view_module": "@jupyter-widgets/base",
            "_view_module_version": "1.2.0",
            "_view_name": "LayoutView",
            "align_content": null,
            "align_items": null,
            "align_self": null,
            "border": null,
            "bottom": null,
            "display": "inline-flex",
            "flex": null,
            "flex_flow": "row wrap",
            "grid_area": null,
            "grid_auto_columns": null,
            "grid_auto_flow": null,
            "grid_auto_rows": null,
            "grid_column": null,
            "grid_gap": null,
            "grid_row": null,
            "grid_template_areas": null,
            "grid_template_columns": null,
            "grid_template_rows": null,
            "height": null,
            "justify_content": null,
            "justify_items": null,
            "left": null,
            "margin": null,
            "max_height": null,
            "max_width": null,
            "min_height": null,
            "min_width": null,
            "object_fit": null,
            "object_position": null,
            "order": null,
            "overflow": null,
            "overflow_x": null,
            "overflow_y": null,
            "padding": null,
            "right": null,
            "top": null,
            "visibility": "hidden",
            "width": "100%"
          }
        },
        "a41c129cf8a04a4594c7c4b13cc745b2": {
          "model_module": "@jupyter-widgets/base",
          "model_name": "LayoutModel",
          "model_module_version": "1.2.0",
          "state": {
            "_model_module": "@jupyter-widgets/base",
            "_model_module_version": "1.2.0",
            "_model_name": "LayoutModel",
            "_view_count": null,
            "_view_module": "@jupyter-widgets/base",
            "_view_module_version": "1.2.0",
            "_view_name": "LayoutView",
            "align_content": null,
            "align_items": null,
            "align_self": null,
            "border": null,
            "bottom": null,
            "display": null,
            "flex": null,
            "flex_flow": null,
            "grid_area": null,
            "grid_auto_columns": null,
            "grid_auto_flow": null,
            "grid_auto_rows": null,
            "grid_column": null,
            "grid_gap": null,
            "grid_row": null,
            "grid_template_areas": null,
            "grid_template_columns": null,
            "grid_template_rows": null,
            "height": null,
            "justify_content": null,
            "justify_items": null,
            "left": null,
            "margin": null,
            "max_height": null,
            "max_width": null,
            "min_height": null,
            "min_width": null,
            "object_fit": null,
            "object_position": null,
            "order": null,
            "overflow": null,
            "overflow_x": null,
            "overflow_y": null,
            "padding": null,
            "right": null,
            "top": null,
            "visibility": null,
            "width": null
          }
        },
        "44cdc6c401af4ef7ac745161be1ac4b1": {
          "model_module": "@jupyter-widgets/controls",
          "model_name": "DescriptionStyleModel",
          "model_module_version": "1.5.0",
          "state": {
            "_model_module": "@jupyter-widgets/controls",
            "_model_module_version": "1.5.0",
            "_model_name": "DescriptionStyleModel",
            "_view_count": null,
            "_view_module": "@jupyter-widgets/base",
            "_view_module_version": "1.2.0",
            "_view_name": "StyleView",
            "description_width": ""
          }
        },
        "22eca153bf8648d38164953fef2045e8": {
          "model_module": "@jupyter-widgets/base",
          "model_name": "LayoutModel",
          "model_module_version": "1.2.0",
          "state": {
            "_model_module": "@jupyter-widgets/base",
            "_model_module_version": "1.2.0",
            "_model_name": "LayoutModel",
            "_view_count": null,
            "_view_module": "@jupyter-widgets/base",
            "_view_module_version": "1.2.0",
            "_view_name": "LayoutView",
            "align_content": null,
            "align_items": null,
            "align_self": null,
            "border": null,
            "bottom": null,
            "display": null,
            "flex": "2",
            "flex_flow": null,
            "grid_area": null,
            "grid_auto_columns": null,
            "grid_auto_flow": null,
            "grid_auto_rows": null,
            "grid_column": null,
            "grid_gap": null,
            "grid_row": null,
            "grid_template_areas": null,
            "grid_template_columns": null,
            "grid_template_rows": null,
            "height": null,
            "justify_content": null,
            "justify_items": null,
            "left": null,
            "margin": null,
            "max_height": null,
            "max_width": null,
            "min_height": null,
            "min_width": null,
            "object_fit": null,
            "object_position": null,
            "order": null,
            "overflow": null,
            "overflow_x": null,
            "overflow_y": null,
            "padding": null,
            "right": null,
            "top": null,
            "visibility": null,
            "width": null
          }
        },
        "97e2b58739904994a5f4406672edae30": {
          "model_module": "@jupyter-widgets/controls",
          "model_name": "ProgressStyleModel",
          "model_module_version": "1.5.0",
          "state": {
            "_model_module": "@jupyter-widgets/controls",
            "_model_module_version": "1.5.0",
            "_model_name": "ProgressStyleModel",
            "_view_count": null,
            "_view_module": "@jupyter-widgets/base",
            "_view_module_version": "1.2.0",
            "_view_name": "StyleView",
            "bar_color": null,
            "description_width": ""
          }
        },
        "32a0cea353da4f2bb1ad498447cbcb80": {
          "model_module": "@jupyter-widgets/base",
          "model_name": "LayoutModel",
          "model_module_version": "1.2.0",
          "state": {
            "_model_module": "@jupyter-widgets/base",
            "_model_module_version": "1.2.0",
            "_model_name": "LayoutModel",
            "_view_count": null,
            "_view_module": "@jupyter-widgets/base",
            "_view_module_version": "1.2.0",
            "_view_name": "LayoutView",
            "align_content": null,
            "align_items": null,
            "align_self": null,
            "border": null,
            "bottom": null,
            "display": null,
            "flex": null,
            "flex_flow": null,
            "grid_area": null,
            "grid_auto_columns": null,
            "grid_auto_flow": null,
            "grid_auto_rows": null,
            "grid_column": null,
            "grid_gap": null,
            "grid_row": null,
            "grid_template_areas": null,
            "grid_template_columns": null,
            "grid_template_rows": null,
            "height": null,
            "justify_content": null,
            "justify_items": null,
            "left": null,
            "margin": null,
            "max_height": null,
            "max_width": null,
            "min_height": null,
            "min_width": null,
            "object_fit": null,
            "object_position": null,
            "order": null,
            "overflow": null,
            "overflow_x": null,
            "overflow_y": null,
            "padding": null,
            "right": null,
            "top": null,
            "visibility": null,
            "width": null
          }
        },
        "25634a4f32bd4c86acca985cb74647e7": {
          "model_module": "@jupyter-widgets/controls",
          "model_name": "DescriptionStyleModel",
          "model_module_version": "1.5.0",
          "state": {
            "_model_module": "@jupyter-widgets/controls",
            "_model_module_version": "1.5.0",
            "_model_name": "DescriptionStyleModel",
            "_view_count": null,
            "_view_module": "@jupyter-widgets/base",
            "_view_module_version": "1.2.0",
            "_view_name": "StyleView",
            "description_width": ""
          }
        },
        "9233cf49d80148e1ac009cbe5640c562": {
          "model_module": "@jupyter-widgets/controls",
          "model_name": "HBoxModel",
          "model_module_version": "1.5.0",
          "state": {
            "_dom_classes": [],
            "_model_module": "@jupyter-widgets/controls",
            "_model_module_version": "1.5.0",
            "_model_name": "HBoxModel",
            "_view_count": null,
            "_view_module": "@jupyter-widgets/controls",
            "_view_module_version": "1.5.0",
            "_view_name": "HBoxView",
            "box_style": "",
            "children": [
              "IPY_MODEL_33394a57c3b94f1686fd236ed00b2894",
              "IPY_MODEL_a7c475f14cfb4dd48fd738bff851a56e",
              "IPY_MODEL_6b34cb6f29b146ee89cdd368e620d4b0"
            ],
            "layout": "IPY_MODEL_af9e956c6e924f339c6167c4a4e572eb"
          }
        },
        "33394a57c3b94f1686fd236ed00b2894": {
          "model_module": "@jupyter-widgets/controls",
          "model_name": "HTMLModel",
          "model_module_version": "1.5.0",
          "state": {
            "_dom_classes": [],
            "_model_module": "@jupyter-widgets/controls",
            "_model_module_version": "1.5.0",
            "_model_name": "HTMLModel",
            "_view_count": null,
            "_view_module": "@jupyter-widgets/controls",
            "_view_module_version": "1.5.0",
            "_view_name": "HTMLView",
            "description": "",
            "description_tooltip": null,
            "layout": "IPY_MODEL_6cf246011598406595510bfeccaf1cbd",
            "placeholder": "​",
            "style": "IPY_MODEL_f34689a5cad246669f04d94790ac624b",
            "value": "Epoch 1: 100%"
          }
        },
        "a7c475f14cfb4dd48fd738bff851a56e": {
          "model_module": "@jupyter-widgets/controls",
          "model_name": "FloatProgressModel",
          "model_module_version": "1.5.0",
          "state": {
            "_dom_classes": [],
            "_model_module": "@jupyter-widgets/controls",
            "_model_module_version": "1.5.0",
            "_model_name": "FloatProgressModel",
            "_view_count": null,
            "_view_module": "@jupyter-widgets/controls",
            "_view_module_version": "1.5.0",
            "_view_name": "ProgressView",
            "bar_style": "",
            "description": "",
            "description_tooltip": null,
            "layout": "IPY_MODEL_9408606a52ab4f4880d0f54e1cc0676a",
            "max": 2500,
            "min": 0,
            "orientation": "horizontal",
            "style": "IPY_MODEL_039a517cf7e2450cb3b123b02f95520e",
            "value": 2500
          }
        },
        "6b34cb6f29b146ee89cdd368e620d4b0": {
          "model_module": "@jupyter-widgets/controls",
          "model_name": "HTMLModel",
          "model_module_version": "1.5.0",
          "state": {
            "_dom_classes": [],
            "_model_module": "@jupyter-widgets/controls",
            "_model_module_version": "1.5.0",
            "_model_name": "HTMLModel",
            "_view_count": null,
            "_view_module": "@jupyter-widgets/controls",
            "_view_module_version": "1.5.0",
            "_view_name": "HTMLView",
            "description": "",
            "description_tooltip": null,
            "layout": "IPY_MODEL_e37c8d006371485a81c6b363284fe0cd",
            "placeholder": "​",
            "style": "IPY_MODEL_ec0663eaa1d041de8e329a06ae0265dc",
            "value": " 2500/2500 [11:18&lt;00:00,  3.68it/s, loss=0.327, v_num=0, train_loss=0.0295, val_loss=0.355]"
          }
        },
        "af9e956c6e924f339c6167c4a4e572eb": {
          "model_module": "@jupyter-widgets/base",
          "model_name": "LayoutModel",
          "model_module_version": "1.2.0",
          "state": {
            "_model_module": "@jupyter-widgets/base",
            "_model_module_version": "1.2.0",
            "_model_name": "LayoutModel",
            "_view_count": null,
            "_view_module": "@jupyter-widgets/base",
            "_view_module_version": "1.2.0",
            "_view_name": "LayoutView",
            "align_content": null,
            "align_items": null,
            "align_self": null,
            "border": null,
            "bottom": null,
            "display": "inline-flex",
            "flex": null,
            "flex_flow": "row wrap",
            "grid_area": null,
            "grid_auto_columns": null,
            "grid_auto_flow": null,
            "grid_auto_rows": null,
            "grid_column": null,
            "grid_gap": null,
            "grid_row": null,
            "grid_template_areas": null,
            "grid_template_columns": null,
            "grid_template_rows": null,
            "height": null,
            "justify_content": null,
            "justify_items": null,
            "left": null,
            "margin": null,
            "max_height": null,
            "max_width": null,
            "min_height": null,
            "min_width": null,
            "object_fit": null,
            "object_position": null,
            "order": null,
            "overflow": null,
            "overflow_x": null,
            "overflow_y": null,
            "padding": null,
            "right": null,
            "top": null,
            "visibility": null,
            "width": "100%"
          }
        },
        "6cf246011598406595510bfeccaf1cbd": {
          "model_module": "@jupyter-widgets/base",
          "model_name": "LayoutModel",
          "model_module_version": "1.2.0",
          "state": {
            "_model_module": "@jupyter-widgets/base",
            "_model_module_version": "1.2.0",
            "_model_name": "LayoutModel",
            "_view_count": null,
            "_view_module": "@jupyter-widgets/base",
            "_view_module_version": "1.2.0",
            "_view_name": "LayoutView",
            "align_content": null,
            "align_items": null,
            "align_self": null,
            "border": null,
            "bottom": null,
            "display": null,
            "flex": null,
            "flex_flow": null,
            "grid_area": null,
            "grid_auto_columns": null,
            "grid_auto_flow": null,
            "grid_auto_rows": null,
            "grid_column": null,
            "grid_gap": null,
            "grid_row": null,
            "grid_template_areas": null,
            "grid_template_columns": null,
            "grid_template_rows": null,
            "height": null,
            "justify_content": null,
            "justify_items": null,
            "left": null,
            "margin": null,
            "max_height": null,
            "max_width": null,
            "min_height": null,
            "min_width": null,
            "object_fit": null,
            "object_position": null,
            "order": null,
            "overflow": null,
            "overflow_x": null,
            "overflow_y": null,
            "padding": null,
            "right": null,
            "top": null,
            "visibility": null,
            "width": null
          }
        },
        "f34689a5cad246669f04d94790ac624b": {
          "model_module": "@jupyter-widgets/controls",
          "model_name": "DescriptionStyleModel",
          "model_module_version": "1.5.0",
          "state": {
            "_model_module": "@jupyter-widgets/controls",
            "_model_module_version": "1.5.0",
            "_model_name": "DescriptionStyleModel",
            "_view_count": null,
            "_view_module": "@jupyter-widgets/base",
            "_view_module_version": "1.2.0",
            "_view_name": "StyleView",
            "description_width": ""
          }
        },
        "9408606a52ab4f4880d0f54e1cc0676a": {
          "model_module": "@jupyter-widgets/base",
          "model_name": "LayoutModel",
          "model_module_version": "1.2.0",
          "state": {
            "_model_module": "@jupyter-widgets/base",
            "_model_module_version": "1.2.0",
            "_model_name": "LayoutModel",
            "_view_count": null,
            "_view_module": "@jupyter-widgets/base",
            "_view_module_version": "1.2.0",
            "_view_name": "LayoutView",
            "align_content": null,
            "align_items": null,
            "align_self": null,
            "border": null,
            "bottom": null,
            "display": null,
            "flex": "2",
            "flex_flow": null,
            "grid_area": null,
            "grid_auto_columns": null,
            "grid_auto_flow": null,
            "grid_auto_rows": null,
            "grid_column": null,
            "grid_gap": null,
            "grid_row": null,
            "grid_template_areas": null,
            "grid_template_columns": null,
            "grid_template_rows": null,
            "height": null,
            "justify_content": null,
            "justify_items": null,
            "left": null,
            "margin": null,
            "max_height": null,
            "max_width": null,
            "min_height": null,
            "min_width": null,
            "object_fit": null,
            "object_position": null,
            "order": null,
            "overflow": null,
            "overflow_x": null,
            "overflow_y": null,
            "padding": null,
            "right": null,
            "top": null,
            "visibility": null,
            "width": null
          }
        },
        "039a517cf7e2450cb3b123b02f95520e": {
          "model_module": "@jupyter-widgets/controls",
          "model_name": "ProgressStyleModel",
          "model_module_version": "1.5.0",
          "state": {
            "_model_module": "@jupyter-widgets/controls",
            "_model_module_version": "1.5.0",
            "_model_name": "ProgressStyleModel",
            "_view_count": null,
            "_view_module": "@jupyter-widgets/base",
            "_view_module_version": "1.2.0",
            "_view_name": "StyleView",
            "bar_color": null,
            "description_width": ""
          }
        },
        "e37c8d006371485a81c6b363284fe0cd": {
          "model_module": "@jupyter-widgets/base",
          "model_name": "LayoutModel",
          "model_module_version": "1.2.0",
          "state": {
            "_model_module": "@jupyter-widgets/base",
            "_model_module_version": "1.2.0",
            "_model_name": "LayoutModel",
            "_view_count": null,
            "_view_module": "@jupyter-widgets/base",
            "_view_module_version": "1.2.0",
            "_view_name": "LayoutView",
            "align_content": null,
            "align_items": null,
            "align_self": null,
            "border": null,
            "bottom": null,
            "display": null,
            "flex": null,
            "flex_flow": null,
            "grid_area": null,
            "grid_auto_columns": null,
            "grid_auto_flow": null,
            "grid_auto_rows": null,
            "grid_column": null,
            "grid_gap": null,
            "grid_row": null,
            "grid_template_areas": null,
            "grid_template_columns": null,
            "grid_template_rows": null,
            "height": null,
            "justify_content": null,
            "justify_items": null,
            "left": null,
            "margin": null,
            "max_height": null,
            "max_width": null,
            "min_height": null,
            "min_width": null,
            "object_fit": null,
            "object_position": null,
            "order": null,
            "overflow": null,
            "overflow_x": null,
            "overflow_y": null,
            "padding": null,
            "right": null,
            "top": null,
            "visibility": null,
            "width": null
          }
        },
        "ec0663eaa1d041de8e329a06ae0265dc": {
          "model_module": "@jupyter-widgets/controls",
          "model_name": "DescriptionStyleModel",
          "model_module_version": "1.5.0",
          "state": {
            "_model_module": "@jupyter-widgets/controls",
            "_model_module_version": "1.5.0",
            "_model_name": "DescriptionStyleModel",
            "_view_count": null,
            "_view_module": "@jupyter-widgets/base",
            "_view_module_version": "1.2.0",
            "_view_name": "StyleView",
            "description_width": ""
          }
        },
        "c1eac48782a34314ad71ad2df2ad1faa": {
          "model_module": "@jupyter-widgets/controls",
          "model_name": "HBoxModel",
          "model_module_version": "1.5.0",
          "state": {
            "_dom_classes": [],
            "_model_module": "@jupyter-widgets/controls",
            "_model_module_version": "1.5.0",
            "_model_name": "HBoxModel",
            "_view_count": null,
            "_view_module": "@jupyter-widgets/controls",
            "_view_module_version": "1.5.0",
            "_view_name": "HBoxView",
            "box_style": "",
            "children": [
              "IPY_MODEL_cf9a68df5d2a4c8b9924d89e6a2ab908",
              "IPY_MODEL_a28ac4da6e8542e5bb7b3d750e754013",
              "IPY_MODEL_c2141d25906841268e7992174a8ef2b6"
            ],
            "layout": "IPY_MODEL_3d7fb331c82d42b099a1a8966fda89b8"
          }
        },
        "cf9a68df5d2a4c8b9924d89e6a2ab908": {
          "model_module": "@jupyter-widgets/controls",
          "model_name": "HTMLModel",
          "model_module_version": "1.5.0",
          "state": {
            "_dom_classes": [],
            "_model_module": "@jupyter-widgets/controls",
            "_model_module_version": "1.5.0",
            "_model_name": "HTMLModel",
            "_view_count": null,
            "_view_module": "@jupyter-widgets/controls",
            "_view_module_version": "1.5.0",
            "_view_name": "HTMLView",
            "description": "",
            "description_tooltip": null,
            "layout": "IPY_MODEL_6d3268813f844723b57960b4450331ac",
            "placeholder": "​",
            "style": "IPY_MODEL_05da211cb7194568b37030c898d2b82b",
            "value": "Validation DataLoader 0: 100%"
          }
        },
        "a28ac4da6e8542e5bb7b3d750e754013": {
          "model_module": "@jupyter-widgets/controls",
          "model_name": "FloatProgressModel",
          "model_module_version": "1.5.0",
          "state": {
            "_dom_classes": [],
            "_model_module": "@jupyter-widgets/controls",
            "_model_module_version": "1.5.0",
            "_model_name": "FloatProgressModel",
            "_view_count": null,
            "_view_module": "@jupyter-widgets/controls",
            "_view_module_version": "1.5.0",
            "_view_name": "ProgressView",
            "bar_style": "",
            "description": "",
            "description_tooltip": null,
            "layout": "IPY_MODEL_f77bd3afcba4481387b9eba703daaa53",
            "max": 250,
            "min": 0,
            "orientation": "horizontal",
            "style": "IPY_MODEL_a726ad1f13484a6ba71c2a4fac82afa0",
            "value": 250
          }
        },
        "c2141d25906841268e7992174a8ef2b6": {
          "model_module": "@jupyter-widgets/controls",
          "model_name": "HTMLModel",
          "model_module_version": "1.5.0",
          "state": {
            "_dom_classes": [],
            "_model_module": "@jupyter-widgets/controls",
            "_model_module_version": "1.5.0",
            "_model_name": "HTMLModel",
            "_view_count": null,
            "_view_module": "@jupyter-widgets/controls",
            "_view_module_version": "1.5.0",
            "_view_name": "HTMLView",
            "description": "",
            "description_tooltip": null,
            "layout": "IPY_MODEL_ba8a181925b14d63aa92f9c048238796",
            "placeholder": "​",
            "style": "IPY_MODEL_000c10f918dc47b3894cc0e614da807a",
            "value": " 250/250 [00:25&lt;00:00,  9.93it/s]"
          }
        },
        "3d7fb331c82d42b099a1a8966fda89b8": {
          "model_module": "@jupyter-widgets/base",
          "model_name": "LayoutModel",
          "model_module_version": "1.2.0",
          "state": {
            "_model_module": "@jupyter-widgets/base",
            "_model_module_version": "1.2.0",
            "_model_name": "LayoutModel",
            "_view_count": null,
            "_view_module": "@jupyter-widgets/base",
            "_view_module_version": "1.2.0",
            "_view_name": "LayoutView",
            "align_content": null,
            "align_items": null,
            "align_self": null,
            "border": null,
            "bottom": null,
            "display": "inline-flex",
            "flex": null,
            "flex_flow": "row wrap",
            "grid_area": null,
            "grid_auto_columns": null,
            "grid_auto_flow": null,
            "grid_auto_rows": null,
            "grid_column": null,
            "grid_gap": null,
            "grid_row": null,
            "grid_template_areas": null,
            "grid_template_columns": null,
            "grid_template_rows": null,
            "height": null,
            "justify_content": null,
            "justify_items": null,
            "left": null,
            "margin": null,
            "max_height": null,
            "max_width": null,
            "min_height": null,
            "min_width": null,
            "object_fit": null,
            "object_position": null,
            "order": null,
            "overflow": null,
            "overflow_x": null,
            "overflow_y": null,
            "padding": null,
            "right": null,
            "top": null,
            "visibility": "hidden",
            "width": "100%"
          }
        },
        "6d3268813f844723b57960b4450331ac": {
          "model_module": "@jupyter-widgets/base",
          "model_name": "LayoutModel",
          "model_module_version": "1.2.0",
          "state": {
            "_model_module": "@jupyter-widgets/base",
            "_model_module_version": "1.2.0",
            "_model_name": "LayoutModel",
            "_view_count": null,
            "_view_module": "@jupyter-widgets/base",
            "_view_module_version": "1.2.0",
            "_view_name": "LayoutView",
            "align_content": null,
            "align_items": null,
            "align_self": null,
            "border": null,
            "bottom": null,
            "display": null,
            "flex": null,
            "flex_flow": null,
            "grid_area": null,
            "grid_auto_columns": null,
            "grid_auto_flow": null,
            "grid_auto_rows": null,
            "grid_column": null,
            "grid_gap": null,
            "grid_row": null,
            "grid_template_areas": null,
            "grid_template_columns": null,
            "grid_template_rows": null,
            "height": null,
            "justify_content": null,
            "justify_items": null,
            "left": null,
            "margin": null,
            "max_height": null,
            "max_width": null,
            "min_height": null,
            "min_width": null,
            "object_fit": null,
            "object_position": null,
            "order": null,
            "overflow": null,
            "overflow_x": null,
            "overflow_y": null,
            "padding": null,
            "right": null,
            "top": null,
            "visibility": null,
            "width": null
          }
        },
        "05da211cb7194568b37030c898d2b82b": {
          "model_module": "@jupyter-widgets/controls",
          "model_name": "DescriptionStyleModel",
          "model_module_version": "1.5.0",
          "state": {
            "_model_module": "@jupyter-widgets/controls",
            "_model_module_version": "1.5.0",
            "_model_name": "DescriptionStyleModel",
            "_view_count": null,
            "_view_module": "@jupyter-widgets/base",
            "_view_module_version": "1.2.0",
            "_view_name": "StyleView",
            "description_width": ""
          }
        },
        "f77bd3afcba4481387b9eba703daaa53": {
          "model_module": "@jupyter-widgets/base",
          "model_name": "LayoutModel",
          "model_module_version": "1.2.0",
          "state": {
            "_model_module": "@jupyter-widgets/base",
            "_model_module_version": "1.2.0",
            "_model_name": "LayoutModel",
            "_view_count": null,
            "_view_module": "@jupyter-widgets/base",
            "_view_module_version": "1.2.0",
            "_view_name": "LayoutView",
            "align_content": null,
            "align_items": null,
            "align_self": null,
            "border": null,
            "bottom": null,
            "display": null,
            "flex": "2",
            "flex_flow": null,
            "grid_area": null,
            "grid_auto_columns": null,
            "grid_auto_flow": null,
            "grid_auto_rows": null,
            "grid_column": null,
            "grid_gap": null,
            "grid_row": null,
            "grid_template_areas": null,
            "grid_template_columns": null,
            "grid_template_rows": null,
            "height": null,
            "justify_content": null,
            "justify_items": null,
            "left": null,
            "margin": null,
            "max_height": null,
            "max_width": null,
            "min_height": null,
            "min_width": null,
            "object_fit": null,
            "object_position": null,
            "order": null,
            "overflow": null,
            "overflow_x": null,
            "overflow_y": null,
            "padding": null,
            "right": null,
            "top": null,
            "visibility": null,
            "width": null
          }
        },
        "a726ad1f13484a6ba71c2a4fac82afa0": {
          "model_module": "@jupyter-widgets/controls",
          "model_name": "ProgressStyleModel",
          "model_module_version": "1.5.0",
          "state": {
            "_model_module": "@jupyter-widgets/controls",
            "_model_module_version": "1.5.0",
            "_model_name": "ProgressStyleModel",
            "_view_count": null,
            "_view_module": "@jupyter-widgets/base",
            "_view_module_version": "1.2.0",
            "_view_name": "StyleView",
            "bar_color": null,
            "description_width": ""
          }
        },
        "ba8a181925b14d63aa92f9c048238796": {
          "model_module": "@jupyter-widgets/base",
          "model_name": "LayoutModel",
          "model_module_version": "1.2.0",
          "state": {
            "_model_module": "@jupyter-widgets/base",
            "_model_module_version": "1.2.0",
            "_model_name": "LayoutModel",
            "_view_count": null,
            "_view_module": "@jupyter-widgets/base",
            "_view_module_version": "1.2.0",
            "_view_name": "LayoutView",
            "align_content": null,
            "align_items": null,
            "align_self": null,
            "border": null,
            "bottom": null,
            "display": null,
            "flex": null,
            "flex_flow": null,
            "grid_area": null,
            "grid_auto_columns": null,
            "grid_auto_flow": null,
            "grid_auto_rows": null,
            "grid_column": null,
            "grid_gap": null,
            "grid_row": null,
            "grid_template_areas": null,
            "grid_template_columns": null,
            "grid_template_rows": null,
            "height": null,
            "justify_content": null,
            "justify_items": null,
            "left": null,
            "margin": null,
            "max_height": null,
            "max_width": null,
            "min_height": null,
            "min_width": null,
            "object_fit": null,
            "object_position": null,
            "order": null,
            "overflow": null,
            "overflow_x": null,
            "overflow_y": null,
            "padding": null,
            "right": null,
            "top": null,
            "visibility": null,
            "width": null
          }
        },
        "000c10f918dc47b3894cc0e614da807a": {
          "model_module": "@jupyter-widgets/controls",
          "model_name": "DescriptionStyleModel",
          "model_module_version": "1.5.0",
          "state": {
            "_model_module": "@jupyter-widgets/controls",
            "_model_module_version": "1.5.0",
            "_model_name": "DescriptionStyleModel",
            "_view_count": null,
            "_view_module": "@jupyter-widgets/base",
            "_view_module_version": "1.2.0",
            "_view_name": "StyleView",
            "description_width": ""
          }
        },
        "a4d25422c5ba4f79b0bb4fc348f85990": {
          "model_module": "@jupyter-widgets/controls",
          "model_name": "HBoxModel",
          "model_module_version": "1.5.0",
          "state": {
            "_dom_classes": [],
            "_model_module": "@jupyter-widgets/controls",
            "_model_module_version": "1.5.0",
            "_model_name": "HBoxModel",
            "_view_count": null,
            "_view_module": "@jupyter-widgets/controls",
            "_view_module_version": "1.5.0",
            "_view_name": "HBoxView",
            "box_style": "",
            "children": [
              "IPY_MODEL_b313ec79f94d4ae193e6469235246765",
              "IPY_MODEL_fa6227921aee427dbc611d2fcd6b434e",
              "IPY_MODEL_97b6418a1c6b4f0087d2fa57347487d4"
            ],
            "layout": "IPY_MODEL_9e1d2da04d6d44cc95affa4ef281cddf"
          }
        },
        "b313ec79f94d4ae193e6469235246765": {
          "model_module": "@jupyter-widgets/controls",
          "model_name": "HTMLModel",
          "model_module_version": "1.5.0",
          "state": {
            "_dom_classes": [],
            "_model_module": "@jupyter-widgets/controls",
            "_model_module_version": "1.5.0",
            "_model_name": "HTMLModel",
            "_view_count": null,
            "_view_module": "@jupyter-widgets/controls",
            "_view_module_version": "1.5.0",
            "_view_name": "HTMLView",
            "description": "",
            "description_tooltip": null,
            "layout": "IPY_MODEL_145af4da98ff4e45ab290a10702918b3",
            "placeholder": "​",
            "style": "IPY_MODEL_e94b4f09df754f75b49aa385ab904bb0",
            "value": "Validation DataLoader 0: 100%"
          }
        },
        "fa6227921aee427dbc611d2fcd6b434e": {
          "model_module": "@jupyter-widgets/controls",
          "model_name": "FloatProgressModel",
          "model_module_version": "1.5.0",
          "state": {
            "_dom_classes": [],
            "_model_module": "@jupyter-widgets/controls",
            "_model_module_version": "1.5.0",
            "_model_name": "FloatProgressModel",
            "_view_count": null,
            "_view_module": "@jupyter-widgets/controls",
            "_view_module_version": "1.5.0",
            "_view_name": "ProgressView",
            "bar_style": "",
            "description": "",
            "description_tooltip": null,
            "layout": "IPY_MODEL_6a59d5cd64d6452ba861d58eb0ecc3be",
            "max": 250,
            "min": 0,
            "orientation": "horizontal",
            "style": "IPY_MODEL_6ce4b58c375e46cfa4f279322645b8e0",
            "value": 250
          }
        },
        "97b6418a1c6b4f0087d2fa57347487d4": {
          "model_module": "@jupyter-widgets/controls",
          "model_name": "HTMLModel",
          "model_module_version": "1.5.0",
          "state": {
            "_dom_classes": [],
            "_model_module": "@jupyter-widgets/controls",
            "_model_module_version": "1.5.0",
            "_model_name": "HTMLModel",
            "_view_count": null,
            "_view_module": "@jupyter-widgets/controls",
            "_view_module_version": "1.5.0",
            "_view_name": "HTMLView",
            "description": "",
            "description_tooltip": null,
            "layout": "IPY_MODEL_57fe8eba8a1a4884a785ceae8a5a8e8e",
            "placeholder": "​",
            "style": "IPY_MODEL_228e0527e31746438e949647356fb4ad",
            "value": " 250/250 [00:24&lt;00:00, 10.15it/s]"
          }
        },
        "9e1d2da04d6d44cc95affa4ef281cddf": {
          "model_module": "@jupyter-widgets/base",
          "model_name": "LayoutModel",
          "model_module_version": "1.2.0",
          "state": {
            "_model_module": "@jupyter-widgets/base",
            "_model_module_version": "1.2.0",
            "_model_name": "LayoutModel",
            "_view_count": null,
            "_view_module": "@jupyter-widgets/base",
            "_view_module_version": "1.2.0",
            "_view_name": "LayoutView",
            "align_content": null,
            "align_items": null,
            "align_self": null,
            "border": null,
            "bottom": null,
            "display": "inline-flex",
            "flex": null,
            "flex_flow": "row wrap",
            "grid_area": null,
            "grid_auto_columns": null,
            "grid_auto_flow": null,
            "grid_auto_rows": null,
            "grid_column": null,
            "grid_gap": null,
            "grid_row": null,
            "grid_template_areas": null,
            "grid_template_columns": null,
            "grid_template_rows": null,
            "height": null,
            "justify_content": null,
            "justify_items": null,
            "left": null,
            "margin": null,
            "max_height": null,
            "max_width": null,
            "min_height": null,
            "min_width": null,
            "object_fit": null,
            "object_position": null,
            "order": null,
            "overflow": null,
            "overflow_x": null,
            "overflow_y": null,
            "padding": null,
            "right": null,
            "top": null,
            "visibility": "hidden",
            "width": "100%"
          }
        },
        "145af4da98ff4e45ab290a10702918b3": {
          "model_module": "@jupyter-widgets/base",
          "model_name": "LayoutModel",
          "model_module_version": "1.2.0",
          "state": {
            "_model_module": "@jupyter-widgets/base",
            "_model_module_version": "1.2.0",
            "_model_name": "LayoutModel",
            "_view_count": null,
            "_view_module": "@jupyter-widgets/base",
            "_view_module_version": "1.2.0",
            "_view_name": "LayoutView",
            "align_content": null,
            "align_items": null,
            "align_self": null,
            "border": null,
            "bottom": null,
            "display": null,
            "flex": null,
            "flex_flow": null,
            "grid_area": null,
            "grid_auto_columns": null,
            "grid_auto_flow": null,
            "grid_auto_rows": null,
            "grid_column": null,
            "grid_gap": null,
            "grid_row": null,
            "grid_template_areas": null,
            "grid_template_columns": null,
            "grid_template_rows": null,
            "height": null,
            "justify_content": null,
            "justify_items": null,
            "left": null,
            "margin": null,
            "max_height": null,
            "max_width": null,
            "min_height": null,
            "min_width": null,
            "object_fit": null,
            "object_position": null,
            "order": null,
            "overflow": null,
            "overflow_x": null,
            "overflow_y": null,
            "padding": null,
            "right": null,
            "top": null,
            "visibility": null,
            "width": null
          }
        },
        "e94b4f09df754f75b49aa385ab904bb0": {
          "model_module": "@jupyter-widgets/controls",
          "model_name": "DescriptionStyleModel",
          "model_module_version": "1.5.0",
          "state": {
            "_model_module": "@jupyter-widgets/controls",
            "_model_module_version": "1.5.0",
            "_model_name": "DescriptionStyleModel",
            "_view_count": null,
            "_view_module": "@jupyter-widgets/base",
            "_view_module_version": "1.2.0",
            "_view_name": "StyleView",
            "description_width": ""
          }
        },
        "6a59d5cd64d6452ba861d58eb0ecc3be": {
          "model_module": "@jupyter-widgets/base",
          "model_name": "LayoutModel",
          "model_module_version": "1.2.0",
          "state": {
            "_model_module": "@jupyter-widgets/base",
            "_model_module_version": "1.2.0",
            "_model_name": "LayoutModel",
            "_view_count": null,
            "_view_module": "@jupyter-widgets/base",
            "_view_module_version": "1.2.0",
            "_view_name": "LayoutView",
            "align_content": null,
            "align_items": null,
            "align_self": null,
            "border": null,
            "bottom": null,
            "display": null,
            "flex": "2",
            "flex_flow": null,
            "grid_area": null,
            "grid_auto_columns": null,
            "grid_auto_flow": null,
            "grid_auto_rows": null,
            "grid_column": null,
            "grid_gap": null,
            "grid_row": null,
            "grid_template_areas": null,
            "grid_template_columns": null,
            "grid_template_rows": null,
            "height": null,
            "justify_content": null,
            "justify_items": null,
            "left": null,
            "margin": null,
            "max_height": null,
            "max_width": null,
            "min_height": null,
            "min_width": null,
            "object_fit": null,
            "object_position": null,
            "order": null,
            "overflow": null,
            "overflow_x": null,
            "overflow_y": null,
            "padding": null,
            "right": null,
            "top": null,
            "visibility": null,
            "width": null
          }
        },
        "6ce4b58c375e46cfa4f279322645b8e0": {
          "model_module": "@jupyter-widgets/controls",
          "model_name": "ProgressStyleModel",
          "model_module_version": "1.5.0",
          "state": {
            "_model_module": "@jupyter-widgets/controls",
            "_model_module_version": "1.5.0",
            "_model_name": "ProgressStyleModel",
            "_view_count": null,
            "_view_module": "@jupyter-widgets/base",
            "_view_module_version": "1.2.0",
            "_view_name": "StyleView",
            "bar_color": null,
            "description_width": ""
          }
        },
        "57fe8eba8a1a4884a785ceae8a5a8e8e": {
          "model_module": "@jupyter-widgets/base",
          "model_name": "LayoutModel",
          "model_module_version": "1.2.0",
          "state": {
            "_model_module": "@jupyter-widgets/base",
            "_model_module_version": "1.2.0",
            "_model_name": "LayoutModel",
            "_view_count": null,
            "_view_module": "@jupyter-widgets/base",
            "_view_module_version": "1.2.0",
            "_view_name": "LayoutView",
            "align_content": null,
            "align_items": null,
            "align_self": null,
            "border": null,
            "bottom": null,
            "display": null,
            "flex": null,
            "flex_flow": null,
            "grid_area": null,
            "grid_auto_columns": null,
            "grid_auto_flow": null,
            "grid_auto_rows": null,
            "grid_column": null,
            "grid_gap": null,
            "grid_row": null,
            "grid_template_areas": null,
            "grid_template_columns": null,
            "grid_template_rows": null,
            "height": null,
            "justify_content": null,
            "justify_items": null,
            "left": null,
            "margin": null,
            "max_height": null,
            "max_width": null,
            "min_height": null,
            "min_width": null,
            "object_fit": null,
            "object_position": null,
            "order": null,
            "overflow": null,
            "overflow_x": null,
            "overflow_y": null,
            "padding": null,
            "right": null,
            "top": null,
            "visibility": null,
            "width": null
          }
        },
        "228e0527e31746438e949647356fb4ad": {
          "model_module": "@jupyter-widgets/controls",
          "model_name": "DescriptionStyleModel",
          "model_module_version": "1.5.0",
          "state": {
            "_model_module": "@jupyter-widgets/controls",
            "_model_module_version": "1.5.0",
            "_model_name": "DescriptionStyleModel",
            "_view_count": null,
            "_view_module": "@jupyter-widgets/base",
            "_view_module_version": "1.2.0",
            "_view_name": "StyleView",
            "description_width": ""
          }
        },
        "3d1dd4788e634682b14a4fdc7b00a3c9": {
          "model_module": "@jupyter-widgets/controls",
          "model_name": "HBoxModel",
          "model_module_version": "1.5.0",
          "state": {
            "_dom_classes": [],
            "_model_module": "@jupyter-widgets/controls",
            "_model_module_version": "1.5.0",
            "_model_name": "HBoxModel",
            "_view_count": null,
            "_view_module": "@jupyter-widgets/controls",
            "_view_module_version": "1.5.0",
            "_view_name": "HBoxView",
            "box_style": "",
            "children": [
              "IPY_MODEL_2016566cec064b029ff8f7bff004a7fe",
              "IPY_MODEL_69b9592473ab48ec9f5ff346f6b733af",
              "IPY_MODEL_e72d5fdd84cf47ba98d0bf2483bf3eac"
            ],
            "layout": "IPY_MODEL_98a7d3c1006749f2bfdc9c02f077adb8"
          }
        },
        "2016566cec064b029ff8f7bff004a7fe": {
          "model_module": "@jupyter-widgets/controls",
          "model_name": "HTMLModel",
          "model_module_version": "1.5.0",
          "state": {
            "_dom_classes": [],
            "_model_module": "@jupyter-widgets/controls",
            "_model_module_version": "1.5.0",
            "_model_name": "HTMLModel",
            "_view_count": null,
            "_view_module": "@jupyter-widgets/controls",
            "_view_module_version": "1.5.0",
            "_view_name": "HTMLView",
            "description": "",
            "description_tooltip": null,
            "layout": "IPY_MODEL_96976898068b4b0aa3a56c7f0211f881",
            "placeholder": "​",
            "style": "IPY_MODEL_c5bb90c2ca184d90811c95e6a168fcb5",
            "value": "Testing DataLoader 0: 100%"
          }
        },
        "69b9592473ab48ec9f5ff346f6b733af": {
          "model_module": "@jupyter-widgets/controls",
          "model_name": "FloatProgressModel",
          "model_module_version": "1.5.0",
          "state": {
            "_dom_classes": [],
            "_model_module": "@jupyter-widgets/controls",
            "_model_module_version": "1.5.0",
            "_model_name": "FloatProgressModel",
            "_view_count": null,
            "_view_module": "@jupyter-widgets/controls",
            "_view_module_version": "1.5.0",
            "_view_name": "ProgressView",
            "bar_style": "success",
            "description": "",
            "description_tooltip": null,
            "layout": "IPY_MODEL_4bc0795007fc40bf9b164b2c53191c96",
            "max": 250,
            "min": 0,
            "orientation": "horizontal",
            "style": "IPY_MODEL_90fa347684cc4a559937f71bc138dc01",
            "value": 250
          }
        },
        "e72d5fdd84cf47ba98d0bf2483bf3eac": {
          "model_module": "@jupyter-widgets/controls",
          "model_name": "HTMLModel",
          "model_module_version": "1.5.0",
          "state": {
            "_dom_classes": [],
            "_model_module": "@jupyter-widgets/controls",
            "_model_module_version": "1.5.0",
            "_model_name": "HTMLModel",
            "_view_count": null,
            "_view_module": "@jupyter-widgets/controls",
            "_view_module_version": "1.5.0",
            "_view_name": "HTMLView",
            "description": "",
            "description_tooltip": null,
            "layout": "IPY_MODEL_dddb5f9076a748deb0280931889889a2",
            "placeholder": "​",
            "style": "IPY_MODEL_3a8282b27ba84ec2bd673be66abd340f",
            "value": " 250/250 [00:24&lt;00:00, 10.38it/s]"
          }
        },
        "98a7d3c1006749f2bfdc9c02f077adb8": {
          "model_module": "@jupyter-widgets/base",
          "model_name": "LayoutModel",
          "model_module_version": "1.2.0",
          "state": {
            "_model_module": "@jupyter-widgets/base",
            "_model_module_version": "1.2.0",
            "_model_name": "LayoutModel",
            "_view_count": null,
            "_view_module": "@jupyter-widgets/base",
            "_view_module_version": "1.2.0",
            "_view_name": "LayoutView",
            "align_content": null,
            "align_items": null,
            "align_self": null,
            "border": null,
            "bottom": null,
            "display": "inline-flex",
            "flex": null,
            "flex_flow": "row wrap",
            "grid_area": null,
            "grid_auto_columns": null,
            "grid_auto_flow": null,
            "grid_auto_rows": null,
            "grid_column": null,
            "grid_gap": null,
            "grid_row": null,
            "grid_template_areas": null,
            "grid_template_columns": null,
            "grid_template_rows": null,
            "height": null,
            "justify_content": null,
            "justify_items": null,
            "left": null,
            "margin": null,
            "max_height": null,
            "max_width": null,
            "min_height": null,
            "min_width": null,
            "object_fit": null,
            "object_position": null,
            "order": null,
            "overflow": null,
            "overflow_x": null,
            "overflow_y": null,
            "padding": null,
            "right": null,
            "top": null,
            "visibility": null,
            "width": "100%"
          }
        },
        "96976898068b4b0aa3a56c7f0211f881": {
          "model_module": "@jupyter-widgets/base",
          "model_name": "LayoutModel",
          "model_module_version": "1.2.0",
          "state": {
            "_model_module": "@jupyter-widgets/base",
            "_model_module_version": "1.2.0",
            "_model_name": "LayoutModel",
            "_view_count": null,
            "_view_module": "@jupyter-widgets/base",
            "_view_module_version": "1.2.0",
            "_view_name": "LayoutView",
            "align_content": null,
            "align_items": null,
            "align_self": null,
            "border": null,
            "bottom": null,
            "display": null,
            "flex": null,
            "flex_flow": null,
            "grid_area": null,
            "grid_auto_columns": null,
            "grid_auto_flow": null,
            "grid_auto_rows": null,
            "grid_column": null,
            "grid_gap": null,
            "grid_row": null,
            "grid_template_areas": null,
            "grid_template_columns": null,
            "grid_template_rows": null,
            "height": null,
            "justify_content": null,
            "justify_items": null,
            "left": null,
            "margin": null,
            "max_height": null,
            "max_width": null,
            "min_height": null,
            "min_width": null,
            "object_fit": null,
            "object_position": null,
            "order": null,
            "overflow": null,
            "overflow_x": null,
            "overflow_y": null,
            "padding": null,
            "right": null,
            "top": null,
            "visibility": null,
            "width": null
          }
        },
        "c5bb90c2ca184d90811c95e6a168fcb5": {
          "model_module": "@jupyter-widgets/controls",
          "model_name": "DescriptionStyleModel",
          "model_module_version": "1.5.0",
          "state": {
            "_model_module": "@jupyter-widgets/controls",
            "_model_module_version": "1.5.0",
            "_model_name": "DescriptionStyleModel",
            "_view_count": null,
            "_view_module": "@jupyter-widgets/base",
            "_view_module_version": "1.2.0",
            "_view_name": "StyleView",
            "description_width": ""
          }
        },
        "4bc0795007fc40bf9b164b2c53191c96": {
          "model_module": "@jupyter-widgets/base",
          "model_name": "LayoutModel",
          "model_module_version": "1.2.0",
          "state": {
            "_model_module": "@jupyter-widgets/base",
            "_model_module_version": "1.2.0",
            "_model_name": "LayoutModel",
            "_view_count": null,
            "_view_module": "@jupyter-widgets/base",
            "_view_module_version": "1.2.0",
            "_view_name": "LayoutView",
            "align_content": null,
            "align_items": null,
            "align_self": null,
            "border": null,
            "bottom": null,
            "display": null,
            "flex": "2",
            "flex_flow": null,
            "grid_area": null,
            "grid_auto_columns": null,
            "grid_auto_flow": null,
            "grid_auto_rows": null,
            "grid_column": null,
            "grid_gap": null,
            "grid_row": null,
            "grid_template_areas": null,
            "grid_template_columns": null,
            "grid_template_rows": null,
            "height": null,
            "justify_content": null,
            "justify_items": null,
            "left": null,
            "margin": null,
            "max_height": null,
            "max_width": null,
            "min_height": null,
            "min_width": null,
            "object_fit": null,
            "object_position": null,
            "order": null,
            "overflow": null,
            "overflow_x": null,
            "overflow_y": null,
            "padding": null,
            "right": null,
            "top": null,
            "visibility": null,
            "width": null
          }
        },
        "90fa347684cc4a559937f71bc138dc01": {
          "model_module": "@jupyter-widgets/controls",
          "model_name": "ProgressStyleModel",
          "model_module_version": "1.5.0",
          "state": {
            "_model_module": "@jupyter-widgets/controls",
            "_model_module_version": "1.5.0",
            "_model_name": "ProgressStyleModel",
            "_view_count": null,
            "_view_module": "@jupyter-widgets/base",
            "_view_module_version": "1.2.0",
            "_view_name": "StyleView",
            "bar_color": null,
            "description_width": ""
          }
        },
        "dddb5f9076a748deb0280931889889a2": {
          "model_module": "@jupyter-widgets/base",
          "model_name": "LayoutModel",
          "model_module_version": "1.2.0",
          "state": {
            "_model_module": "@jupyter-widgets/base",
            "_model_module_version": "1.2.0",
            "_model_name": "LayoutModel",
            "_view_count": null,
            "_view_module": "@jupyter-widgets/base",
            "_view_module_version": "1.2.0",
            "_view_name": "LayoutView",
            "align_content": null,
            "align_items": null,
            "align_self": null,
            "border": null,
            "bottom": null,
            "display": null,
            "flex": null,
            "flex_flow": null,
            "grid_area": null,
            "grid_auto_columns": null,
            "grid_auto_flow": null,
            "grid_auto_rows": null,
            "grid_column": null,
            "grid_gap": null,
            "grid_row": null,
            "grid_template_areas": null,
            "grid_template_columns": null,
            "grid_template_rows": null,
            "height": null,
            "justify_content": null,
            "justify_items": null,
            "left": null,
            "margin": null,
            "max_height": null,
            "max_width": null,
            "min_height": null,
            "min_width": null,
            "object_fit": null,
            "object_position": null,
            "order": null,
            "overflow": null,
            "overflow_x": null,
            "overflow_y": null,
            "padding": null,
            "right": null,
            "top": null,
            "visibility": null,
            "width": null
          }
        },
        "3a8282b27ba84ec2bd673be66abd340f": {
          "model_module": "@jupyter-widgets/controls",
          "model_name": "DescriptionStyleModel",
          "model_module_version": "1.5.0",
          "state": {
            "_model_module": "@jupyter-widgets/controls",
            "_model_module_version": "1.5.0",
            "_model_name": "DescriptionStyleModel",
            "_view_count": null,
            "_view_module": "@jupyter-widgets/base",
            "_view_module_version": "1.2.0",
            "_view_name": "StyleView",
            "description_width": ""
          }
        }
      }
    }
  },
  "nbformat_minor": 0,
  "nbformat": 4,
  "cells": [
    {
      "cell_type": "markdown",
      "metadata": {
        "id": "view-in-github",
        "colab_type": "text"
      },
      "source": [
        "<a href=\"https://colab.research.google.com/github/ambideXtrous9/T5-FineTuned-Model-for-NewsQA/blob/main/T5%2BBM25.ipynb\" target=\"_parent\"><img src=\"https://colab.research.google.com/assets/colab-badge.svg\" alt=\"Open In Colab\"/></a>"
      ]
    },
    {
      "cell_type": "code",
      "source": [
        "!nvidia-smi"
      ],
      "metadata": {
        "colab": {
          "base_uri": "https://localhost:8080/"
        },
        "id": "IfYGPbI77os7",
        "outputId": "c79a9818-0b3d-4d24-948a-785825ac04d9",
        "execution": {
          "iopub.status.busy": "2023-01-29T18:10:55.851088Z",
          "iopub.execute_input": "2023-01-29T18:10:55.852493Z",
          "iopub.status.idle": "2023-01-29T18:10:56.994341Z",
          "shell.execute_reply.started": "2023-01-29T18:10:55.852445Z",
          "shell.execute_reply": "2023-01-29T18:10:56.993162Z"
        },
        "trusted": true
      },
      "execution_count": 1,
      "outputs": [
        {
          "output_type": "stream",
          "name": "stdout",
          "text": [
            "Thu Feb  2 05:28:11 2023       \n",
            "+-----------------------------------------------------------------------------+\n",
            "| NVIDIA-SMI 510.47.03    Driver Version: 510.47.03    CUDA Version: 11.6     |\n",
            "|-------------------------------+----------------------+----------------------+\n",
            "| GPU  Name        Persistence-M| Bus-Id        Disp.A | Volatile Uncorr. ECC |\n",
            "| Fan  Temp  Perf  Pwr:Usage/Cap|         Memory-Usage | GPU-Util  Compute M. |\n",
            "|                               |                      |               MIG M. |\n",
            "|===============================+======================+======================|\n",
            "|   0  Tesla T4            Off  | 00000000:00:04.0 Off |                    0 |\n",
            "| N/A   53C    P0    25W /  70W |      0MiB / 15360MiB |      0%      Default |\n",
            "|                               |                      |                  N/A |\n",
            "+-------------------------------+----------------------+----------------------+\n",
            "                                                                               \n",
            "+-----------------------------------------------------------------------------+\n",
            "| Processes:                                                                  |\n",
            "|  GPU   GI   CI        PID   Type   Process name                  GPU Memory |\n",
            "|        ID   ID                                                   Usage      |\n",
            "|=============================================================================|\n",
            "|  No running processes found                                                 |\n",
            "+-----------------------------------------------------------------------------+\n"
          ]
        }
      ]
    },
    {
      "cell_type": "code",
      "source": [
        "!pip install --quiet transformers\n",
        "!pip install --quiet pytorch-lightning\n",
        "!pip install --quiet tokenizers\n",
        "!pip install --quiet torch\n",
        "!pip install --quiet rank-bm25"
      ],
      "metadata": {
        "id": "BOGVLURH7teO",
        "execution": {
          "iopub.status.busy": "2023-01-29T18:10:56.998830Z",
          "iopub.execute_input": "2023-01-29T18:10:56.999157Z",
          "iopub.status.idle": "2023-01-29T18:11:37.328156Z",
          "shell.execute_reply.started": "2023-01-29T18:10:56.999126Z",
          "shell.execute_reply": "2023-01-29T18:11:37.326943Z"
        },
        "trusted": true
      },
      "execution_count": 2,
      "outputs": []
    },
    {
      "cell_type": "markdown",
      "source": [
        "# **Import packages**"
      ],
      "metadata": {
        "id": "jrg7sueI-Yac"
      }
    },
    {
      "cell_type": "code",
      "source": [
        "import json\n",
        "import pandas as pd\n",
        "import numpy as np\n",
        "from pathlib import Path\n",
        "\n",
        "from torch.utils.data import Dataset, DataLoader\n",
        "import pytorch_lightning as pl\n",
        "from pytorch_lightning.callbacks import ModelCheckpoint\n",
        "from sklearn.model_selection import train_test_split\n",
        "from termcolor import colored\n",
        "import textwrap\n",
        "from rank_bm25 import BM25Okapi\n",
        "from transformers import (\n",
        "    AdamW,T5ForConditionalGeneration, AutoTokenizer as Tokenizer)"
      ],
      "metadata": {
        "id": "LRtGwHJ38MdG",
        "execution": {
          "iopub.status.busy": "2023-01-29T18:11:37.329933Z",
          "iopub.execute_input": "2023-01-29T18:11:37.330678Z",
          "iopub.status.idle": "2023-01-29T18:11:48.245964Z",
          "shell.execute_reply.started": "2023-01-29T18:11:37.330620Z",
          "shell.execute_reply": "2023-01-29T18:11:48.244811Z"
        },
        "trusted": true
      },
      "execution_count": 3,
      "outputs": []
    },
    {
      "cell_type": "code",
      "source": [
        "pl.seed_everything (42)"
      ],
      "metadata": {
        "colab": {
          "base_uri": "https://localhost:8080/"
        },
        "id": "f5wjWNJa9NS0",
        "outputId": "fca05163-c9bf-4bf2-8581-f9f77292b2c4",
        "execution": {
          "iopub.status.busy": "2023-01-29T18:11:48.247696Z",
          "iopub.execute_input": "2023-01-29T18:11:48.248460Z",
          "iopub.status.idle": "2023-01-29T18:11:48.261637Z",
          "shell.execute_reply.started": "2023-01-29T18:11:48.248417Z",
          "shell.execute_reply": "2023-01-29T18:11:48.260318Z"
        },
        "trusted": true
      },
      "execution_count": 4,
      "outputs": [
        {
          "output_type": "stream",
          "name": "stderr",
          "text": [
            "INFO:lightning_fabric.utilities.seed:Global seed set to 42\n"
          ]
        },
        {
          "output_type": "execute_result",
          "data": {
            "text/plain": [
              "42"
            ]
          },
          "metadata": {},
          "execution_count": 4
        }
      ]
    },
    {
      "cell_type": "markdown",
      "source": [
        "# **Dataset**"
      ],
      "metadata": {
        "id": "ZW8NFj2v_vMy"
      }
    },
    {
      "cell_type": "code",
      "source": [
        "from google.colab import drive\n",
        "drive.mount('/content/drive')"
      ],
      "metadata": {
        "colab": {
          "base_uri": "https://localhost:8080/"
        },
        "id": "ePjLzHoyC1qI",
        "outputId": "83f41705-a432-4a65-d856-905a02e28dff"
      },
      "execution_count": 5,
      "outputs": [
        {
          "output_type": "stream",
          "name": "stdout",
          "text": [
            "Drive already mounted at /content/drive; to attempt to forcibly remount, call drive.mount(\"/content/drive\", force_remount=True).\n"
          ]
        }
      ]
    },
    {
      "cell_type": "code",
      "source": [
        "path = '/content/drive/MyDrive/MTP CODE/NewsQA_SPAN.feather'"
      ],
      "metadata": {
        "id": "lNVnF2Ox-XW3",
        "execution": {
          "iopub.status.busy": "2023-01-29T18:11:48.266678Z",
          "iopub.execute_input": "2023-01-29T18:11:48.267309Z",
          "iopub.status.idle": "2023-01-29T18:11:48.271679Z",
          "shell.execute_reply.started": "2023-01-29T18:11:48.267270Z",
          "shell.execute_reply": "2023-01-29T18:11:48.270682Z"
        },
        "trusted": true
      },
      "execution_count": 6,
      "outputs": []
    },
    {
      "cell_type": "code",
      "source": [
        "df = pd.read_feather(path)\n",
        "df"
      ],
      "metadata": {
        "colab": {
          "base_uri": "https://localhost:8080/",
          "height": 423
        },
        "id": "VAKoobAp-w2T",
        "outputId": "1898ef58-69e5-4799-eb1d-d5e11073e982",
        "execution": {
          "iopub.status.busy": "2023-01-29T18:11:48.273217Z",
          "iopub.execute_input": "2023-01-29T18:11:48.274016Z",
          "iopub.status.idle": "2023-01-29T18:11:50.330411Z",
          "shell.execute_reply.started": "2023-01-29T18:11:48.273978Z",
          "shell.execute_reply": "2023-01-29T18:11:50.329362Z"
        },
        "trusted": true
      },
      "execution_count": 7,
      "outputs": [
        {
          "output_type": "execute_result",
          "data": {
            "text/plain": [
              "                                                 question  \\\n",
              "0       Who is the managing director of Synergee Capital?   \n",
              "1       What is the yield of 30- and 40-year governmen...   \n",
              "2       What is the name of the ETF 2027 that a conser...   \n",
              "3       When would a conservative fixed income investo...   \n",
              "4       What year would a conservative fixed income in...   \n",
              "...                                                   ...   \n",
              "481753  When does Uncle Sam reopen for fully vaccinate...   \n",
              "481754  When will there be three more weekly flights b...   \n",
              "481755  What type of 777s would have helped AI have mo...   \n",
              "481756            What was the first wave of AI nonstops?   \n",
              "481757  Before the second wave, AI had about 40 weekly...   \n",
              "\n",
              "                              answer     ans_pos  \\\n",
              "0                       Vikram Dalal  [133, 145]   \n",
              "1                                 7%  [565, 567]   \n",
              "2                                SDL  [209, 212]   \n",
              "3                               2027  [217, 221]   \n",
              "4                               2040  [260, 264]   \n",
              "...                              ...         ...   \n",
              "481753                    November 8  [295, 305]   \n",
              "481754  from second week of November  [116, 144]   \n",
              "481755                        Boeing  [306, 312]   \n",
              "481756                        second    [11, 17]   \n",
              "481757                            US    [59, 61]   \n",
              "\n",
              "                                                paragraph  answer_start  \\\n",
              "0        \"Investors can use a combination of governmen...           133   \n",
              "1        \"Investors can use a combination of governmen...           565   \n",
              "2        According to financial planners, an example o...           209   \n",
              "3        According to financial planners, an example o...           217   \n",
              "4        According to financial planners, an example o...           260   \n",
              "...                                                   ...           ...   \n",
              "481753  NEW DELHI: This could be the last expansion of...           295   \n",
              "481754  It currently has 23 weekly flights to America....           116   \n",
              "481755  It currently has 23 weekly flights to America....           306   \n",
              "481756  Before the second wave this summer, AI had abo...            11   \n",
              "481757  Before the second wave this summer, AI had abo...            59   \n",
              "\n",
              "        answer_end  \n",
              "0              145  \n",
              "1              567  \n",
              "2              212  \n",
              "3              221  \n",
              "4              264  \n",
              "...            ...  \n",
              "481753         305  \n",
              "481754         144  \n",
              "481755         312  \n",
              "481756          17  \n",
              "481757          61  \n",
              "\n",
              "[481758 rows x 6 columns]"
            ],
            "text/html": [
              "\n",
              "  <div id=\"df-19274f2b-feb3-48f6-828a-b0e2eb144c12\">\n",
              "    <div class=\"colab-df-container\">\n",
              "      <div>\n",
              "<style scoped>\n",
              "    .dataframe tbody tr th:only-of-type {\n",
              "        vertical-align: middle;\n",
              "    }\n",
              "\n",
              "    .dataframe tbody tr th {\n",
              "        vertical-align: top;\n",
              "    }\n",
              "\n",
              "    .dataframe thead th {\n",
              "        text-align: right;\n",
              "    }\n",
              "</style>\n",
              "<table border=\"1\" class=\"dataframe\">\n",
              "  <thead>\n",
              "    <tr style=\"text-align: right;\">\n",
              "      <th></th>\n",
              "      <th>question</th>\n",
              "      <th>answer</th>\n",
              "      <th>ans_pos</th>\n",
              "      <th>paragraph</th>\n",
              "      <th>answer_start</th>\n",
              "      <th>answer_end</th>\n",
              "    </tr>\n",
              "  </thead>\n",
              "  <tbody>\n",
              "    <tr>\n",
              "      <th>0</th>\n",
              "      <td>Who is the managing director of Synergee Capital?</td>\n",
              "      <td>Vikram Dalal</td>\n",
              "      <td>[133, 145]</td>\n",
              "      <td>\"Investors can use a combination of governmen...</td>\n",
              "      <td>133</td>\n",
              "      <td>145</td>\n",
              "    </tr>\n",
              "    <tr>\n",
              "      <th>1</th>\n",
              "      <td>What is the yield of 30- and 40-year governmen...</td>\n",
              "      <td>7%</td>\n",
              "      <td>[565, 567]</td>\n",
              "      <td>\"Investors can use a combination of governmen...</td>\n",
              "      <td>565</td>\n",
              "      <td>567</td>\n",
              "    </tr>\n",
              "    <tr>\n",
              "      <th>2</th>\n",
              "      <td>What is the name of the ETF 2027 that a conser...</td>\n",
              "      <td>SDL</td>\n",
              "      <td>[209, 212]</td>\n",
              "      <td>According to financial planners, an example o...</td>\n",
              "      <td>209</td>\n",
              "      <td>212</td>\n",
              "    </tr>\n",
              "    <tr>\n",
              "      <th>3</th>\n",
              "      <td>When would a conservative fixed income investo...</td>\n",
              "      <td>2027</td>\n",
              "      <td>[217, 221]</td>\n",
              "      <td>According to financial planners, an example o...</td>\n",
              "      <td>217</td>\n",
              "      <td>221</td>\n",
              "    </tr>\n",
              "    <tr>\n",
              "      <th>4</th>\n",
              "      <td>What year would a conservative fixed income in...</td>\n",
              "      <td>2040</td>\n",
              "      <td>[260, 264]</td>\n",
              "      <td>According to financial planners, an example o...</td>\n",
              "      <td>260</td>\n",
              "      <td>264</td>\n",
              "    </tr>\n",
              "    <tr>\n",
              "      <th>...</th>\n",
              "      <td>...</td>\n",
              "      <td>...</td>\n",
              "      <td>...</td>\n",
              "      <td>...</td>\n",
              "      <td>...</td>\n",
              "      <td>...</td>\n",
              "    </tr>\n",
              "    <tr>\n",
              "      <th>481753</th>\n",
              "      <td>When does Uncle Sam reopen for fully vaccinate...</td>\n",
              "      <td>November 8</td>\n",
              "      <td>[295, 305]</td>\n",
              "      <td>NEW DELHI: This could be the last expansion of...</td>\n",
              "      <td>295</td>\n",
              "      <td>305</td>\n",
              "    </tr>\n",
              "    <tr>\n",
              "      <th>481754</th>\n",
              "      <td>When will there be three more weekly flights b...</td>\n",
              "      <td>from second week of November</td>\n",
              "      <td>[116, 144]</td>\n",
              "      <td>It currently has 23 weekly flights to America....</td>\n",
              "      <td>116</td>\n",
              "      <td>144</td>\n",
              "    </tr>\n",
              "    <tr>\n",
              "      <th>481755</th>\n",
              "      <td>What type of 777s would have helped AI have mo...</td>\n",
              "      <td>Boeing</td>\n",
              "      <td>[306, 312]</td>\n",
              "      <td>It currently has 23 weekly flights to America....</td>\n",
              "      <td>306</td>\n",
              "      <td>312</td>\n",
              "    </tr>\n",
              "    <tr>\n",
              "      <th>481756</th>\n",
              "      <td>What was the first wave of AI nonstops?</td>\n",
              "      <td>second</td>\n",
              "      <td>[11, 17]</td>\n",
              "      <td>Before the second wave this summer, AI had abo...</td>\n",
              "      <td>11</td>\n",
              "      <td>17</td>\n",
              "    </tr>\n",
              "    <tr>\n",
              "      <th>481757</th>\n",
              "      <td>Before the second wave, AI had about 40 weekly...</td>\n",
              "      <td>US</td>\n",
              "      <td>[59, 61]</td>\n",
              "      <td>Before the second wave this summer, AI had abo...</td>\n",
              "      <td>59</td>\n",
              "      <td>61</td>\n",
              "    </tr>\n",
              "  </tbody>\n",
              "</table>\n",
              "<p>481758 rows × 6 columns</p>\n",
              "</div>\n",
              "      <button class=\"colab-df-convert\" onclick=\"convertToInteractive('df-19274f2b-feb3-48f6-828a-b0e2eb144c12')\"\n",
              "              title=\"Convert this dataframe to an interactive table.\"\n",
              "              style=\"display:none;\">\n",
              "        \n",
              "  <svg xmlns=\"http://www.w3.org/2000/svg\" height=\"24px\"viewBox=\"0 0 24 24\"\n",
              "       width=\"24px\">\n",
              "    <path d=\"M0 0h24v24H0V0z\" fill=\"none\"/>\n",
              "    <path d=\"M18.56 5.44l.94 2.06.94-2.06 2.06-.94-2.06-.94-.94-2.06-.94 2.06-2.06.94zm-11 1L8.5 8.5l.94-2.06 2.06-.94-2.06-.94L8.5 2.5l-.94 2.06-2.06.94zm10 10l.94 2.06.94-2.06 2.06-.94-2.06-.94-.94-2.06-.94 2.06-2.06.94z\"/><path d=\"M17.41 7.96l-1.37-1.37c-.4-.4-.92-.59-1.43-.59-.52 0-1.04.2-1.43.59L10.3 9.45l-7.72 7.72c-.78.78-.78 2.05 0 2.83L4 21.41c.39.39.9.59 1.41.59.51 0 1.02-.2 1.41-.59l7.78-7.78 2.81-2.81c.8-.78.8-2.07 0-2.86zM5.41 20L4 18.59l7.72-7.72 1.47 1.35L5.41 20z\"/>\n",
              "  </svg>\n",
              "      </button>\n",
              "      \n",
              "  <style>\n",
              "    .colab-df-container {\n",
              "      display:flex;\n",
              "      flex-wrap:wrap;\n",
              "      gap: 12px;\n",
              "    }\n",
              "\n",
              "    .colab-df-convert {\n",
              "      background-color: #E8F0FE;\n",
              "      border: none;\n",
              "      border-radius: 50%;\n",
              "      cursor: pointer;\n",
              "      display: none;\n",
              "      fill: #1967D2;\n",
              "      height: 32px;\n",
              "      padding: 0 0 0 0;\n",
              "      width: 32px;\n",
              "    }\n",
              "\n",
              "    .colab-df-convert:hover {\n",
              "      background-color: #E2EBFA;\n",
              "      box-shadow: 0px 1px 2px rgba(60, 64, 67, 0.3), 0px 1px 3px 1px rgba(60, 64, 67, 0.15);\n",
              "      fill: #174EA6;\n",
              "    }\n",
              "\n",
              "    [theme=dark] .colab-df-convert {\n",
              "      background-color: #3B4455;\n",
              "      fill: #D2E3FC;\n",
              "    }\n",
              "\n",
              "    [theme=dark] .colab-df-convert:hover {\n",
              "      background-color: #434B5C;\n",
              "      box-shadow: 0px 1px 3px 1px rgba(0, 0, 0, 0.15);\n",
              "      filter: drop-shadow(0px 1px 2px rgba(0, 0, 0, 0.3));\n",
              "      fill: #FFFFFF;\n",
              "    }\n",
              "  </style>\n",
              "\n",
              "      <script>\n",
              "        const buttonEl =\n",
              "          document.querySelector('#df-19274f2b-feb3-48f6-828a-b0e2eb144c12 button.colab-df-convert');\n",
              "        buttonEl.style.display =\n",
              "          google.colab.kernel.accessAllowed ? 'block' : 'none';\n",
              "\n",
              "        async function convertToInteractive(key) {\n",
              "          const element = document.querySelector('#df-19274f2b-feb3-48f6-828a-b0e2eb144c12');\n",
              "          const dataTable =\n",
              "            await google.colab.kernel.invokeFunction('convertToInteractive',\n",
              "                                                     [key], {});\n",
              "          if (!dataTable) return;\n",
              "\n",
              "          const docLinkHtml = 'Like what you see? Visit the ' +\n",
              "            '<a target=\"_blank\" href=https://colab.research.google.com/notebooks/data_table.ipynb>data table notebook</a>'\n",
              "            + ' to learn more about interactive tables.';\n",
              "          element.innerHTML = '';\n",
              "          dataTable['output_type'] = 'display_data';\n",
              "          await google.colab.output.renderOutput(dataTable, element);\n",
              "          const docLink = document.createElement('div');\n",
              "          docLink.innerHTML = docLinkHtml;\n",
              "          element.appendChild(docLink);\n",
              "        }\n",
              "      </script>\n",
              "    </div>\n",
              "  </div>\n",
              "  "
            ]
          },
          "metadata": {},
          "execution_count": 7
        }
      ]
    },
    {
      "cell_type": "code",
      "source": [
        "df = df.iloc[:5000]"
      ],
      "metadata": {
        "id": "-sPYt2X90rYb",
        "execution": {
          "iopub.status.busy": "2023-01-29T18:11:50.331881Z",
          "iopub.execute_input": "2023-01-29T18:11:50.333908Z",
          "iopub.status.idle": "2023-01-29T18:11:50.338843Z",
          "shell.execute_reply.started": "2023-01-29T18:11:50.333865Z",
          "shell.execute_reply": "2023-01-29T18:11:50.337681Z"
        },
        "trusted": true
      },
      "execution_count": 8,
      "outputs": []
    },
    {
      "cell_type": "markdown",
      "source": [
        "# **Tokenization**"
      ],
      "metadata": {
        "id": "QtmR_cUM_pVP"
      }
    },
    {
      "cell_type": "code",
      "source": [
        "corpus = df['paragraph'].tolist()\n",
        "tokenized_corpus = [doc.lower().split(\" \") for doc in corpus]\n",
        "bm25 = BM25Okapi(tokenized_corpus)"
      ],
      "metadata": {
        "id": "u_MDp56teweM"
      },
      "execution_count": 9,
      "outputs": []
    },
    {
      "cell_type": "code",
      "source": [
        "MODEL_NAME = 't5-base'"
      ],
      "metadata": {
        "id": "N73_9CLJ-0a6",
        "execution": {
          "iopub.status.busy": "2023-01-29T18:11:50.340410Z",
          "iopub.execute_input": "2023-01-29T18:11:50.341116Z",
          "iopub.status.idle": "2023-01-29T18:11:50.350612Z",
          "shell.execute_reply.started": "2023-01-29T18:11:50.341078Z",
          "shell.execute_reply": "2023-01-29T18:11:50.349746Z"
        },
        "trusted": true
      },
      "execution_count": 10,
      "outputs": []
    },
    {
      "cell_type": "code",
      "source": [
        "tokenizer = Tokenizer.from_pretrained(MODEL_NAME)"
      ],
      "metadata": {
        "colab": {
          "base_uri": "https://localhost:8080/"
        },
        "id": "l1fNyhiw_3di",
        "outputId": "e64fb36d-7462-448a-9ca6-3595325960db",
        "execution": {
          "iopub.status.busy": "2023-01-29T18:11:50.351756Z",
          "iopub.execute_input": "2023-01-29T18:11:50.353475Z",
          "iopub.status.idle": "2023-01-29T18:11:52.498602Z",
          "shell.execute_reply.started": "2023-01-29T18:11:50.353434Z",
          "shell.execute_reply": "2023-01-29T18:11:52.497407Z"
        },
        "trusted": true
      },
      "execution_count": 11,
      "outputs": [
        {
          "output_type": "stream",
          "name": "stderr",
          "text": [
            "/usr/local/lib/python3.8/dist-packages/transformers/models/t5/tokenization_t5_fast.py:155: FutureWarning: This tokenizer was incorrectly instantiated with a model max length of 512 which will be corrected in Transformers v5.\n",
            "For now, this behavior is kept to avoid breaking backwards compatibility when padding/encoding with `truncation is True`.\n",
            "- Be aware that you SHOULD NOT rely on t5-base automatically truncating your input to 512 when padding/encoding.\n",
            "- If you want to encode/pad to sequences longer than 512 you can either instantiate this tokenizer with `model_max_length` or pass `max_length` when encoding/padding.\n",
            "- To avoid this warning, please instantiate this tokenizer with `model_max_length` set to your preferred value.\n",
            "  warnings.warn(\n"
          ]
        }
      ]
    },
    {
      "cell_type": "code",
      "source": [
        "class NQADataset(Dataset):\n",
        "  def __init__(self,data : pd.DataFrame,tokenizer : Tokenizer,source_max_token_len : int = 400,target_max_token_len : int = 32):\n",
        "\n",
        "    self.tokenizer = tokenizer\n",
        "    self.data = data\n",
        "    self.source_max_token_len = source_max_token_len\n",
        "    self.target_max_token_len = target_max_token_len\n",
        "\n",
        "  def __len__(self):\n",
        "    return len(self.data)\n",
        "  \n",
        "  def __getitem__(self,index : int):\n",
        "    data_row = self.data.iloc[index]\n",
        "\n",
        "    ques = data_row['question']\n",
        "    scores = bm25.get_scores(ques.lower().split(\" \"))\n",
        "    best_match = np.argmax(scores)\n",
        "    context = df.iloc[best_match]['paragraph']\n",
        "\n",
        "    \n",
        "\n",
        "    source_encoding = tokenizer(\n",
        "        ques,\n",
        "        context,\n",
        "        max_length = self.source_max_token_len,\n",
        "        padding = \"max_length\",\n",
        "        truncation = \"only_second\",\n",
        "        return_attention_mask = True,\n",
        "        add_special_tokens = True,\n",
        "        return_tensors = \"pt\")\n",
        "    \n",
        "    target_encoding = tokenizer(\n",
        "        data_row['answer'],\n",
        "        max_length = self.target_max_token_len,\n",
        "        padding = \"max_length\",\n",
        "        truncation = True,\n",
        "        return_attention_mask = True,\n",
        "        add_special_tokens = True,\n",
        "        return_tensors = \"pt\")\n",
        "    \n",
        "    labels = target_encoding[\"input_ids\"]\n",
        "    labels[labels == 0] = -100\n",
        "\n",
        "    return dict(\n",
        "        input_ids = source_encoding['input_ids'].flatten(),\n",
        "        attention_mask = source_encoding['attention_mask'].flatten(),\n",
        "        labels = labels.flatten())"
      ],
      "metadata": {
        "id": "jhBqD-CFACSc",
        "execution": {
          "iopub.status.busy": "2023-01-29T18:11:52.500187Z",
          "iopub.execute_input": "2023-01-29T18:11:52.500806Z",
          "iopub.status.idle": "2023-01-29T18:11:52.511516Z",
          "shell.execute_reply.started": "2023-01-29T18:11:52.500764Z",
          "shell.execute_reply": "2023-01-29T18:11:52.510404Z"
        },
        "trusted": true
      },
      "execution_count": 12,
      "outputs": []
    },
    {
      "cell_type": "code",
      "source": [
        "sample_dataset = NQADataset(df,tokenizer)"
      ],
      "metadata": {
        "id": "T_4YjQRyEat9",
        "execution": {
          "iopub.status.busy": "2023-01-29T18:11:52.513443Z",
          "iopub.execute_input": "2023-01-29T18:11:52.513880Z",
          "iopub.status.idle": "2023-01-29T18:11:52.525111Z",
          "shell.execute_reply.started": "2023-01-29T18:11:52.513841Z",
          "shell.execute_reply": "2023-01-29T18:11:52.524011Z"
        },
        "trusted": true
      },
      "execution_count": 13,
      "outputs": []
    },
    {
      "cell_type": "code",
      "source": [
        "for data in sample_dataset:\n",
        "  print(data['input_ids'][:10])\n",
        "  print(data['labels'][:10])\n",
        "  break\n"
      ],
      "metadata": {
        "colab": {
          "base_uri": "https://localhost:8080/"
        },
        "id": "15Hs0K2zEmGZ",
        "outputId": "3bde01ad-c877-48eb-e4b9-808bfd49d3c2",
        "execution": {
          "iopub.status.busy": "2023-01-29T18:11:52.526817Z",
          "iopub.execute_input": "2023-01-29T18:11:52.527216Z",
          "iopub.status.idle": "2023-01-29T18:11:52.548516Z",
          "shell.execute_reply.started": "2023-01-29T18:11:52.527164Z",
          "shell.execute_reply": "2023-01-29T18:11:52.547269Z"
        },
        "trusted": true
      },
      "execution_count": 14,
      "outputs": [
        {
          "output_type": "stream",
          "name": "stdout",
          "text": [
            "tensor([2645,   19,    8, 5037, 2090,   13, 8951,   49,  397,   15])\n",
            "tensor([ 1813,   157,  2375, 10729,   138,     1,  -100,  -100,  -100,  -100])\n"
          ]
        }
      ]
    },
    {
      "cell_type": "code",
      "source": [
        "train_df, val_df = train_test_split(df,test_size=0.1)"
      ],
      "metadata": {
        "id": "1vPyMu7JFhZT",
        "execution": {
          "iopub.status.busy": "2023-01-29T18:11:52.549943Z",
          "iopub.execute_input": "2023-01-29T18:11:52.550741Z",
          "iopub.status.idle": "2023-01-29T18:11:52.559380Z",
          "shell.execute_reply.started": "2023-01-29T18:11:52.550704Z",
          "shell.execute_reply": "2023-01-29T18:11:52.558403Z"
        },
        "trusted": true
      },
      "execution_count": 15,
      "outputs": []
    },
    {
      "cell_type": "code",
      "source": [
        "train_df.shape, val_df.shape"
      ],
      "metadata": {
        "colab": {
          "base_uri": "https://localhost:8080/"
        },
        "id": "Fx4RKkvZJuN-",
        "outputId": "f329206f-dd72-483f-fc75-2c2ba0a4154b",
        "execution": {
          "iopub.status.busy": "2023-01-29T18:11:52.564159Z",
          "iopub.execute_input": "2023-01-29T18:11:52.564476Z",
          "iopub.status.idle": "2023-01-29T18:11:52.572239Z",
          "shell.execute_reply.started": "2023-01-29T18:11:52.564450Z",
          "shell.execute_reply": "2023-01-29T18:11:52.571057Z"
        },
        "trusted": true
      },
      "execution_count": 16,
      "outputs": [
        {
          "output_type": "execute_result",
          "data": {
            "text/plain": [
              "((4500, 6), (500, 6))"
            ]
          },
          "metadata": {},
          "execution_count": 16
        }
      ]
    },
    {
      "cell_type": "code",
      "source": [
        "class NQADataModule(pl.LightningDataModule):\n",
        "  def __init__(self,train_df : pd.DataFrame,test_df : pd.DataFrame,tokenizer : Tokenizer,batch_size : int = 8,source_max_token_len : int = 400,target_max_token_len : int = 32):\n",
        "    super().__init__()\n",
        "    self.batch_size = batch_size\n",
        "    self.train_df = train_df\n",
        "    self.test_df = test_df\n",
        "    self.tokenizer = tokenizer\n",
        "    self.source_max_token_len = source_max_token_len\n",
        "    self.target_max_token_len = target_max_token_len\n",
        "\n",
        "  def setup(self,stage=None):\n",
        "    self.train_dataset = NQADataset(self.train_df,self.tokenizer,self.source_max_token_len,self.target_max_token_len)\n",
        "    self.test_dataset = NQADataset(self.test_df,self.tokenizer,self.source_max_token_len,self.target_max_token_len)\n",
        "\n",
        "  def train_dataloader(self):\n",
        "    return DataLoader(self.train_dataset,batch_size = self.batch_size,shuffle=True,num_workers=4)\n",
        "\n",
        "  def val_dataloader(self):\n",
        "    return DataLoader(self.test_dataset,batch_size = self.batch_size,num_workers=4)\n",
        "\n",
        "  def test_dataloader(self):\n",
        "    return DataLoader(self.test_dataset,batch_size = self.batch_size,num_workers=4)   "
      ],
      "metadata": {
        "id": "Vow-rDE0JzP7",
        "execution": {
          "iopub.status.busy": "2023-01-29T18:11:52.573492Z",
          "iopub.execute_input": "2023-01-29T18:11:52.574049Z",
          "iopub.status.idle": "2023-01-29T18:11:52.585814Z",
          "shell.execute_reply.started": "2023-01-29T18:11:52.574013Z",
          "shell.execute_reply": "2023-01-29T18:11:52.584832Z"
        },
        "trusted": true
      },
      "execution_count": 17,
      "outputs": []
    },
    {
      "cell_type": "code",
      "source": [
        "type(train_df)"
      ],
      "metadata": {
        "colab": {
          "base_uri": "https://localhost:8080/"
        },
        "id": "BPZUV0R7u7h7",
        "outputId": "67dc364f-7f73-4ba2-bb78-d89286488cd4",
        "execution": {
          "iopub.status.busy": "2023-01-29T18:11:52.587466Z",
          "iopub.execute_input": "2023-01-29T18:11:52.588153Z",
          "iopub.status.idle": "2023-01-29T18:11:52.599838Z",
          "shell.execute_reply.started": "2023-01-29T18:11:52.588118Z",
          "shell.execute_reply": "2023-01-29T18:11:52.598853Z"
        },
        "trusted": true
      },
      "execution_count": 19,
      "outputs": [
        {
          "output_type": "execute_result",
          "data": {
            "text/plain": [
              "pandas.core.frame.DataFrame"
            ]
          },
          "metadata": {},
          "execution_count": 19
        }
      ]
    },
    {
      "cell_type": "code",
      "source": [
        "BATCH_SIZE = 2\n",
        "N_EPOCHS = 3\n",
        "\n",
        "data_module = NQADataModule(train_df,val_df,tokenizer,batch_size = BATCH_SIZE)\n",
        "data_module.setup()"
      ],
      "metadata": {
        "id": "0CqS_ZxvPTa-",
        "execution": {
          "iopub.status.busy": "2023-01-29T18:11:52.603114Z",
          "iopub.execute_input": "2023-01-29T18:11:52.603399Z",
          "iopub.status.idle": "2023-01-29T18:11:52.610270Z",
          "shell.execute_reply.started": "2023-01-29T18:11:52.603373Z",
          "shell.execute_reply": "2023-01-29T18:11:52.609309Z"
        },
        "trusted": true
      },
      "execution_count": 18,
      "outputs": []
    },
    {
      "cell_type": "code",
      "source": [
        "class NQAModel(pl.LightningModule):\n",
        "  def __init__(self):\n",
        "    super().__init__()\n",
        "    self.model = T5ForConditionalGeneration.from_pretrained(MODEL_NAME,return_dict=True)\n",
        "\n",
        "  def forward(self,input_ids,attention_mask,labels=None):\n",
        "    output = self.model(\n",
        "        input_ids = input_ids,\n",
        "        attention_mask = attention_mask,\n",
        "        labels = labels)\n",
        "    \n",
        "    return output.loss, output.logits\n",
        "\n",
        "  def training_step(self,batch,batch_idx):\n",
        "    input_ids = batch['input_ids']\n",
        "    attention_mask = batch['attention_mask']\n",
        "    labels = batch['labels']\n",
        "    loss, outputs = self(input_ids,attention_mask,labels)\n",
        "    self.log(\"train_loss\",loss,prog_bar=True,logger=True)\n",
        "    return loss\n",
        "\n",
        "  def validation_step(self,batch,batch_idx):\n",
        "    input_ids = batch['input_ids']\n",
        "    attention_mask = batch['attention_mask']\n",
        "    labels = batch['labels']\n",
        "    loss, outputs = self(input_ids,attention_mask,labels)\n",
        "    self.log(\"val_loss\",loss,prog_bar=True,logger=True)\n",
        "    return loss\n",
        "\n",
        "  def test_step(self,batch,batch_idx):\n",
        "    input_ids = batch['input_ids']\n",
        "    attention_mask = batch['attention_mask']\n",
        "    labels = batch['labels']\n",
        "    loss, outputs = self(input_ids,attention_mask,labels)\n",
        "    self.log(\"test_loss\",loss,prog_bar=True,logger=True)\n",
        "    return loss\n",
        "\n",
        "  def configure_optimizers(self):\n",
        "    return AdamW(self.parameters(),lr = 0.0001)"
      ],
      "metadata": {
        "id": "8ED4aqyfPzh0",
        "execution": {
          "iopub.status.busy": "2023-01-29T18:11:52.611839Z",
          "iopub.execute_input": "2023-01-29T18:11:52.612404Z",
          "iopub.status.idle": "2023-01-29T18:11:52.626889Z",
          "shell.execute_reply.started": "2023-01-29T18:11:52.612370Z",
          "shell.execute_reply": "2023-01-29T18:11:52.625797Z"
        },
        "trusted": true
      },
      "execution_count": 19,
      "outputs": []
    },
    {
      "cell_type": "code",
      "source": [
        "model = NQAModel()"
      ],
      "metadata": {
        "id": "VPzLypoprIxC",
        "execution": {
          "iopub.status.busy": "2023-01-29T18:11:52.628760Z",
          "iopub.execute_input": "2023-01-29T18:11:52.629074Z",
          "iopub.status.idle": "2023-01-29T18:12:28.041124Z",
          "shell.execute_reply.started": "2023-01-29T18:11:52.629042Z",
          "shell.execute_reply": "2023-01-29T18:12:28.040111Z"
        },
        "trusted": true
      },
      "execution_count": 20,
      "outputs": []
    },
    {
      "cell_type": "code",
      "source": [
        "checkpoint_callback = ModelCheckpoint(\n",
        "    dirpath = 'checkpoints',\n",
        "    filename = 'best_cp',\n",
        "    save_top_k = 1,\n",
        "    verbose = True,\n",
        "    monitor = 'val_loss',\n",
        "    mode = 'min'\n",
        ")"
      ],
      "metadata": {
        "id": "mc2MJG-Qrnfy",
        "execution": {
          "iopub.status.busy": "2023-01-29T18:12:28.042873Z",
          "iopub.execute_input": "2023-01-29T18:12:28.043252Z",
          "iopub.status.idle": "2023-01-29T18:12:28.053031Z",
          "shell.execute_reply.started": "2023-01-29T18:12:28.043199Z",
          "shell.execute_reply": "2023-01-29T18:12:28.052152Z"
        },
        "trusted": true
      },
      "execution_count": 21,
      "outputs": []
    },
    {
      "cell_type": "code",
      "source": [
        "trainer = pl.Trainer(\n",
        "    callbacks=[checkpoint_callback],\n",
        "    max_epochs = N_EPOCHS,\n",
        "    gpus = -1\n",
        ")"
      ],
      "metadata": {
        "colab": {
          "base_uri": "https://localhost:8080/"
        },
        "id": "3w3DoSKfsNa0",
        "outputId": "ad85f5c7-fb8f-46fe-fdb5-1e58835a985a",
        "execution": {
          "iopub.status.busy": "2023-01-29T18:12:28.054308Z",
          "iopub.execute_input": "2023-01-29T18:12:28.054738Z",
          "iopub.status.idle": "2023-01-29T18:12:29.746231Z",
          "shell.execute_reply.started": "2023-01-29T18:12:28.054702Z",
          "shell.execute_reply": "2023-01-29T18:12:29.745188Z"
        },
        "trusted": true
      },
      "execution_count": 22,
      "outputs": [
        {
          "output_type": "stream",
          "name": "stderr",
          "text": [
            "/usr/local/lib/python3.8/dist-packages/pytorch_lightning/trainer/connectors/accelerator_connector.py:467: LightningDeprecationWarning: Setting `Trainer(gpus=-1)` is deprecated in v1.7 and will be removed in v2.0. Please use `Trainer(accelerator='gpu', devices=-1)` instead.\n",
            "  rank_zero_deprecation(\n",
            "INFO:pytorch_lightning.utilities.rank_zero:GPU available: True (cuda), used: True\n",
            "INFO:pytorch_lightning.utilities.rank_zero:TPU available: False, using: 0 TPU cores\n",
            "INFO:pytorch_lightning.utilities.rank_zero:IPU available: False, using: 0 IPUs\n",
            "INFO:pytorch_lightning.utilities.rank_zero:HPU available: False, using: 0 HPUs\n"
          ]
        }
      ]
    },
    {
      "cell_type": "code",
      "source": [
        "!rm -rf checkpoints\n",
        "!rm -rf lightning_logs"
      ],
      "metadata": {
        "id": "wE2rnKHE3QCW",
        "execution": {
          "iopub.status.busy": "2023-01-29T18:12:29.747716Z",
          "iopub.execute_input": "2023-01-29T18:12:29.748373Z",
          "iopub.status.idle": "2023-01-29T18:12:31.799403Z",
          "shell.execute_reply.started": "2023-01-29T18:12:29.748332Z",
          "shell.execute_reply": "2023-01-29T18:12:31.797999Z"
        },
        "trusted": true
      },
      "execution_count": 25,
      "outputs": []
    },
    {
      "cell_type": "code",
      "source": [
        "trainer.fit(model,data_module)"
      ],
      "metadata": {
        "colab": {
          "base_uri": "https://localhost:8080/",
          "height": 364,
          "referenced_widgets": [
            "864f6fcb5ebe4a29b65b0bf1ed7d4e26",
            "6a8fc5e37ee44693a9f58405011addeb",
            "8c6d0c7922e2467e9464c0988ece3839",
            "e2405a9e08954f10b37f938a7aab54b3",
            "87f8e15155d544ac907c0b1bd9e9f242",
            "a41c129cf8a04a4594c7c4b13cc745b2",
            "44cdc6c401af4ef7ac745161be1ac4b1",
            "22eca153bf8648d38164953fef2045e8",
            "97e2b58739904994a5f4406672edae30",
            "32a0cea353da4f2bb1ad498447cbcb80",
            "25634a4f32bd4c86acca985cb74647e7",
            "9233cf49d80148e1ac009cbe5640c562",
            "33394a57c3b94f1686fd236ed00b2894",
            "a7c475f14cfb4dd48fd738bff851a56e",
            "6b34cb6f29b146ee89cdd368e620d4b0",
            "af9e956c6e924f339c6167c4a4e572eb",
            "6cf246011598406595510bfeccaf1cbd",
            "f34689a5cad246669f04d94790ac624b",
            "9408606a52ab4f4880d0f54e1cc0676a",
            "039a517cf7e2450cb3b123b02f95520e",
            "e37c8d006371485a81c6b363284fe0cd",
            "ec0663eaa1d041de8e329a06ae0265dc",
            "c1eac48782a34314ad71ad2df2ad1faa",
            "cf9a68df5d2a4c8b9924d89e6a2ab908",
            "a28ac4da6e8542e5bb7b3d750e754013",
            "c2141d25906841268e7992174a8ef2b6",
            "3d7fb331c82d42b099a1a8966fda89b8",
            "6d3268813f844723b57960b4450331ac",
            "05da211cb7194568b37030c898d2b82b",
            "f77bd3afcba4481387b9eba703daaa53",
            "a726ad1f13484a6ba71c2a4fac82afa0",
            "ba8a181925b14d63aa92f9c048238796",
            "000c10f918dc47b3894cc0e614da807a",
            "a4d25422c5ba4f79b0bb4fc348f85990",
            "b313ec79f94d4ae193e6469235246765",
            "fa6227921aee427dbc611d2fcd6b434e",
            "97b6418a1c6b4f0087d2fa57347487d4",
            "9e1d2da04d6d44cc95affa4ef281cddf",
            "145af4da98ff4e45ab290a10702918b3",
            "e94b4f09df754f75b49aa385ab904bb0",
            "6a59d5cd64d6452ba861d58eb0ecc3be",
            "6ce4b58c375e46cfa4f279322645b8e0",
            "57fe8eba8a1a4884a785ceae8a5a8e8e",
            "228e0527e31746438e949647356fb4ad"
          ]
        },
        "id": "XlkS5wXjsfRz",
        "outputId": "ff5f9683-eef3-4d3d-b876-d5ecf119fc9f",
        "execution": {
          "iopub.status.busy": "2023-01-29T18:12:31.801788Z",
          "iopub.execute_input": "2023-01-29T18:12:31.802243Z",
          "iopub.status.idle": "2023-01-29T18:25:09.983575Z",
          "shell.execute_reply.started": "2023-01-29T18:12:31.802183Z",
          "shell.execute_reply": "2023-01-29T18:25:09.982307Z"
        },
        "trusted": true
      },
      "execution_count": null,
      "outputs": [
        {
          "output_type": "stream",
          "name": "stderr",
          "text": [
            "WARNING:pytorch_lightning.loggers.tensorboard:Missing logger folder: /content/lightning_logs\n",
            "INFO:pytorch_lightning.accelerators.cuda:LOCAL_RANK: 0 - CUDA_VISIBLE_DEVICES: [0]\n",
            "/usr/local/lib/python3.8/dist-packages/transformers/optimization.py:306: FutureWarning: This implementation of AdamW is deprecated and will be removed in a future version. Use the PyTorch implementation torch.optim.AdamW instead, or set `no_deprecation_warning=True` to disable this warning\n",
            "  warnings.warn(\n",
            "INFO:pytorch_lightning.callbacks.model_summary:\n",
            "  | Name  | Type                       | Params\n",
            "-----------------------------------------------------\n",
            "0 | model | T5ForConditionalGeneration | 222 M \n",
            "-----------------------------------------------------\n",
            "222 M     Trainable params\n",
            "0         Non-trainable params\n",
            "222 M     Total params\n",
            "891.614   Total estimated model params size (MB)\n"
          ]
        },
        {
          "output_type": "display_data",
          "data": {
            "text/plain": [
              "Sanity Checking: 0it [00:00, ?it/s]"
            ],
            "application/vnd.jupyter.widget-view+json": {
              "version_major": 2,
              "version_minor": 0,
              "model_id": "864f6fcb5ebe4a29b65b0bf1ed7d4e26"
            }
          },
          "metadata": {}
        },
        {
          "output_type": "stream",
          "name": "stderr",
          "text": [
            "/usr/local/lib/python3.8/dist-packages/torch/utils/data/dataloader.py:554: UserWarning: This DataLoader will create 4 worker processes in total. Our suggested max number of worker in current system is 2, which is smaller than what this DataLoader is going to create. Please be aware that excessive worker creation might get DataLoader running slow or even freeze, lower the worker number to avoid potential slowness/freeze if necessary.\n",
            "  warnings.warn(_create_warning_msg(\n"
          ]
        },
        {
          "output_type": "display_data",
          "data": {
            "text/plain": [
              "Training: 0it [00:00, ?it/s]"
            ],
            "application/vnd.jupyter.widget-view+json": {
              "version_major": 2,
              "version_minor": 0,
              "model_id": "9233cf49d80148e1ac009cbe5640c562"
            }
          },
          "metadata": {}
        },
        {
          "output_type": "display_data",
          "data": {
            "text/plain": [
              "Validation: 0it [00:00, ?it/s]"
            ],
            "application/vnd.jupyter.widget-view+json": {
              "version_major": 2,
              "version_minor": 0,
              "model_id": "c1eac48782a34314ad71ad2df2ad1faa"
            }
          },
          "metadata": {}
        },
        {
          "output_type": "stream",
          "name": "stderr",
          "text": [
            "INFO:pytorch_lightning.utilities.rank_zero:Epoch 0, global step 2250: 'val_loss' reached 0.46441 (best 0.46441), saving model to '/content/checkpoints/best_cp.ckpt' as top 1\n"
          ]
        },
        {
          "output_type": "display_data",
          "data": {
            "text/plain": [
              "Validation: 0it [00:00, ?it/s]"
            ],
            "application/vnd.jupyter.widget-view+json": {
              "version_major": 2,
              "version_minor": 0,
              "model_id": "a4d25422c5ba4f79b0bb4fc348f85990"
            }
          },
          "metadata": {}
        },
        {
          "output_type": "stream",
          "name": "stderr",
          "text": [
            "INFO:pytorch_lightning.utilities.rank_zero:Epoch 1, global step 4500: 'val_loss' reached 0.35488 (best 0.35488), saving model to '/content/checkpoints/best_cp.ckpt' as top 1\n"
          ]
        }
      ]
    },
    {
      "cell_type": "code",
      "source": [
        "#trainer.test(model, data_module)"
      ],
      "metadata": {
        "id": "el5jC43Pfbyt"
      },
      "execution_count": null,
      "outputs": []
    },
    {
      "cell_type": "markdown",
      "source": [
        "# **Save Checkpoint to Gdrive**"
      ],
      "metadata": {
        "id": "Rb_OwNYxe-sZ"
      }
    },
    {
      "cell_type": "code",
      "source": [
        "!cp -r '/content/checkpoints' '/content/drive/MyDrive/SMDM'"
      ],
      "metadata": {
        "id": "ST953oB6Y6zt"
      },
      "execution_count": 1,
      "outputs": []
    },
    {
      "cell_type": "markdown",
      "source": [
        "# **Load the Model from chechkpoint**"
      ],
      "metadata": {
        "id": "EUalIA5gfGT1"
      }
    },
    {
      "cell_type": "code",
      "source": [
        "cppath = '/content/drive/MyDrive/SMDM/checkpoints/best_cp.ckpt'\n",
        "trained_model = NQAModel.load_from_checkpoint(cppath)\n",
        "trained_model.freeze()"
      ],
      "metadata": {
        "id": "FSVsnE8heGEy"
      },
      "execution_count": 24,
      "outputs": []
    },
    {
      "cell_type": "code",
      "source": [
        "trainer.test(trained_model, data_module)"
      ],
      "metadata": {
        "id": "ujCOl74vtI99",
        "execution": {
          "iopub.status.busy": "2023-01-29T18:27:53.669831Z",
          "iopub.execute_input": "2023-01-29T18:27:53.670328Z",
          "iopub.status.idle": "2023-01-29T18:28:22.545551Z",
          "shell.execute_reply.started": "2023-01-29T18:27:53.670284Z",
          "shell.execute_reply": "2023-01-29T18:28:22.544392Z"
        },
        "trusted": true,
        "colab": {
          "base_uri": "https://localhost:8080/",
          "height": 225,
          "referenced_widgets": [
            "3d1dd4788e634682b14a4fdc7b00a3c9",
            "2016566cec064b029ff8f7bff004a7fe",
            "69b9592473ab48ec9f5ff346f6b733af",
            "e72d5fdd84cf47ba98d0bf2483bf3eac",
            "98a7d3c1006749f2bfdc9c02f077adb8",
            "96976898068b4b0aa3a56c7f0211f881",
            "c5bb90c2ca184d90811c95e6a168fcb5",
            "4bc0795007fc40bf9b164b2c53191c96",
            "90fa347684cc4a559937f71bc138dc01",
            "dddb5f9076a748deb0280931889889a2",
            "3a8282b27ba84ec2bd673be66abd340f"
          ]
        },
        "outputId": "e910a813-ff4b-49c2-a0e2-e10e6a191310"
      },
      "execution_count": 25,
      "outputs": [
        {
          "output_type": "stream",
          "name": "stderr",
          "text": [
            "INFO:pytorch_lightning.accelerators.cuda:LOCAL_RANK: 0 - CUDA_VISIBLE_DEVICES: [0]\n",
            "/usr/local/lib/python3.8/dist-packages/torch/utils/data/dataloader.py:554: UserWarning: This DataLoader will create 4 worker processes in total. Our suggested max number of worker in current system is 2, which is smaller than what this DataLoader is going to create. Please be aware that excessive worker creation might get DataLoader running slow or even freeze, lower the worker number to avoid potential slowness/freeze if necessary.\n",
            "  warnings.warn(_create_warning_msg(\n"
          ]
        },
        {
          "output_type": "display_data",
          "data": {
            "text/plain": [
              "Testing: 0it [00:00, ?it/s]"
            ],
            "application/vnd.jupyter.widget-view+json": {
              "version_major": 2,
              "version_minor": 0,
              "model_id": "3d1dd4788e634682b14a4fdc7b00a3c9"
            }
          },
          "metadata": {}
        },
        {
          "output_type": "stream",
          "name": "stdout",
          "text": [
            "────────────────────────────────────────────────────────────────────────────────────────────────────────────────────────\n",
            "       Test metric             DataLoader 0\n",
            "────────────────────────────────────────────────────────────────────────────────────────────────────────────────────────\n",
            "        test_loss            0.464408278465271\n",
            "────────────────────────────────────────────────────────────────────────────────────────────────────────────────────────\n"
          ]
        },
        {
          "output_type": "execute_result",
          "data": {
            "text/plain": [
              "[{'test_loss': 0.464408278465271}]"
            ]
          },
          "metadata": {},
          "execution_count": 25
        }
      ]
    },
    {
      "cell_type": "markdown",
      "source": [
        "## **Make Prediction on Sample**"
      ],
      "metadata": {
        "id": "bofkjeYBfOsq"
      }
    },
    {
      "cell_type": "code",
      "source": [
        "def generate_ans(question):\n",
        "    ques = question['question']\n",
        "    scores = bm25.get_scores(ques.lower().split(\" \"))\n",
        "    best_match = np.argmax(scores)\n",
        "    context = df.iloc[best_match]['paragraph']\n",
        "    print(\"-----------------------------------------------------------------\")\n",
        "    print(context)\n",
        "    print(\"-----------------------------------------------------------------\")\n",
        "    source_encoding = tokenizer(\n",
        "        ques,\n",
        "        context,\n",
        "        max_length = 400,\n",
        "        padding = \"max_length\",\n",
        "        truncation = \"only_second\",\n",
        "        return_attention_mask = True,\n",
        "        add_special_tokens = True,\n",
        "        return_tensors = \"pt\")\n",
        "    \n",
        "    generated_ids = trained_model.model.generate(\n",
        "        input_ids = source_encoding['input_ids'],\n",
        "        attention_mask = source_encoding['attention_mask'],\n",
        "        num_beams = 1,\n",
        "        max_length = 32,\n",
        "        repetition_penalty = 2.5,\n",
        "        length_penalty = 1.0,\n",
        "        early_stopping = True,\n",
        "        use_cache = True)\n",
        "    \n",
        "    preds = [\n",
        "        tokenizer.decode(generated_id,skip_special_tokens=True,clean_up_tokenization_spaces=True)\n",
        "        for generated_id in generated_ids]\n",
        "    \n",
        "    return \" \".join(preds)"
      ],
      "metadata": {
        "execution": {
          "iopub.status.busy": "2023-01-29T19:10:17.673965Z",
          "iopub.execute_input": "2023-01-29T19:10:17.674389Z",
          "iopub.status.idle": "2023-01-29T19:10:17.681670Z",
          "shell.execute_reply.started": "2023-01-29T19:10:17.674355Z",
          "shell.execute_reply": "2023-01-29T19:10:17.680559Z"
        },
        "trusted": true,
        "id": "5j_9yzO1CjSA"
      },
      "execution_count": 32,
      "outputs": []
    },
    {
      "cell_type": "code",
      "source": [
        "sample_question = val_df.iloc[10]"
      ],
      "metadata": {
        "execution": {
          "iopub.status.busy": "2023-01-29T19:10:18.554993Z",
          "iopub.execute_input": "2023-01-29T19:10:18.555394Z",
          "iopub.status.idle": "2023-01-29T19:10:18.560285Z",
          "shell.execute_reply.started": "2023-01-29T19:10:18.555362Z",
          "shell.execute_reply": "2023-01-29T19:10:18.559190Z"
        },
        "trusted": true,
        "id": "uRADVi88CjSA"
      },
      "execution_count": 48,
      "outputs": []
    },
    {
      "cell_type": "code",
      "source": [
        "sample_question['question']"
      ],
      "metadata": {
        "execution": {
          "iopub.status.busy": "2023-01-29T19:10:19.425496Z",
          "iopub.execute_input": "2023-01-29T19:10:19.425870Z",
          "iopub.status.idle": "2023-01-29T19:10:19.435511Z",
          "shell.execute_reply.started": "2023-01-29T19:10:19.425840Z",
          "shell.execute_reply": "2023-01-29T19:10:19.434380Z"
        },
        "trusted": true,
        "colab": {
          "base_uri": "https://localhost:8080/",
          "height": 36
        },
        "id": "OK8aDfgBCjSA",
        "outputId": "cad30877-b452-497f-9a01-9f6142245128"
      },
      "execution_count": 49,
      "outputs": [
        {
          "output_type": "execute_result",
          "data": {
            "text/plain": [
              "'What percentage of ownership did CLSA say Sony would have after the merger?'"
            ],
            "application/vnd.google.colaboratory.intrinsic+json": {
              "type": "string"
            }
          },
          "metadata": {},
          "execution_count": 49
        }
      ]
    },
    {
      "cell_type": "code",
      "source": [
        "sample_question['answer']"
      ],
      "metadata": {
        "execution": {
          "iopub.status.busy": "2023-01-29T19:10:20.188881Z",
          "iopub.execute_input": "2023-01-29T19:10:20.189274Z",
          "iopub.status.idle": "2023-01-29T19:10:20.196866Z",
          "shell.execute_reply.started": "2023-01-29T19:10:20.189241Z",
          "shell.execute_reply": "2023-01-29T19:10:20.195420Z"
        },
        "trusted": true,
        "colab": {
          "base_uri": "https://localhost:8080/",
          "height": 36
        },
        "id": "cLqEiT6WCjSA",
        "outputId": "b0584288-6035-4315-8584-5b4cbb141e40"
      },
      "execution_count": 50,
      "outputs": [
        {
          "output_type": "execute_result",
          "data": {
            "text/plain": [
              "'51%'"
            ],
            "application/vnd.google.colaboratory.intrinsic+json": {
              "type": "string"
            }
          },
          "metadata": {},
          "execution_count": 50
        }
      ]
    },
    {
      "cell_type": "code",
      "source": [
        "sample_question['paragraph']"
      ],
      "metadata": {
        "colab": {
          "base_uri": "https://localhost:8080/",
          "height": 71
        },
        "id": "Y7QUR6PuuJei",
        "outputId": "cfff738f-9b06-445f-e40a-9deba842b7bb"
      },
      "execution_count": 51,
      "outputs": [
        {
          "output_type": "execute_result",
          "data": {
            "text/plain": [
              "\" Mumbai: Brokerage CLSA said Zee Entertainment Enterprises' (ZEE) potential merger with Sony could be a rerating catalyst. Reiterating a buy rating with a target price of ₹415, CLSA said that if the deal is sealed, ZEE's valuation is likely to return to historical highs of 30 times. Zee Entertainment's shares ended down 0.8% at ₹367.45 on Wednesday. CLSA said that Sony would have 51% ownership after the merger and would be able to appoint majority of directors.\""
            ],
            "application/vnd.google.colaboratory.intrinsic+json": {
              "type": "string"
            }
          },
          "metadata": {},
          "execution_count": 51
        }
      ]
    },
    {
      "cell_type": "code",
      "source": [
        "generate_ans(sample_question)"
      ],
      "metadata": {
        "execution": {
          "iopub.status.busy": "2023-01-29T19:10:21.466997Z",
          "iopub.execute_input": "2023-01-29T19:10:21.467749Z",
          "iopub.status.idle": "2023-01-29T19:10:23.030908Z",
          "shell.execute_reply.started": "2023-01-29T19:10:21.467713Z",
          "shell.execute_reply": "2023-01-29T19:10:23.029880Z"
        },
        "trusted": true,
        "colab": {
          "base_uri": "https://localhost:8080/",
          "height": 108
        },
        "id": "IGufqPQKCjSA",
        "outputId": "57a72b77-b622-47ec-a893-c3a0d46c2881"
      },
      "execution_count": 52,
      "outputs": [
        {
          "output_type": "stream",
          "name": "stdout",
          "text": [
            "-----------------------------------------------------------------\n",
            " Mumbai: Brokerage CLSA said Zee Entertainment Enterprises' (ZEE) potential merger with Sony could be a rerating catalyst. Reiterating a buy rating with a target price of ₹415, CLSA said that if the deal is sealed, ZEE's valuation is likely to return to historical highs of 30 times. Zee Entertainment's shares ended down 0.8% at ₹367.45 on Wednesday. CLSA said that Sony would have 51% ownership after the merger and would be able to appoint majority of directors.\n",
            "-----------------------------------------------------------------\n"
          ]
        },
        {
          "output_type": "execute_result",
          "data": {
            "text/plain": [
              "'51%'"
            ],
            "application/vnd.google.colaboratory.intrinsic+json": {
              "type": "string"
            }
          },
          "metadata": {},
          "execution_count": 52
        }
      ]
    }
  ]
}