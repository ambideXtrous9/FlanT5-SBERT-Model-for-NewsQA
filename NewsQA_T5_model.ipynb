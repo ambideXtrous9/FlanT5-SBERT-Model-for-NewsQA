{
  "metadata": {
    "colab": {
      "provenance": [],
      "include_colab_link": true
    },
    "kernelspec": {
      "name": "python3",
      "display_name": "Python 3",
      "language": "python"
    },
    "language_info": {
      "name": "python",
      "version": "3.7.12",
      "mimetype": "text/x-python",
      "codemirror_mode": {
        "name": "ipython",
        "version": 3
      },
      "pygments_lexer": "ipython3",
      "nbconvert_exporter": "python",
      "file_extension": ".py"
    },
    "accelerator": "GPU",
    "gpuClass": "standard",
    "widgets": {
      "application/vnd.jupyter.widget-state+json": {
        "dbe0f0dac26a4ae2becd887a61cd1795": {
          "model_module": "@jupyter-widgets/controls",
          "model_name": "HBoxModel",
          "model_module_version": "1.5.0",
          "state": {
            "_dom_classes": [],
            "_model_module": "@jupyter-widgets/controls",
            "_model_module_version": "1.5.0",
            "_model_name": "HBoxModel",
            "_view_count": null,
            "_view_module": "@jupyter-widgets/controls",
            "_view_module_version": "1.5.0",
            "_view_name": "HBoxView",
            "box_style": "",
            "children": [
              "IPY_MODEL_f9dc98fe7c9946919e50a0782bcc098e",
              "IPY_MODEL_a2a5879b1db349babdf78631525ceb38",
              "IPY_MODEL_7f70e6e81dd94dd09901b3a366fcc154"
            ],
            "layout": "IPY_MODEL_f1c0a41fedf64339879ec4da45578a6c"
          }
        },
        "f9dc98fe7c9946919e50a0782bcc098e": {
          "model_module": "@jupyter-widgets/controls",
          "model_name": "HTMLModel",
          "model_module_version": "1.5.0",
          "state": {
            "_dom_classes": [],
            "_model_module": "@jupyter-widgets/controls",
            "_model_module_version": "1.5.0",
            "_model_name": "HTMLModel",
            "_view_count": null,
            "_view_module": "@jupyter-widgets/controls",
            "_view_module_version": "1.5.0",
            "_view_name": "HTMLView",
            "description": "",
            "description_tooltip": null,
            "layout": "IPY_MODEL_d45059ace570499f9a07fe29e268acd8",
            "placeholder": "​",
            "style": "IPY_MODEL_4c2e240f7ff74e7589a4d76eebc4d54b",
            "value": "Sanity Checking DataLoader 0: 100%"
          }
        },
        "a2a5879b1db349babdf78631525ceb38": {
          "model_module": "@jupyter-widgets/controls",
          "model_name": "FloatProgressModel",
          "model_module_version": "1.5.0",
          "state": {
            "_dom_classes": [],
            "_model_module": "@jupyter-widgets/controls",
            "_model_module_version": "1.5.0",
            "_model_name": "FloatProgressModel",
            "_view_count": null,
            "_view_module": "@jupyter-widgets/controls",
            "_view_module_version": "1.5.0",
            "_view_name": "ProgressView",
            "bar_style": "",
            "description": "",
            "description_tooltip": null,
            "layout": "IPY_MODEL_dba2c8681726436aa08f679f54a62883",
            "max": 2,
            "min": 0,
            "orientation": "horizontal",
            "style": "IPY_MODEL_c2a05f7a106d4c71bdf1ef18c63ee062",
            "value": 2
          }
        },
        "7f70e6e81dd94dd09901b3a366fcc154": {
          "model_module": "@jupyter-widgets/controls",
          "model_name": "HTMLModel",
          "model_module_version": "1.5.0",
          "state": {
            "_dom_classes": [],
            "_model_module": "@jupyter-widgets/controls",
            "_model_module_version": "1.5.0",
            "_model_name": "HTMLModel",
            "_view_count": null,
            "_view_module": "@jupyter-widgets/controls",
            "_view_module_version": "1.5.0",
            "_view_name": "HTMLView",
            "description": "",
            "description_tooltip": null,
            "layout": "IPY_MODEL_30a0b285bd1541168c3c268a7b566081",
            "placeholder": "​",
            "style": "IPY_MODEL_c66a0eff212e4502a8f80d02dc0cece1",
            "value": " 2/2 [00:03&lt;00:00,  1.56s/it]"
          }
        },
        "f1c0a41fedf64339879ec4da45578a6c": {
          "model_module": "@jupyter-widgets/base",
          "model_name": "LayoutModel",
          "model_module_version": "1.2.0",
          "state": {
            "_model_module": "@jupyter-widgets/base",
            "_model_module_version": "1.2.0",
            "_model_name": "LayoutModel",
            "_view_count": null,
            "_view_module": "@jupyter-widgets/base",
            "_view_module_version": "1.2.0",
            "_view_name": "LayoutView",
            "align_content": null,
            "align_items": null,
            "align_self": null,
            "border": null,
            "bottom": null,
            "display": "inline-flex",
            "flex": null,
            "flex_flow": "row wrap",
            "grid_area": null,
            "grid_auto_columns": null,
            "grid_auto_flow": null,
            "grid_auto_rows": null,
            "grid_column": null,
            "grid_gap": null,
            "grid_row": null,
            "grid_template_areas": null,
            "grid_template_columns": null,
            "grid_template_rows": null,
            "height": null,
            "justify_content": null,
            "justify_items": null,
            "left": null,
            "margin": null,
            "max_height": null,
            "max_width": null,
            "min_height": null,
            "min_width": null,
            "object_fit": null,
            "object_position": null,
            "order": null,
            "overflow": null,
            "overflow_x": null,
            "overflow_y": null,
            "padding": null,
            "right": null,
            "top": null,
            "visibility": "hidden",
            "width": "100%"
          }
        },
        "d45059ace570499f9a07fe29e268acd8": {
          "model_module": "@jupyter-widgets/base",
          "model_name": "LayoutModel",
          "model_module_version": "1.2.0",
          "state": {
            "_model_module": "@jupyter-widgets/base",
            "_model_module_version": "1.2.0",
            "_model_name": "LayoutModel",
            "_view_count": null,
            "_view_module": "@jupyter-widgets/base",
            "_view_module_version": "1.2.0",
            "_view_name": "LayoutView",
            "align_content": null,
            "align_items": null,
            "align_self": null,
            "border": null,
            "bottom": null,
            "display": null,
            "flex": null,
            "flex_flow": null,
            "grid_area": null,
            "grid_auto_columns": null,
            "grid_auto_flow": null,
            "grid_auto_rows": null,
            "grid_column": null,
            "grid_gap": null,
            "grid_row": null,
            "grid_template_areas": null,
            "grid_template_columns": null,
            "grid_template_rows": null,
            "height": null,
            "justify_content": null,
            "justify_items": null,
            "left": null,
            "margin": null,
            "max_height": null,
            "max_width": null,
            "min_height": null,
            "min_width": null,
            "object_fit": null,
            "object_position": null,
            "order": null,
            "overflow": null,
            "overflow_x": null,
            "overflow_y": null,
            "padding": null,
            "right": null,
            "top": null,
            "visibility": null,
            "width": null
          }
        },
        "4c2e240f7ff74e7589a4d76eebc4d54b": {
          "model_module": "@jupyter-widgets/controls",
          "model_name": "DescriptionStyleModel",
          "model_module_version": "1.5.0",
          "state": {
            "_model_module": "@jupyter-widgets/controls",
            "_model_module_version": "1.5.0",
            "_model_name": "DescriptionStyleModel",
            "_view_count": null,
            "_view_module": "@jupyter-widgets/base",
            "_view_module_version": "1.2.0",
            "_view_name": "StyleView",
            "description_width": ""
          }
        },
        "dba2c8681726436aa08f679f54a62883": {
          "model_module": "@jupyter-widgets/base",
          "model_name": "LayoutModel",
          "model_module_version": "1.2.0",
          "state": {
            "_model_module": "@jupyter-widgets/base",
            "_model_module_version": "1.2.0",
            "_model_name": "LayoutModel",
            "_view_count": null,
            "_view_module": "@jupyter-widgets/base",
            "_view_module_version": "1.2.0",
            "_view_name": "LayoutView",
            "align_content": null,
            "align_items": null,
            "align_self": null,
            "border": null,
            "bottom": null,
            "display": null,
            "flex": "2",
            "flex_flow": null,
            "grid_area": null,
            "grid_auto_columns": null,
            "grid_auto_flow": null,
            "grid_auto_rows": null,
            "grid_column": null,
            "grid_gap": null,
            "grid_row": null,
            "grid_template_areas": null,
            "grid_template_columns": null,
            "grid_template_rows": null,
            "height": null,
            "justify_content": null,
            "justify_items": null,
            "left": null,
            "margin": null,
            "max_height": null,
            "max_width": null,
            "min_height": null,
            "min_width": null,
            "object_fit": null,
            "object_position": null,
            "order": null,
            "overflow": null,
            "overflow_x": null,
            "overflow_y": null,
            "padding": null,
            "right": null,
            "top": null,
            "visibility": null,
            "width": null
          }
        },
        "c2a05f7a106d4c71bdf1ef18c63ee062": {
          "model_module": "@jupyter-widgets/controls",
          "model_name": "ProgressStyleModel",
          "model_module_version": "1.5.0",
          "state": {
            "_model_module": "@jupyter-widgets/controls",
            "_model_module_version": "1.5.0",
            "_model_name": "ProgressStyleModel",
            "_view_count": null,
            "_view_module": "@jupyter-widgets/base",
            "_view_module_version": "1.2.0",
            "_view_name": "StyleView",
            "bar_color": null,
            "description_width": ""
          }
        },
        "30a0b285bd1541168c3c268a7b566081": {
          "model_module": "@jupyter-widgets/base",
          "model_name": "LayoutModel",
          "model_module_version": "1.2.0",
          "state": {
            "_model_module": "@jupyter-widgets/base",
            "_model_module_version": "1.2.0",
            "_model_name": "LayoutModel",
            "_view_count": null,
            "_view_module": "@jupyter-widgets/base",
            "_view_module_version": "1.2.0",
            "_view_name": "LayoutView",
            "align_content": null,
            "align_items": null,
            "align_self": null,
            "border": null,
            "bottom": null,
            "display": null,
            "flex": null,
            "flex_flow": null,
            "grid_area": null,
            "grid_auto_columns": null,
            "grid_auto_flow": null,
            "grid_auto_rows": null,
            "grid_column": null,
            "grid_gap": null,
            "grid_row": null,
            "grid_template_areas": null,
            "grid_template_columns": null,
            "grid_template_rows": null,
            "height": null,
            "justify_content": null,
            "justify_items": null,
            "left": null,
            "margin": null,
            "max_height": null,
            "max_width": null,
            "min_height": null,
            "min_width": null,
            "object_fit": null,
            "object_position": null,
            "order": null,
            "overflow": null,
            "overflow_x": null,
            "overflow_y": null,
            "padding": null,
            "right": null,
            "top": null,
            "visibility": null,
            "width": null
          }
        },
        "c66a0eff212e4502a8f80d02dc0cece1": {
          "model_module": "@jupyter-widgets/controls",
          "model_name": "DescriptionStyleModel",
          "model_module_version": "1.5.0",
          "state": {
            "_model_module": "@jupyter-widgets/controls",
            "_model_module_version": "1.5.0",
            "_model_name": "DescriptionStyleModel",
            "_view_count": null,
            "_view_module": "@jupyter-widgets/base",
            "_view_module_version": "1.2.0",
            "_view_name": "StyleView",
            "description_width": ""
          }
        },
        "60ffcad46f514013889c0b70eae8af62": {
          "model_module": "@jupyter-widgets/controls",
          "model_name": "HBoxModel",
          "model_module_version": "1.5.0",
          "state": {
            "_dom_classes": [],
            "_model_module": "@jupyter-widgets/controls",
            "_model_module_version": "1.5.0",
            "_model_name": "HBoxModel",
            "_view_count": null,
            "_view_module": "@jupyter-widgets/controls",
            "_view_module_version": "1.5.0",
            "_view_name": "HBoxView",
            "box_style": "",
            "children": [
              "IPY_MODEL_cf0ad154509346579acc826752b6463b",
              "IPY_MODEL_c463ccb640cb4da9b920ef2fae2b9649",
              "IPY_MODEL_e59da2e33b8948d88032f111838d1fd4"
            ],
            "layout": "IPY_MODEL_efd3485d390d4a9c89abfc3e84f8a046"
          }
        },
        "cf0ad154509346579acc826752b6463b": {
          "model_module": "@jupyter-widgets/controls",
          "model_name": "HTMLModel",
          "model_module_version": "1.5.0",
          "state": {
            "_dom_classes": [],
            "_model_module": "@jupyter-widgets/controls",
            "_model_module_version": "1.5.0",
            "_model_name": "HTMLModel",
            "_view_count": null,
            "_view_module": "@jupyter-widgets/controls",
            "_view_module_version": "1.5.0",
            "_view_name": "HTMLView",
            "description": "",
            "description_tooltip": null,
            "layout": "IPY_MODEL_2c571e140d1b4b458b34994f9f99e5ce",
            "placeholder": "​",
            "style": "IPY_MODEL_1d53284885b14fc596b76247f718ab5d",
            "value": "Epoch 1: 100%"
          }
        },
        "c463ccb640cb4da9b920ef2fae2b9649": {
          "model_module": "@jupyter-widgets/controls",
          "model_name": "FloatProgressModel",
          "model_module_version": "1.5.0",
          "state": {
            "_dom_classes": [],
            "_model_module": "@jupyter-widgets/controls",
            "_model_module_version": "1.5.0",
            "_model_name": "FloatProgressModel",
            "_view_count": null,
            "_view_module": "@jupyter-widgets/controls",
            "_view_module_version": "1.5.0",
            "_view_name": "ProgressView",
            "bar_style": "",
            "description": "",
            "description_tooltip": null,
            "layout": "IPY_MODEL_046f83e311cf4af28ca6b29c55b1fe7d",
            "max": 2750,
            "min": 0,
            "orientation": "horizontal",
            "style": "IPY_MODEL_f17c1488650f4fcc889b1a0f9a7ddf3f",
            "value": 2750
          }
        },
        "e59da2e33b8948d88032f111838d1fd4": {
          "model_module": "@jupyter-widgets/controls",
          "model_name": "HTMLModel",
          "model_module_version": "1.5.0",
          "state": {
            "_dom_classes": [],
            "_model_module": "@jupyter-widgets/controls",
            "_model_module_version": "1.5.0",
            "_model_name": "HTMLModel",
            "_view_count": null,
            "_view_module": "@jupyter-widgets/controls",
            "_view_module_version": "1.5.0",
            "_view_name": "HTMLView",
            "description": "",
            "description_tooltip": null,
            "layout": "IPY_MODEL_e3eef54fa23b44dea132965976fa4437",
            "placeholder": "​",
            "style": "IPY_MODEL_43c50a3f2fc2485283734ecd8a32b791",
            "value": " 2750/2750 [10:50&lt;00:00,  4.23it/s, loss=0.0431, v_num=0, train_loss=0.00663, val_loss=0.128]"
          }
        },
        "efd3485d390d4a9c89abfc3e84f8a046": {
          "model_module": "@jupyter-widgets/base",
          "model_name": "LayoutModel",
          "model_module_version": "1.2.0",
          "state": {
            "_model_module": "@jupyter-widgets/base",
            "_model_module_version": "1.2.0",
            "_model_name": "LayoutModel",
            "_view_count": null,
            "_view_module": "@jupyter-widgets/base",
            "_view_module_version": "1.2.0",
            "_view_name": "LayoutView",
            "align_content": null,
            "align_items": null,
            "align_self": null,
            "border": null,
            "bottom": null,
            "display": "inline-flex",
            "flex": null,
            "flex_flow": "row wrap",
            "grid_area": null,
            "grid_auto_columns": null,
            "grid_auto_flow": null,
            "grid_auto_rows": null,
            "grid_column": null,
            "grid_gap": null,
            "grid_row": null,
            "grid_template_areas": null,
            "grid_template_columns": null,
            "grid_template_rows": null,
            "height": null,
            "justify_content": null,
            "justify_items": null,
            "left": null,
            "margin": null,
            "max_height": null,
            "max_width": null,
            "min_height": null,
            "min_width": null,
            "object_fit": null,
            "object_position": null,
            "order": null,
            "overflow": null,
            "overflow_x": null,
            "overflow_y": null,
            "padding": null,
            "right": null,
            "top": null,
            "visibility": null,
            "width": "100%"
          }
        },
        "2c571e140d1b4b458b34994f9f99e5ce": {
          "model_module": "@jupyter-widgets/base",
          "model_name": "LayoutModel",
          "model_module_version": "1.2.0",
          "state": {
            "_model_module": "@jupyter-widgets/base",
            "_model_module_version": "1.2.0",
            "_model_name": "LayoutModel",
            "_view_count": null,
            "_view_module": "@jupyter-widgets/base",
            "_view_module_version": "1.2.0",
            "_view_name": "LayoutView",
            "align_content": null,
            "align_items": null,
            "align_self": null,
            "border": null,
            "bottom": null,
            "display": null,
            "flex": null,
            "flex_flow": null,
            "grid_area": null,
            "grid_auto_columns": null,
            "grid_auto_flow": null,
            "grid_auto_rows": null,
            "grid_column": null,
            "grid_gap": null,
            "grid_row": null,
            "grid_template_areas": null,
            "grid_template_columns": null,
            "grid_template_rows": null,
            "height": null,
            "justify_content": null,
            "justify_items": null,
            "left": null,
            "margin": null,
            "max_height": null,
            "max_width": null,
            "min_height": null,
            "min_width": null,
            "object_fit": null,
            "object_position": null,
            "order": null,
            "overflow": null,
            "overflow_x": null,
            "overflow_y": null,
            "padding": null,
            "right": null,
            "top": null,
            "visibility": null,
            "width": null
          }
        },
        "1d53284885b14fc596b76247f718ab5d": {
          "model_module": "@jupyter-widgets/controls",
          "model_name": "DescriptionStyleModel",
          "model_module_version": "1.5.0",
          "state": {
            "_model_module": "@jupyter-widgets/controls",
            "_model_module_version": "1.5.0",
            "_model_name": "DescriptionStyleModel",
            "_view_count": null,
            "_view_module": "@jupyter-widgets/base",
            "_view_module_version": "1.2.0",
            "_view_name": "StyleView",
            "description_width": ""
          }
        },
        "046f83e311cf4af28ca6b29c55b1fe7d": {
          "model_module": "@jupyter-widgets/base",
          "model_name": "LayoutModel",
          "model_module_version": "1.2.0",
          "state": {
            "_model_module": "@jupyter-widgets/base",
            "_model_module_version": "1.2.0",
            "_model_name": "LayoutModel",
            "_view_count": null,
            "_view_module": "@jupyter-widgets/base",
            "_view_module_version": "1.2.0",
            "_view_name": "LayoutView",
            "align_content": null,
            "align_items": null,
            "align_self": null,
            "border": null,
            "bottom": null,
            "display": null,
            "flex": "2",
            "flex_flow": null,
            "grid_area": null,
            "grid_auto_columns": null,
            "grid_auto_flow": null,
            "grid_auto_rows": null,
            "grid_column": null,
            "grid_gap": null,
            "grid_row": null,
            "grid_template_areas": null,
            "grid_template_columns": null,
            "grid_template_rows": null,
            "height": null,
            "justify_content": null,
            "justify_items": null,
            "left": null,
            "margin": null,
            "max_height": null,
            "max_width": null,
            "min_height": null,
            "min_width": null,
            "object_fit": null,
            "object_position": null,
            "order": null,
            "overflow": null,
            "overflow_x": null,
            "overflow_y": null,
            "padding": null,
            "right": null,
            "top": null,
            "visibility": null,
            "width": null
          }
        },
        "f17c1488650f4fcc889b1a0f9a7ddf3f": {
          "model_module": "@jupyter-widgets/controls",
          "model_name": "ProgressStyleModel",
          "model_module_version": "1.5.0",
          "state": {
            "_model_module": "@jupyter-widgets/controls",
            "_model_module_version": "1.5.0",
            "_model_name": "ProgressStyleModel",
            "_view_count": null,
            "_view_module": "@jupyter-widgets/base",
            "_view_module_version": "1.2.0",
            "_view_name": "StyleView",
            "bar_color": null,
            "description_width": ""
          }
        },
        "e3eef54fa23b44dea132965976fa4437": {
          "model_module": "@jupyter-widgets/base",
          "model_name": "LayoutModel",
          "model_module_version": "1.2.0",
          "state": {
            "_model_module": "@jupyter-widgets/base",
            "_model_module_version": "1.2.0",
            "_model_name": "LayoutModel",
            "_view_count": null,
            "_view_module": "@jupyter-widgets/base",
            "_view_module_version": "1.2.0",
            "_view_name": "LayoutView",
            "align_content": null,
            "align_items": null,
            "align_self": null,
            "border": null,
            "bottom": null,
            "display": null,
            "flex": null,
            "flex_flow": null,
            "grid_area": null,
            "grid_auto_columns": null,
            "grid_auto_flow": null,
            "grid_auto_rows": null,
            "grid_column": null,
            "grid_gap": null,
            "grid_row": null,
            "grid_template_areas": null,
            "grid_template_columns": null,
            "grid_template_rows": null,
            "height": null,
            "justify_content": null,
            "justify_items": null,
            "left": null,
            "margin": null,
            "max_height": null,
            "max_width": null,
            "min_height": null,
            "min_width": null,
            "object_fit": null,
            "object_position": null,
            "order": null,
            "overflow": null,
            "overflow_x": null,
            "overflow_y": null,
            "padding": null,
            "right": null,
            "top": null,
            "visibility": null,
            "width": null
          }
        },
        "43c50a3f2fc2485283734ecd8a32b791": {
          "model_module": "@jupyter-widgets/controls",
          "model_name": "DescriptionStyleModel",
          "model_module_version": "1.5.0",
          "state": {
            "_model_module": "@jupyter-widgets/controls",
            "_model_module_version": "1.5.0",
            "_model_name": "DescriptionStyleModel",
            "_view_count": null,
            "_view_module": "@jupyter-widgets/base",
            "_view_module_version": "1.2.0",
            "_view_name": "StyleView",
            "description_width": ""
          }
        },
        "164308e468e34768a09adf57def7dc92": {
          "model_module": "@jupyter-widgets/controls",
          "model_name": "HBoxModel",
          "model_module_version": "1.5.0",
          "state": {
            "_dom_classes": [],
            "_model_module": "@jupyter-widgets/controls",
            "_model_module_version": "1.5.0",
            "_model_name": "HBoxModel",
            "_view_count": null,
            "_view_module": "@jupyter-widgets/controls",
            "_view_module_version": "1.5.0",
            "_view_name": "HBoxView",
            "box_style": "",
            "children": [
              "IPY_MODEL_c52fe86f8afd4b2fb8179f92ca0797c6",
              "IPY_MODEL_8b9688e4c3354f80af247945506eb35f",
              "IPY_MODEL_8811788bf515495aa85e604869c5a620"
            ],
            "layout": "IPY_MODEL_c78b3c2b08114e7e8d1d54b40b542dfb"
          }
        },
        "c52fe86f8afd4b2fb8179f92ca0797c6": {
          "model_module": "@jupyter-widgets/controls",
          "model_name": "HTMLModel",
          "model_module_version": "1.5.0",
          "state": {
            "_dom_classes": [],
            "_model_module": "@jupyter-widgets/controls",
            "_model_module_version": "1.5.0",
            "_model_name": "HTMLModel",
            "_view_count": null,
            "_view_module": "@jupyter-widgets/controls",
            "_view_module_version": "1.5.0",
            "_view_name": "HTMLView",
            "description": "",
            "description_tooltip": null,
            "layout": "IPY_MODEL_db2dfab1eafe41afb48ef4703c03b7cc",
            "placeholder": "​",
            "style": "IPY_MODEL_cd3b62906bca4157bad9b302ffa89ad7",
            "value": "Validation DataLoader 0: 100%"
          }
        },
        "8b9688e4c3354f80af247945506eb35f": {
          "model_module": "@jupyter-widgets/controls",
          "model_name": "FloatProgressModel",
          "model_module_version": "1.5.0",
          "state": {
            "_dom_classes": [],
            "_model_module": "@jupyter-widgets/controls",
            "_model_module_version": "1.5.0",
            "_model_name": "FloatProgressModel",
            "_view_count": null,
            "_view_module": "@jupyter-widgets/controls",
            "_view_module_version": "1.5.0",
            "_view_name": "ProgressView",
            "bar_style": "",
            "description": "",
            "description_tooltip": null,
            "layout": "IPY_MODEL_bc6bcab7d51f4aa2a83bb558378e4242",
            "max": 500,
            "min": 0,
            "orientation": "horizontal",
            "style": "IPY_MODEL_e158fa3e35f742fdba93fd79ca8bd347",
            "value": 500
          }
        },
        "8811788bf515495aa85e604869c5a620": {
          "model_module": "@jupyter-widgets/controls",
          "model_name": "HTMLModel",
          "model_module_version": "1.5.0",
          "state": {
            "_dom_classes": [],
            "_model_module": "@jupyter-widgets/controls",
            "_model_module_version": "1.5.0",
            "_model_name": "HTMLModel",
            "_view_count": null,
            "_view_module": "@jupyter-widgets/controls",
            "_view_module_version": "1.5.0",
            "_view_name": "HTMLView",
            "description": "",
            "description_tooltip": null,
            "layout": "IPY_MODEL_946af474eaff47d49fee4ca5c9777a7a",
            "placeholder": "​",
            "style": "IPY_MODEL_a66c8427993d416e8d31ade23e892a2f",
            "value": " 500/500 [00:22&lt;00:00, 21.77it/s]"
          }
        },
        "c78b3c2b08114e7e8d1d54b40b542dfb": {
          "model_module": "@jupyter-widgets/base",
          "model_name": "LayoutModel",
          "model_module_version": "1.2.0",
          "state": {
            "_model_module": "@jupyter-widgets/base",
            "_model_module_version": "1.2.0",
            "_model_name": "LayoutModel",
            "_view_count": null,
            "_view_module": "@jupyter-widgets/base",
            "_view_module_version": "1.2.0",
            "_view_name": "LayoutView",
            "align_content": null,
            "align_items": null,
            "align_self": null,
            "border": null,
            "bottom": null,
            "display": "inline-flex",
            "flex": null,
            "flex_flow": "row wrap",
            "grid_area": null,
            "grid_auto_columns": null,
            "grid_auto_flow": null,
            "grid_auto_rows": null,
            "grid_column": null,
            "grid_gap": null,
            "grid_row": null,
            "grid_template_areas": null,
            "grid_template_columns": null,
            "grid_template_rows": null,
            "height": null,
            "justify_content": null,
            "justify_items": null,
            "left": null,
            "margin": null,
            "max_height": null,
            "max_width": null,
            "min_height": null,
            "min_width": null,
            "object_fit": null,
            "object_position": null,
            "order": null,
            "overflow": null,
            "overflow_x": null,
            "overflow_y": null,
            "padding": null,
            "right": null,
            "top": null,
            "visibility": "hidden",
            "width": "100%"
          }
        },
        "db2dfab1eafe41afb48ef4703c03b7cc": {
          "model_module": "@jupyter-widgets/base",
          "model_name": "LayoutModel",
          "model_module_version": "1.2.0",
          "state": {
            "_model_module": "@jupyter-widgets/base",
            "_model_module_version": "1.2.0",
            "_model_name": "LayoutModel",
            "_view_count": null,
            "_view_module": "@jupyter-widgets/base",
            "_view_module_version": "1.2.0",
            "_view_name": "LayoutView",
            "align_content": null,
            "align_items": null,
            "align_self": null,
            "border": null,
            "bottom": null,
            "display": null,
            "flex": null,
            "flex_flow": null,
            "grid_area": null,
            "grid_auto_columns": null,
            "grid_auto_flow": null,
            "grid_auto_rows": null,
            "grid_column": null,
            "grid_gap": null,
            "grid_row": null,
            "grid_template_areas": null,
            "grid_template_columns": null,
            "grid_template_rows": null,
            "height": null,
            "justify_content": null,
            "justify_items": null,
            "left": null,
            "margin": null,
            "max_height": null,
            "max_width": null,
            "min_height": null,
            "min_width": null,
            "object_fit": null,
            "object_position": null,
            "order": null,
            "overflow": null,
            "overflow_x": null,
            "overflow_y": null,
            "padding": null,
            "right": null,
            "top": null,
            "visibility": null,
            "width": null
          }
        },
        "cd3b62906bca4157bad9b302ffa89ad7": {
          "model_module": "@jupyter-widgets/controls",
          "model_name": "DescriptionStyleModel",
          "model_module_version": "1.5.0",
          "state": {
            "_model_module": "@jupyter-widgets/controls",
            "_model_module_version": "1.5.0",
            "_model_name": "DescriptionStyleModel",
            "_view_count": null,
            "_view_module": "@jupyter-widgets/base",
            "_view_module_version": "1.2.0",
            "_view_name": "StyleView",
            "description_width": ""
          }
        },
        "bc6bcab7d51f4aa2a83bb558378e4242": {
          "model_module": "@jupyter-widgets/base",
          "model_name": "LayoutModel",
          "model_module_version": "1.2.0",
          "state": {
            "_model_module": "@jupyter-widgets/base",
            "_model_module_version": "1.2.0",
            "_model_name": "LayoutModel",
            "_view_count": null,
            "_view_module": "@jupyter-widgets/base",
            "_view_module_version": "1.2.0",
            "_view_name": "LayoutView",
            "align_content": null,
            "align_items": null,
            "align_self": null,
            "border": null,
            "bottom": null,
            "display": null,
            "flex": "2",
            "flex_flow": null,
            "grid_area": null,
            "grid_auto_columns": null,
            "grid_auto_flow": null,
            "grid_auto_rows": null,
            "grid_column": null,
            "grid_gap": null,
            "grid_row": null,
            "grid_template_areas": null,
            "grid_template_columns": null,
            "grid_template_rows": null,
            "height": null,
            "justify_content": null,
            "justify_items": null,
            "left": null,
            "margin": null,
            "max_height": null,
            "max_width": null,
            "min_height": null,
            "min_width": null,
            "object_fit": null,
            "object_position": null,
            "order": null,
            "overflow": null,
            "overflow_x": null,
            "overflow_y": null,
            "padding": null,
            "right": null,
            "top": null,
            "visibility": null,
            "width": null
          }
        },
        "e158fa3e35f742fdba93fd79ca8bd347": {
          "model_module": "@jupyter-widgets/controls",
          "model_name": "ProgressStyleModel",
          "model_module_version": "1.5.0",
          "state": {
            "_model_module": "@jupyter-widgets/controls",
            "_model_module_version": "1.5.0",
            "_model_name": "ProgressStyleModel",
            "_view_count": null,
            "_view_module": "@jupyter-widgets/base",
            "_view_module_version": "1.2.0",
            "_view_name": "StyleView",
            "bar_color": null,
            "description_width": ""
          }
        },
        "946af474eaff47d49fee4ca5c9777a7a": {
          "model_module": "@jupyter-widgets/base",
          "model_name": "LayoutModel",
          "model_module_version": "1.2.0",
          "state": {
            "_model_module": "@jupyter-widgets/base",
            "_model_module_version": "1.2.0",
            "_model_name": "LayoutModel",
            "_view_count": null,
            "_view_module": "@jupyter-widgets/base",
            "_view_module_version": "1.2.0",
            "_view_name": "LayoutView",
            "align_content": null,
            "align_items": null,
            "align_self": null,
            "border": null,
            "bottom": null,
            "display": null,
            "flex": null,
            "flex_flow": null,
            "grid_area": null,
            "grid_auto_columns": null,
            "grid_auto_flow": null,
            "grid_auto_rows": null,
            "grid_column": null,
            "grid_gap": null,
            "grid_row": null,
            "grid_template_areas": null,
            "grid_template_columns": null,
            "grid_template_rows": null,
            "height": null,
            "justify_content": null,
            "justify_items": null,
            "left": null,
            "margin": null,
            "max_height": null,
            "max_width": null,
            "min_height": null,
            "min_width": null,
            "object_fit": null,
            "object_position": null,
            "order": null,
            "overflow": null,
            "overflow_x": null,
            "overflow_y": null,
            "padding": null,
            "right": null,
            "top": null,
            "visibility": null,
            "width": null
          }
        },
        "a66c8427993d416e8d31ade23e892a2f": {
          "model_module": "@jupyter-widgets/controls",
          "model_name": "DescriptionStyleModel",
          "model_module_version": "1.5.0",
          "state": {
            "_model_module": "@jupyter-widgets/controls",
            "_model_module_version": "1.5.0",
            "_model_name": "DescriptionStyleModel",
            "_view_count": null,
            "_view_module": "@jupyter-widgets/base",
            "_view_module_version": "1.2.0",
            "_view_name": "StyleView",
            "description_width": ""
          }
        },
        "7bee54916dfc4c669e01eb472a99f739": {
          "model_module": "@jupyter-widgets/controls",
          "model_name": "HBoxModel",
          "model_module_version": "1.5.0",
          "state": {
            "_dom_classes": [],
            "_model_module": "@jupyter-widgets/controls",
            "_model_module_version": "1.5.0",
            "_model_name": "HBoxModel",
            "_view_count": null,
            "_view_module": "@jupyter-widgets/controls",
            "_view_module_version": "1.5.0",
            "_view_name": "HBoxView",
            "box_style": "",
            "children": [
              "IPY_MODEL_db7bda145542481491522f60077be6e2",
              "IPY_MODEL_1e0b7681c2734a5c988f118ae75be6bd",
              "IPY_MODEL_acd5e21881544e45bc328457987846b4"
            ],
            "layout": "IPY_MODEL_d4d2eb59f80048a5a40e75bff312a916"
          }
        },
        "db7bda145542481491522f60077be6e2": {
          "model_module": "@jupyter-widgets/controls",
          "model_name": "HTMLModel",
          "model_module_version": "1.5.0",
          "state": {
            "_dom_classes": [],
            "_model_module": "@jupyter-widgets/controls",
            "_model_module_version": "1.5.0",
            "_model_name": "HTMLModel",
            "_view_count": null,
            "_view_module": "@jupyter-widgets/controls",
            "_view_module_version": "1.5.0",
            "_view_name": "HTMLView",
            "description": "",
            "description_tooltip": null,
            "layout": "IPY_MODEL_39a0f1b4596443079845c563f0528750",
            "placeholder": "​",
            "style": "IPY_MODEL_c2f571c5da104ba6b7791022936ab198",
            "value": "Validation DataLoader 0: 100%"
          }
        },
        "1e0b7681c2734a5c988f118ae75be6bd": {
          "model_module": "@jupyter-widgets/controls",
          "model_name": "FloatProgressModel",
          "model_module_version": "1.5.0",
          "state": {
            "_dom_classes": [],
            "_model_module": "@jupyter-widgets/controls",
            "_model_module_version": "1.5.0",
            "_model_name": "FloatProgressModel",
            "_view_count": null,
            "_view_module": "@jupyter-widgets/controls",
            "_view_module_version": "1.5.0",
            "_view_name": "ProgressView",
            "bar_style": "",
            "description": "",
            "description_tooltip": null,
            "layout": "IPY_MODEL_767767d71d1e44f8a74617704ff49a5f",
            "max": 500,
            "min": 0,
            "orientation": "horizontal",
            "style": "IPY_MODEL_887a78c88efe46fa8e8fc87f480f314e",
            "value": 500
          }
        },
        "acd5e21881544e45bc328457987846b4": {
          "model_module": "@jupyter-widgets/controls",
          "model_name": "HTMLModel",
          "model_module_version": "1.5.0",
          "state": {
            "_dom_classes": [],
            "_model_module": "@jupyter-widgets/controls",
            "_model_module_version": "1.5.0",
            "_model_name": "HTMLModel",
            "_view_count": null,
            "_view_module": "@jupyter-widgets/controls",
            "_view_module_version": "1.5.0",
            "_view_name": "HTMLView",
            "description": "",
            "description_tooltip": null,
            "layout": "IPY_MODEL_011a3545f16f44a4a5bf845b12f66439",
            "placeholder": "​",
            "style": "IPY_MODEL_699b1b0f9b74464181fffd87ce138ba5",
            "value": " 500/500 [00:23&lt;00:00, 20.99it/s]"
          }
        },
        "d4d2eb59f80048a5a40e75bff312a916": {
          "model_module": "@jupyter-widgets/base",
          "model_name": "LayoutModel",
          "model_module_version": "1.2.0",
          "state": {
            "_model_module": "@jupyter-widgets/base",
            "_model_module_version": "1.2.0",
            "_model_name": "LayoutModel",
            "_view_count": null,
            "_view_module": "@jupyter-widgets/base",
            "_view_module_version": "1.2.0",
            "_view_name": "LayoutView",
            "align_content": null,
            "align_items": null,
            "align_self": null,
            "border": null,
            "bottom": null,
            "display": "inline-flex",
            "flex": null,
            "flex_flow": "row wrap",
            "grid_area": null,
            "grid_auto_columns": null,
            "grid_auto_flow": null,
            "grid_auto_rows": null,
            "grid_column": null,
            "grid_gap": null,
            "grid_row": null,
            "grid_template_areas": null,
            "grid_template_columns": null,
            "grid_template_rows": null,
            "height": null,
            "justify_content": null,
            "justify_items": null,
            "left": null,
            "margin": null,
            "max_height": null,
            "max_width": null,
            "min_height": null,
            "min_width": null,
            "object_fit": null,
            "object_position": null,
            "order": null,
            "overflow": null,
            "overflow_x": null,
            "overflow_y": null,
            "padding": null,
            "right": null,
            "top": null,
            "visibility": "hidden",
            "width": "100%"
          }
        },
        "39a0f1b4596443079845c563f0528750": {
          "model_module": "@jupyter-widgets/base",
          "model_name": "LayoutModel",
          "model_module_version": "1.2.0",
          "state": {
            "_model_module": "@jupyter-widgets/base",
            "_model_module_version": "1.2.0",
            "_model_name": "LayoutModel",
            "_view_count": null,
            "_view_module": "@jupyter-widgets/base",
            "_view_module_version": "1.2.0",
            "_view_name": "LayoutView",
            "align_content": null,
            "align_items": null,
            "align_self": null,
            "border": null,
            "bottom": null,
            "display": null,
            "flex": null,
            "flex_flow": null,
            "grid_area": null,
            "grid_auto_columns": null,
            "grid_auto_flow": null,
            "grid_auto_rows": null,
            "grid_column": null,
            "grid_gap": null,
            "grid_row": null,
            "grid_template_areas": null,
            "grid_template_columns": null,
            "grid_template_rows": null,
            "height": null,
            "justify_content": null,
            "justify_items": null,
            "left": null,
            "margin": null,
            "max_height": null,
            "max_width": null,
            "min_height": null,
            "min_width": null,
            "object_fit": null,
            "object_position": null,
            "order": null,
            "overflow": null,
            "overflow_x": null,
            "overflow_y": null,
            "padding": null,
            "right": null,
            "top": null,
            "visibility": null,
            "width": null
          }
        },
        "c2f571c5da104ba6b7791022936ab198": {
          "model_module": "@jupyter-widgets/controls",
          "model_name": "DescriptionStyleModel",
          "model_module_version": "1.5.0",
          "state": {
            "_model_module": "@jupyter-widgets/controls",
            "_model_module_version": "1.5.0",
            "_model_name": "DescriptionStyleModel",
            "_view_count": null,
            "_view_module": "@jupyter-widgets/base",
            "_view_module_version": "1.2.0",
            "_view_name": "StyleView",
            "description_width": ""
          }
        },
        "767767d71d1e44f8a74617704ff49a5f": {
          "model_module": "@jupyter-widgets/base",
          "model_name": "LayoutModel",
          "model_module_version": "1.2.0",
          "state": {
            "_model_module": "@jupyter-widgets/base",
            "_model_module_version": "1.2.0",
            "_model_name": "LayoutModel",
            "_view_count": null,
            "_view_module": "@jupyter-widgets/base",
            "_view_module_version": "1.2.0",
            "_view_name": "LayoutView",
            "align_content": null,
            "align_items": null,
            "align_self": null,
            "border": null,
            "bottom": null,
            "display": null,
            "flex": "2",
            "flex_flow": null,
            "grid_area": null,
            "grid_auto_columns": null,
            "grid_auto_flow": null,
            "grid_auto_rows": null,
            "grid_column": null,
            "grid_gap": null,
            "grid_row": null,
            "grid_template_areas": null,
            "grid_template_columns": null,
            "grid_template_rows": null,
            "height": null,
            "justify_content": null,
            "justify_items": null,
            "left": null,
            "margin": null,
            "max_height": null,
            "max_width": null,
            "min_height": null,
            "min_width": null,
            "object_fit": null,
            "object_position": null,
            "order": null,
            "overflow": null,
            "overflow_x": null,
            "overflow_y": null,
            "padding": null,
            "right": null,
            "top": null,
            "visibility": null,
            "width": null
          }
        },
        "887a78c88efe46fa8e8fc87f480f314e": {
          "model_module": "@jupyter-widgets/controls",
          "model_name": "ProgressStyleModel",
          "model_module_version": "1.5.0",
          "state": {
            "_model_module": "@jupyter-widgets/controls",
            "_model_module_version": "1.5.0",
            "_model_name": "ProgressStyleModel",
            "_view_count": null,
            "_view_module": "@jupyter-widgets/base",
            "_view_module_version": "1.2.0",
            "_view_name": "StyleView",
            "bar_color": null,
            "description_width": ""
          }
        },
        "011a3545f16f44a4a5bf845b12f66439": {
          "model_module": "@jupyter-widgets/base",
          "model_name": "LayoutModel",
          "model_module_version": "1.2.0",
          "state": {
            "_model_module": "@jupyter-widgets/base",
            "_model_module_version": "1.2.0",
            "_model_name": "LayoutModel",
            "_view_count": null,
            "_view_module": "@jupyter-widgets/base",
            "_view_module_version": "1.2.0",
            "_view_name": "LayoutView",
            "align_content": null,
            "align_items": null,
            "align_self": null,
            "border": null,
            "bottom": null,
            "display": null,
            "flex": null,
            "flex_flow": null,
            "grid_area": null,
            "grid_auto_columns": null,
            "grid_auto_flow": null,
            "grid_auto_rows": null,
            "grid_column": null,
            "grid_gap": null,
            "grid_row": null,
            "grid_template_areas": null,
            "grid_template_columns": null,
            "grid_template_rows": null,
            "height": null,
            "justify_content": null,
            "justify_items": null,
            "left": null,
            "margin": null,
            "max_height": null,
            "max_width": null,
            "min_height": null,
            "min_width": null,
            "object_fit": null,
            "object_position": null,
            "order": null,
            "overflow": null,
            "overflow_x": null,
            "overflow_y": null,
            "padding": null,
            "right": null,
            "top": null,
            "visibility": null,
            "width": null
          }
        },
        "699b1b0f9b74464181fffd87ce138ba5": {
          "model_module": "@jupyter-widgets/controls",
          "model_name": "DescriptionStyleModel",
          "model_module_version": "1.5.0",
          "state": {
            "_model_module": "@jupyter-widgets/controls",
            "_model_module_version": "1.5.0",
            "_model_name": "DescriptionStyleModel",
            "_view_count": null,
            "_view_module": "@jupyter-widgets/base",
            "_view_module_version": "1.2.0",
            "_view_name": "StyleView",
            "description_width": ""
          }
        },
        "63ccdaea04d04e6d85b4f58416226e4b": {
          "model_module": "@jupyter-widgets/controls",
          "model_name": "HBoxModel",
          "model_module_version": "1.5.0",
          "state": {
            "_dom_classes": [],
            "_model_module": "@jupyter-widgets/controls",
            "_model_module_version": "1.5.0",
            "_model_name": "HBoxModel",
            "_view_count": null,
            "_view_module": "@jupyter-widgets/controls",
            "_view_module_version": "1.5.0",
            "_view_name": "HBoxView",
            "box_style": "",
            "children": [
              "IPY_MODEL_549b50e4a7f045bab9dbb9f17c989536",
              "IPY_MODEL_b6c609f3687c4423a18a34fac3e0a39b",
              "IPY_MODEL_e77ef85fdf3a4bd7a904d26dfda6b6f1"
            ],
            "layout": "IPY_MODEL_6c189cdc9a3e4fa2b98bc6bf0e1c7ec1"
          }
        },
        "549b50e4a7f045bab9dbb9f17c989536": {
          "model_module": "@jupyter-widgets/controls",
          "model_name": "HTMLModel",
          "model_module_version": "1.5.0",
          "state": {
            "_dom_classes": [],
            "_model_module": "@jupyter-widgets/controls",
            "_model_module_version": "1.5.0",
            "_model_name": "HTMLModel",
            "_view_count": null,
            "_view_module": "@jupyter-widgets/controls",
            "_view_module_version": "1.5.0",
            "_view_name": "HTMLView",
            "description": "",
            "description_tooltip": null,
            "layout": "IPY_MODEL_2fb4107e87624973a152e602092eff21",
            "placeholder": "​",
            "style": "IPY_MODEL_5a3d3d49c385498ca026f2ec31f3f1be",
            "value": "Testing DataLoader 0: 100%"
          }
        },
        "b6c609f3687c4423a18a34fac3e0a39b": {
          "model_module": "@jupyter-widgets/controls",
          "model_name": "FloatProgressModel",
          "model_module_version": "1.5.0",
          "state": {
            "_dom_classes": [],
            "_model_module": "@jupyter-widgets/controls",
            "_model_module_version": "1.5.0",
            "_model_name": "FloatProgressModel",
            "_view_count": null,
            "_view_module": "@jupyter-widgets/controls",
            "_view_module_version": "1.5.0",
            "_view_name": "ProgressView",
            "bar_style": "success",
            "description": "",
            "description_tooltip": null,
            "layout": "IPY_MODEL_519c76bc8270418cb96eb508c173bc0d",
            "max": 500,
            "min": 0,
            "orientation": "horizontal",
            "style": "IPY_MODEL_971a717e23e3402aaa69cf4af9a27440",
            "value": 500
          }
        },
        "e77ef85fdf3a4bd7a904d26dfda6b6f1": {
          "model_module": "@jupyter-widgets/controls",
          "model_name": "HTMLModel",
          "model_module_version": "1.5.0",
          "state": {
            "_dom_classes": [],
            "_model_module": "@jupyter-widgets/controls",
            "_model_module_version": "1.5.0",
            "_model_name": "HTMLModel",
            "_view_count": null,
            "_view_module": "@jupyter-widgets/controls",
            "_view_module_version": "1.5.0",
            "_view_name": "HTMLView",
            "description": "",
            "description_tooltip": null,
            "layout": "IPY_MODEL_56309f0727f547b8b3f1dce97f2a3f60",
            "placeholder": "​",
            "style": "IPY_MODEL_ff989c79d0bf42f1b8d32f39e4c45ec6",
            "value": " 500/500 [00:23&lt;00:00, 20.89it/s]"
          }
        },
        "6c189cdc9a3e4fa2b98bc6bf0e1c7ec1": {
          "model_module": "@jupyter-widgets/base",
          "model_name": "LayoutModel",
          "model_module_version": "1.2.0",
          "state": {
            "_model_module": "@jupyter-widgets/base",
            "_model_module_version": "1.2.0",
            "_model_name": "LayoutModel",
            "_view_count": null,
            "_view_module": "@jupyter-widgets/base",
            "_view_module_version": "1.2.0",
            "_view_name": "LayoutView",
            "align_content": null,
            "align_items": null,
            "align_self": null,
            "border": null,
            "bottom": null,
            "display": "inline-flex",
            "flex": null,
            "flex_flow": "row wrap",
            "grid_area": null,
            "grid_auto_columns": null,
            "grid_auto_flow": null,
            "grid_auto_rows": null,
            "grid_column": null,
            "grid_gap": null,
            "grid_row": null,
            "grid_template_areas": null,
            "grid_template_columns": null,
            "grid_template_rows": null,
            "height": null,
            "justify_content": null,
            "justify_items": null,
            "left": null,
            "margin": null,
            "max_height": null,
            "max_width": null,
            "min_height": null,
            "min_width": null,
            "object_fit": null,
            "object_position": null,
            "order": null,
            "overflow": null,
            "overflow_x": null,
            "overflow_y": null,
            "padding": null,
            "right": null,
            "top": null,
            "visibility": null,
            "width": "100%"
          }
        },
        "2fb4107e87624973a152e602092eff21": {
          "model_module": "@jupyter-widgets/base",
          "model_name": "LayoutModel",
          "model_module_version": "1.2.0",
          "state": {
            "_model_module": "@jupyter-widgets/base",
            "_model_module_version": "1.2.0",
            "_model_name": "LayoutModel",
            "_view_count": null,
            "_view_module": "@jupyter-widgets/base",
            "_view_module_version": "1.2.0",
            "_view_name": "LayoutView",
            "align_content": null,
            "align_items": null,
            "align_self": null,
            "border": null,
            "bottom": null,
            "display": null,
            "flex": null,
            "flex_flow": null,
            "grid_area": null,
            "grid_auto_columns": null,
            "grid_auto_flow": null,
            "grid_auto_rows": null,
            "grid_column": null,
            "grid_gap": null,
            "grid_row": null,
            "grid_template_areas": null,
            "grid_template_columns": null,
            "grid_template_rows": null,
            "height": null,
            "justify_content": null,
            "justify_items": null,
            "left": null,
            "margin": null,
            "max_height": null,
            "max_width": null,
            "min_height": null,
            "min_width": null,
            "object_fit": null,
            "object_position": null,
            "order": null,
            "overflow": null,
            "overflow_x": null,
            "overflow_y": null,
            "padding": null,
            "right": null,
            "top": null,
            "visibility": null,
            "width": null
          }
        },
        "5a3d3d49c385498ca026f2ec31f3f1be": {
          "model_module": "@jupyter-widgets/controls",
          "model_name": "DescriptionStyleModel",
          "model_module_version": "1.5.0",
          "state": {
            "_model_module": "@jupyter-widgets/controls",
            "_model_module_version": "1.5.0",
            "_model_name": "DescriptionStyleModel",
            "_view_count": null,
            "_view_module": "@jupyter-widgets/base",
            "_view_module_version": "1.2.0",
            "_view_name": "StyleView",
            "description_width": ""
          }
        },
        "519c76bc8270418cb96eb508c173bc0d": {
          "model_module": "@jupyter-widgets/base",
          "model_name": "LayoutModel",
          "model_module_version": "1.2.0",
          "state": {
            "_model_module": "@jupyter-widgets/base",
            "_model_module_version": "1.2.0",
            "_model_name": "LayoutModel",
            "_view_count": null,
            "_view_module": "@jupyter-widgets/base",
            "_view_module_version": "1.2.0",
            "_view_name": "LayoutView",
            "align_content": null,
            "align_items": null,
            "align_self": null,
            "border": null,
            "bottom": null,
            "display": null,
            "flex": "2",
            "flex_flow": null,
            "grid_area": null,
            "grid_auto_columns": null,
            "grid_auto_flow": null,
            "grid_auto_rows": null,
            "grid_column": null,
            "grid_gap": null,
            "grid_row": null,
            "grid_template_areas": null,
            "grid_template_columns": null,
            "grid_template_rows": null,
            "height": null,
            "justify_content": null,
            "justify_items": null,
            "left": null,
            "margin": null,
            "max_height": null,
            "max_width": null,
            "min_height": null,
            "min_width": null,
            "object_fit": null,
            "object_position": null,
            "order": null,
            "overflow": null,
            "overflow_x": null,
            "overflow_y": null,
            "padding": null,
            "right": null,
            "top": null,
            "visibility": null,
            "width": null
          }
        },
        "971a717e23e3402aaa69cf4af9a27440": {
          "model_module": "@jupyter-widgets/controls",
          "model_name": "ProgressStyleModel",
          "model_module_version": "1.5.0",
          "state": {
            "_model_module": "@jupyter-widgets/controls",
            "_model_module_version": "1.5.0",
            "_model_name": "ProgressStyleModel",
            "_view_count": null,
            "_view_module": "@jupyter-widgets/base",
            "_view_module_version": "1.2.0",
            "_view_name": "StyleView",
            "bar_color": null,
            "description_width": ""
          }
        },
        "56309f0727f547b8b3f1dce97f2a3f60": {
          "model_module": "@jupyter-widgets/base",
          "model_name": "LayoutModel",
          "model_module_version": "1.2.0",
          "state": {
            "_model_module": "@jupyter-widgets/base",
            "_model_module_version": "1.2.0",
            "_model_name": "LayoutModel",
            "_view_count": null,
            "_view_module": "@jupyter-widgets/base",
            "_view_module_version": "1.2.0",
            "_view_name": "LayoutView",
            "align_content": null,
            "align_items": null,
            "align_self": null,
            "border": null,
            "bottom": null,
            "display": null,
            "flex": null,
            "flex_flow": null,
            "grid_area": null,
            "grid_auto_columns": null,
            "grid_auto_flow": null,
            "grid_auto_rows": null,
            "grid_column": null,
            "grid_gap": null,
            "grid_row": null,
            "grid_template_areas": null,
            "grid_template_columns": null,
            "grid_template_rows": null,
            "height": null,
            "justify_content": null,
            "justify_items": null,
            "left": null,
            "margin": null,
            "max_height": null,
            "max_width": null,
            "min_height": null,
            "min_width": null,
            "object_fit": null,
            "object_position": null,
            "order": null,
            "overflow": null,
            "overflow_x": null,
            "overflow_y": null,
            "padding": null,
            "right": null,
            "top": null,
            "visibility": null,
            "width": null
          }
        },
        "ff989c79d0bf42f1b8d32f39e4c45ec6": {
          "model_module": "@jupyter-widgets/controls",
          "model_name": "DescriptionStyleModel",
          "model_module_version": "1.5.0",
          "state": {
            "_model_module": "@jupyter-widgets/controls",
            "_model_module_version": "1.5.0",
            "_model_name": "DescriptionStyleModel",
            "_view_count": null,
            "_view_module": "@jupyter-widgets/base",
            "_view_module_version": "1.2.0",
            "_view_name": "StyleView",
            "description_width": ""
          }
        }
      }
    }
  },
  "nbformat_minor": 0,
  "nbformat": 4,
  "cells": [
    {
      "cell_type": "markdown",
      "metadata": {
        "id": "view-in-github",
        "colab_type": "text"
      },
      "source": [
        "<a href=\"https://colab.research.google.com/github/ambideXtrous9/T5-FineTuned-Model-for-NewsQA/blob/main/NewsQA_T5_model.ipynb\" target=\"_parent\"><img src=\"https://colab.research.google.com/assets/colab-badge.svg\" alt=\"Open In Colab\"/></a>"
      ]
    },
    {
      "cell_type": "code",
      "source": [
        "!nvidia-smi"
      ],
      "metadata": {
        "colab": {
          "base_uri": "https://localhost:8080/"
        },
        "id": "IfYGPbI77os7",
        "outputId": "874aa202-0e85-4191-9d3a-0887cfc1e510",
        "execution": {
          "iopub.status.busy": "2023-01-29T18:10:55.851088Z",
          "iopub.execute_input": "2023-01-29T18:10:55.852493Z",
          "iopub.status.idle": "2023-01-29T18:10:56.994341Z",
          "shell.execute_reply.started": "2023-01-29T18:10:55.852445Z",
          "shell.execute_reply": "2023-01-29T18:10:56.993162Z"
        },
        "trusted": true
      },
      "execution_count": 11,
      "outputs": [
        {
          "output_type": "stream",
          "name": "stdout",
          "text": [
            "Mon Jan 30 06:56:04 2023       \n",
            "+-----------------------------------------------------------------------------+\n",
            "| NVIDIA-SMI 510.47.03    Driver Version: 510.47.03    CUDA Version: 11.6     |\n",
            "|-------------------------------+----------------------+----------------------+\n",
            "| GPU  Name        Persistence-M| Bus-Id        Disp.A | Volatile Uncorr. ECC |\n",
            "| Fan  Temp  Perf  Pwr:Usage/Cap|         Memory-Usage | GPU-Util  Compute M. |\n",
            "|                               |                      |               MIG M. |\n",
            "|===============================+======================+======================|\n",
            "|   0  Tesla T4            Off  | 00000000:00:04.0 Off |                    0 |\n",
            "| N/A   41C    P0    26W /  70W |      0MiB / 15360MiB |      0%      Default |\n",
            "|                               |                      |                  N/A |\n",
            "+-------------------------------+----------------------+----------------------+\n",
            "                                                                               \n",
            "+-----------------------------------------------------------------------------+\n",
            "| Processes:                                                                  |\n",
            "|  GPU   GI   CI        PID   Type   Process name                  GPU Memory |\n",
            "|        ID   ID                                                   Usage      |\n",
            "|=============================================================================|\n",
            "|  No running processes found                                                 |\n",
            "+-----------------------------------------------------------------------------+\n"
          ]
        }
      ]
    },
    {
      "cell_type": "code",
      "source": [
        "!pip install --quiet transformers\n",
        "!pip install --quiet pytorch-lightning\n",
        "!pip install --quiet tokenizers\n",
        "!pip install --quiet torch"
      ],
      "metadata": {
        "id": "BOGVLURH7teO",
        "execution": {
          "iopub.status.busy": "2023-01-29T18:10:56.998830Z",
          "iopub.execute_input": "2023-01-29T18:10:56.999157Z",
          "iopub.status.idle": "2023-01-29T18:11:37.328156Z",
          "shell.execute_reply.started": "2023-01-29T18:10:56.999126Z",
          "shell.execute_reply": "2023-01-29T18:11:37.326943Z"
        },
        "trusted": true
      },
      "execution_count": 12,
      "outputs": []
    },
    {
      "cell_type": "markdown",
      "source": [
        "# **Import packages**"
      ],
      "metadata": {
        "id": "jrg7sueI-Yac"
      }
    },
    {
      "cell_type": "code",
      "source": [
        "import json\n",
        "import pandas as pd\n",
        "import numpy as np\n",
        "from pathlib import Path\n",
        "\n",
        "from torch.utils.data import Dataset, DataLoader\n",
        "import pytorch_lightning as pl\n",
        "from pytorch_lightning.callbacks import ModelCheckpoint\n",
        "from sklearn.model_selection import train_test_split\n",
        "from termcolor import colored\n",
        "import textwrap\n",
        "from transformers import (\n",
        "    AdamW,T5ForConditionalGeneration, T5TokenizerFast as T5Tokenizer)"
      ],
      "metadata": {
        "id": "LRtGwHJ38MdG",
        "execution": {
          "iopub.status.busy": "2023-01-29T18:11:37.329933Z",
          "iopub.execute_input": "2023-01-29T18:11:37.330678Z",
          "iopub.status.idle": "2023-01-29T18:11:48.245964Z",
          "shell.execute_reply.started": "2023-01-29T18:11:37.330620Z",
          "shell.execute_reply": "2023-01-29T18:11:48.244811Z"
        },
        "trusted": true
      },
      "execution_count": 13,
      "outputs": []
    },
    {
      "cell_type": "code",
      "source": [
        "pl.seed_everything (42)"
      ],
      "metadata": {
        "colab": {
          "base_uri": "https://localhost:8080/"
        },
        "id": "f5wjWNJa9NS0",
        "outputId": "157f7dbd-e6c8-4f0e-db85-04e6aad3c10d",
        "execution": {
          "iopub.status.busy": "2023-01-29T18:11:48.247696Z",
          "iopub.execute_input": "2023-01-29T18:11:48.248460Z",
          "iopub.status.idle": "2023-01-29T18:11:48.261637Z",
          "shell.execute_reply.started": "2023-01-29T18:11:48.248417Z",
          "shell.execute_reply": "2023-01-29T18:11:48.260318Z"
        },
        "trusted": true
      },
      "execution_count": 14,
      "outputs": [
        {
          "output_type": "stream",
          "name": "stderr",
          "text": [
            "INFO:lightning_fabric.utilities.seed:Global seed set to 42\n"
          ]
        },
        {
          "output_type": "execute_result",
          "data": {
            "text/plain": [
              "42"
            ]
          },
          "metadata": {},
          "execution_count": 14
        }
      ]
    },
    {
      "cell_type": "markdown",
      "source": [
        "# **Dataset**"
      ],
      "metadata": {
        "id": "ZW8NFj2v_vMy"
      }
    },
    {
      "cell_type": "code",
      "source": [
        "from google.colab import drive\n",
        "drive.mount('/content/drive')"
      ],
      "metadata": {
        "colab": {
          "base_uri": "https://localhost:8080/"
        },
        "id": "ePjLzHoyC1qI",
        "outputId": "228db4f9-d112-4e0c-b0e7-f40f72c31331"
      },
      "execution_count": 15,
      "outputs": [
        {
          "output_type": "stream",
          "name": "stdout",
          "text": [
            "Drive already mounted at /content/drive; to attempt to forcibly remount, call drive.mount(\"/content/drive\", force_remount=True).\n"
          ]
        }
      ]
    },
    {
      "cell_type": "code",
      "source": [
        "path = '/content/drive/MyDrive/MTP CODE/NewsQA_SPAN.feather'"
      ],
      "metadata": {
        "id": "lNVnF2Ox-XW3",
        "execution": {
          "iopub.status.busy": "2023-01-29T18:11:48.266678Z",
          "iopub.execute_input": "2023-01-29T18:11:48.267309Z",
          "iopub.status.idle": "2023-01-29T18:11:48.271679Z",
          "shell.execute_reply.started": "2023-01-29T18:11:48.267270Z",
          "shell.execute_reply": "2023-01-29T18:11:48.270682Z"
        },
        "trusted": true
      },
      "execution_count": 16,
      "outputs": []
    },
    {
      "cell_type": "code",
      "source": [
        "df = pd.read_feather(path)\n",
        "df"
      ],
      "metadata": {
        "colab": {
          "base_uri": "https://localhost:8080/",
          "height": 423
        },
        "id": "VAKoobAp-w2T",
        "outputId": "7ec8663c-7c90-4d3c-82d7-53a6cdae6e84",
        "execution": {
          "iopub.status.busy": "2023-01-29T18:11:48.273217Z",
          "iopub.execute_input": "2023-01-29T18:11:48.274016Z",
          "iopub.status.idle": "2023-01-29T18:11:50.330411Z",
          "shell.execute_reply.started": "2023-01-29T18:11:48.273978Z",
          "shell.execute_reply": "2023-01-29T18:11:50.329362Z"
        },
        "trusted": true
      },
      "execution_count": 17,
      "outputs": [
        {
          "output_type": "execute_result",
          "data": {
            "text/plain": [
              "                                                 question  \\\n",
              "0       Who is the managing director of Synergee Capital?   \n",
              "1       What is the yield of 30- and 40-year governmen...   \n",
              "2       What is the name of the ETF 2027 that a conser...   \n",
              "3       When would a conservative fixed income investo...   \n",
              "4       What year would a conservative fixed income in...   \n",
              "...                                                   ...   \n",
              "481753  When does Uncle Sam reopen for fully vaccinate...   \n",
              "481754  When will there be three more weekly flights b...   \n",
              "481755  What type of 777s would have helped AI have mo...   \n",
              "481756            What was the first wave of AI nonstops?   \n",
              "481757  Before the second wave, AI had about 40 weekly...   \n",
              "\n",
              "                              answer     ans_pos  \\\n",
              "0                       Vikram Dalal  [133, 145]   \n",
              "1                                 7%  [565, 567]   \n",
              "2                                SDL  [209, 212]   \n",
              "3                               2027  [217, 221]   \n",
              "4                               2040  [260, 264]   \n",
              "...                              ...         ...   \n",
              "481753                    November 8  [295, 305]   \n",
              "481754  from second week of November  [116, 144]   \n",
              "481755                        Boeing  [306, 312]   \n",
              "481756                        second    [11, 17]   \n",
              "481757                            US    [59, 61]   \n",
              "\n",
              "                                                paragraph  answer_start  \\\n",
              "0        \"Investors can use a combination of governmen...           133   \n",
              "1        \"Investors can use a combination of governmen...           565   \n",
              "2        According to financial planners, an example o...           209   \n",
              "3        According to financial planners, an example o...           217   \n",
              "4        According to financial planners, an example o...           260   \n",
              "...                                                   ...           ...   \n",
              "481753  NEW DELHI: This could be the last expansion of...           295   \n",
              "481754  It currently has 23 weekly flights to America....           116   \n",
              "481755  It currently has 23 weekly flights to America....           306   \n",
              "481756  Before the second wave this summer, AI had abo...            11   \n",
              "481757  Before the second wave this summer, AI had abo...            59   \n",
              "\n",
              "        answer_end  \n",
              "0              145  \n",
              "1              567  \n",
              "2              212  \n",
              "3              221  \n",
              "4              264  \n",
              "...            ...  \n",
              "481753         305  \n",
              "481754         144  \n",
              "481755         312  \n",
              "481756          17  \n",
              "481757          61  \n",
              "\n",
              "[481758 rows x 6 columns]"
            ],
            "text/html": [
              "\n",
              "  <div id=\"df-41d7a24e-0dcc-4043-95b9-eda1624279ab\">\n",
              "    <div class=\"colab-df-container\">\n",
              "      <div>\n",
              "<style scoped>\n",
              "    .dataframe tbody tr th:only-of-type {\n",
              "        vertical-align: middle;\n",
              "    }\n",
              "\n",
              "    .dataframe tbody tr th {\n",
              "        vertical-align: top;\n",
              "    }\n",
              "\n",
              "    .dataframe thead th {\n",
              "        text-align: right;\n",
              "    }\n",
              "</style>\n",
              "<table border=\"1\" class=\"dataframe\">\n",
              "  <thead>\n",
              "    <tr style=\"text-align: right;\">\n",
              "      <th></th>\n",
              "      <th>question</th>\n",
              "      <th>answer</th>\n",
              "      <th>ans_pos</th>\n",
              "      <th>paragraph</th>\n",
              "      <th>answer_start</th>\n",
              "      <th>answer_end</th>\n",
              "    </tr>\n",
              "  </thead>\n",
              "  <tbody>\n",
              "    <tr>\n",
              "      <th>0</th>\n",
              "      <td>Who is the managing director of Synergee Capital?</td>\n",
              "      <td>Vikram Dalal</td>\n",
              "      <td>[133, 145]</td>\n",
              "      <td>\"Investors can use a combination of governmen...</td>\n",
              "      <td>133</td>\n",
              "      <td>145</td>\n",
              "    </tr>\n",
              "    <tr>\n",
              "      <th>1</th>\n",
              "      <td>What is the yield of 30- and 40-year governmen...</td>\n",
              "      <td>7%</td>\n",
              "      <td>[565, 567]</td>\n",
              "      <td>\"Investors can use a combination of governmen...</td>\n",
              "      <td>565</td>\n",
              "      <td>567</td>\n",
              "    </tr>\n",
              "    <tr>\n",
              "      <th>2</th>\n",
              "      <td>What is the name of the ETF 2027 that a conser...</td>\n",
              "      <td>SDL</td>\n",
              "      <td>[209, 212]</td>\n",
              "      <td>According to financial planners, an example o...</td>\n",
              "      <td>209</td>\n",
              "      <td>212</td>\n",
              "    </tr>\n",
              "    <tr>\n",
              "      <th>3</th>\n",
              "      <td>When would a conservative fixed income investo...</td>\n",
              "      <td>2027</td>\n",
              "      <td>[217, 221]</td>\n",
              "      <td>According to financial planners, an example o...</td>\n",
              "      <td>217</td>\n",
              "      <td>221</td>\n",
              "    </tr>\n",
              "    <tr>\n",
              "      <th>4</th>\n",
              "      <td>What year would a conservative fixed income in...</td>\n",
              "      <td>2040</td>\n",
              "      <td>[260, 264]</td>\n",
              "      <td>According to financial planners, an example o...</td>\n",
              "      <td>260</td>\n",
              "      <td>264</td>\n",
              "    </tr>\n",
              "    <tr>\n",
              "      <th>...</th>\n",
              "      <td>...</td>\n",
              "      <td>...</td>\n",
              "      <td>...</td>\n",
              "      <td>...</td>\n",
              "      <td>...</td>\n",
              "      <td>...</td>\n",
              "    </tr>\n",
              "    <tr>\n",
              "      <th>481753</th>\n",
              "      <td>When does Uncle Sam reopen for fully vaccinate...</td>\n",
              "      <td>November 8</td>\n",
              "      <td>[295, 305]</td>\n",
              "      <td>NEW DELHI: This could be the last expansion of...</td>\n",
              "      <td>295</td>\n",
              "      <td>305</td>\n",
              "    </tr>\n",
              "    <tr>\n",
              "      <th>481754</th>\n",
              "      <td>When will there be three more weekly flights b...</td>\n",
              "      <td>from second week of November</td>\n",
              "      <td>[116, 144]</td>\n",
              "      <td>It currently has 23 weekly flights to America....</td>\n",
              "      <td>116</td>\n",
              "      <td>144</td>\n",
              "    </tr>\n",
              "    <tr>\n",
              "      <th>481755</th>\n",
              "      <td>What type of 777s would have helped AI have mo...</td>\n",
              "      <td>Boeing</td>\n",
              "      <td>[306, 312]</td>\n",
              "      <td>It currently has 23 weekly flights to America....</td>\n",
              "      <td>306</td>\n",
              "      <td>312</td>\n",
              "    </tr>\n",
              "    <tr>\n",
              "      <th>481756</th>\n",
              "      <td>What was the first wave of AI nonstops?</td>\n",
              "      <td>second</td>\n",
              "      <td>[11, 17]</td>\n",
              "      <td>Before the second wave this summer, AI had abo...</td>\n",
              "      <td>11</td>\n",
              "      <td>17</td>\n",
              "    </tr>\n",
              "    <tr>\n",
              "      <th>481757</th>\n",
              "      <td>Before the second wave, AI had about 40 weekly...</td>\n",
              "      <td>US</td>\n",
              "      <td>[59, 61]</td>\n",
              "      <td>Before the second wave this summer, AI had abo...</td>\n",
              "      <td>59</td>\n",
              "      <td>61</td>\n",
              "    </tr>\n",
              "  </tbody>\n",
              "</table>\n",
              "<p>481758 rows × 6 columns</p>\n",
              "</div>\n",
              "      <button class=\"colab-df-convert\" onclick=\"convertToInteractive('df-41d7a24e-0dcc-4043-95b9-eda1624279ab')\"\n",
              "              title=\"Convert this dataframe to an interactive table.\"\n",
              "              style=\"display:none;\">\n",
              "        \n",
              "  <svg xmlns=\"http://www.w3.org/2000/svg\" height=\"24px\"viewBox=\"0 0 24 24\"\n",
              "       width=\"24px\">\n",
              "    <path d=\"M0 0h24v24H0V0z\" fill=\"none\"/>\n",
              "    <path d=\"M18.56 5.44l.94 2.06.94-2.06 2.06-.94-2.06-.94-.94-2.06-.94 2.06-2.06.94zm-11 1L8.5 8.5l.94-2.06 2.06-.94-2.06-.94L8.5 2.5l-.94 2.06-2.06.94zm10 10l.94 2.06.94-2.06 2.06-.94-2.06-.94-.94-2.06-.94 2.06-2.06.94z\"/><path d=\"M17.41 7.96l-1.37-1.37c-.4-.4-.92-.59-1.43-.59-.52 0-1.04.2-1.43.59L10.3 9.45l-7.72 7.72c-.78.78-.78 2.05 0 2.83L4 21.41c.39.39.9.59 1.41.59.51 0 1.02-.2 1.41-.59l7.78-7.78 2.81-2.81c.8-.78.8-2.07 0-2.86zM5.41 20L4 18.59l7.72-7.72 1.47 1.35L5.41 20z\"/>\n",
              "  </svg>\n",
              "      </button>\n",
              "      \n",
              "  <style>\n",
              "    .colab-df-container {\n",
              "      display:flex;\n",
              "      flex-wrap:wrap;\n",
              "      gap: 12px;\n",
              "    }\n",
              "\n",
              "    .colab-df-convert {\n",
              "      background-color: #E8F0FE;\n",
              "      border: none;\n",
              "      border-radius: 50%;\n",
              "      cursor: pointer;\n",
              "      display: none;\n",
              "      fill: #1967D2;\n",
              "      height: 32px;\n",
              "      padding: 0 0 0 0;\n",
              "      width: 32px;\n",
              "    }\n",
              "\n",
              "    .colab-df-convert:hover {\n",
              "      background-color: #E2EBFA;\n",
              "      box-shadow: 0px 1px 2px rgba(60, 64, 67, 0.3), 0px 1px 3px 1px rgba(60, 64, 67, 0.15);\n",
              "      fill: #174EA6;\n",
              "    }\n",
              "\n",
              "    [theme=dark] .colab-df-convert {\n",
              "      background-color: #3B4455;\n",
              "      fill: #D2E3FC;\n",
              "    }\n",
              "\n",
              "    [theme=dark] .colab-df-convert:hover {\n",
              "      background-color: #434B5C;\n",
              "      box-shadow: 0px 1px 3px 1px rgba(0, 0, 0, 0.15);\n",
              "      filter: drop-shadow(0px 1px 2px rgba(0, 0, 0, 0.3));\n",
              "      fill: #FFFFFF;\n",
              "    }\n",
              "  </style>\n",
              "\n",
              "      <script>\n",
              "        const buttonEl =\n",
              "          document.querySelector('#df-41d7a24e-0dcc-4043-95b9-eda1624279ab button.colab-df-convert');\n",
              "        buttonEl.style.display =\n",
              "          google.colab.kernel.accessAllowed ? 'block' : 'none';\n",
              "\n",
              "        async function convertToInteractive(key) {\n",
              "          const element = document.querySelector('#df-41d7a24e-0dcc-4043-95b9-eda1624279ab');\n",
              "          const dataTable =\n",
              "            await google.colab.kernel.invokeFunction('convertToInteractive',\n",
              "                                                     [key], {});\n",
              "          if (!dataTable) return;\n",
              "\n",
              "          const docLinkHtml = 'Like what you see? Visit the ' +\n",
              "            '<a target=\"_blank\" href=https://colab.research.google.com/notebooks/data_table.ipynb>data table notebook</a>'\n",
              "            + ' to learn more about interactive tables.';\n",
              "          element.innerHTML = '';\n",
              "          dataTable['output_type'] = 'display_data';\n",
              "          await google.colab.output.renderOutput(dataTable, element);\n",
              "          const docLink = document.createElement('div');\n",
              "          docLink.innerHTML = docLinkHtml;\n",
              "          element.appendChild(docLink);\n",
              "        }\n",
              "      </script>\n",
              "    </div>\n",
              "  </div>\n",
              "  "
            ]
          },
          "metadata": {},
          "execution_count": 17
        }
      ]
    },
    {
      "cell_type": "code",
      "source": [
        "df = df.iloc[:5000]"
      ],
      "metadata": {
        "id": "-sPYt2X90rYb",
        "execution": {
          "iopub.status.busy": "2023-01-29T18:11:50.331881Z",
          "iopub.execute_input": "2023-01-29T18:11:50.333908Z",
          "iopub.status.idle": "2023-01-29T18:11:50.338843Z",
          "shell.execute_reply.started": "2023-01-29T18:11:50.333865Z",
          "shell.execute_reply": "2023-01-29T18:11:50.337681Z"
        },
        "trusted": true
      },
      "execution_count": 18,
      "outputs": []
    },
    {
      "cell_type": "markdown",
      "source": [
        "# **Tokenization**"
      ],
      "metadata": {
        "id": "QtmR_cUM_pVP"
      }
    },
    {
      "cell_type": "code",
      "source": [
        "MODEL_NAME = 't5-base'"
      ],
      "metadata": {
        "id": "N73_9CLJ-0a6",
        "execution": {
          "iopub.status.busy": "2023-01-29T18:11:50.340410Z",
          "iopub.execute_input": "2023-01-29T18:11:50.341116Z",
          "iopub.status.idle": "2023-01-29T18:11:50.350612Z",
          "shell.execute_reply.started": "2023-01-29T18:11:50.341078Z",
          "shell.execute_reply": "2023-01-29T18:11:50.349746Z"
        },
        "trusted": true
      },
      "execution_count": 19,
      "outputs": []
    },
    {
      "cell_type": "code",
      "source": [
        "tokenizer = T5Tokenizer.from_pretrained(MODEL_NAME)"
      ],
      "metadata": {
        "colab": {
          "base_uri": "https://localhost:8080/"
        },
        "id": "l1fNyhiw_3di",
        "outputId": "951b8946-bb98-4527-d74d-a33c17437a9c",
        "execution": {
          "iopub.status.busy": "2023-01-29T18:11:50.351756Z",
          "iopub.execute_input": "2023-01-29T18:11:50.353475Z",
          "iopub.status.idle": "2023-01-29T18:11:52.498602Z",
          "shell.execute_reply.started": "2023-01-29T18:11:50.353434Z",
          "shell.execute_reply": "2023-01-29T18:11:52.497407Z"
        },
        "trusted": true
      },
      "execution_count": 20,
      "outputs": [
        {
          "output_type": "stream",
          "name": "stderr",
          "text": [
            "/usr/local/lib/python3.8/dist-packages/transformers/models/t5/tokenization_t5_fast.py:155: FutureWarning: This tokenizer was incorrectly instantiated with a model max length of 512 which will be corrected in Transformers v5.\n",
            "For now, this behavior is kept to avoid breaking backwards compatibility when padding/encoding with `truncation is True`.\n",
            "- Be aware that you SHOULD NOT rely on t5-base automatically truncating your input to 512 when padding/encoding.\n",
            "- If you want to encode/pad to sequences longer than 512 you can either instantiate this tokenizer with `model_max_length` or pass `max_length` when encoding/padding.\n",
            "- To avoid this warning, please instantiate this tokenizer with `model_max_length` set to your preferred value.\n",
            "  warnings.warn(\n"
          ]
        }
      ]
    },
    {
      "cell_type": "code",
      "source": [
        "class NQADataset(Dataset):\n",
        "  def __init__(self,data : pd.DataFrame,tokenizer : T5Tokenizer,source_max_token_len : int = 396,target_max_token_len : int = 32):\n",
        "\n",
        "    self.tokenizer = tokenizer\n",
        "    self.data = data\n",
        "    self.source_max_token_len = source_max_token_len\n",
        "    self.target_max_token_len = target_max_token_len\n",
        "\n",
        "  def __len__(self):\n",
        "    return len(self.data)\n",
        "  \n",
        "  def __getitem__(self,index : int):\n",
        "    data_row = self.data.iloc[index]\n",
        "\n",
        "    source_encoding = tokenizer(\n",
        "        data_row['question'],\n",
        "        data_row['paragraph'],\n",
        "        max_length = self.source_max_token_len,\n",
        "        padding = \"max_length\",\n",
        "        truncation = \"only_second\",\n",
        "        return_attention_mask = True,\n",
        "        add_special_tokens = True,\n",
        "        return_tensors = \"pt\")\n",
        "    \n",
        "    target_encoding = tokenizer(\n",
        "        data_row['answer'],\n",
        "        max_length = self.target_max_token_len,\n",
        "        padding = \"max_length\",\n",
        "        truncation = True,\n",
        "        return_attention_mask = True,\n",
        "        add_special_tokens = True,\n",
        "        return_tensors = \"pt\")\n",
        "    \n",
        "    labels = target_encoding[\"input_ids\"]\n",
        "    labels[labels == 0] = -100\n",
        "\n",
        "    return dict(\n",
        "        question = data_row['question'],\n",
        "        context = data_row['paragraph'],\n",
        "        answer = data_row['answer'],\n",
        "        input_ids = source_encoding['input_ids'].flatten(),\n",
        "        attention_mask = source_encoding['attention_mask'].flatten(),\n",
        "        labels = labels.flatten())"
      ],
      "metadata": {
        "id": "jhBqD-CFACSc",
        "execution": {
          "iopub.status.busy": "2023-01-29T18:11:52.500187Z",
          "iopub.execute_input": "2023-01-29T18:11:52.500806Z",
          "iopub.status.idle": "2023-01-29T18:11:52.511516Z",
          "shell.execute_reply.started": "2023-01-29T18:11:52.500764Z",
          "shell.execute_reply": "2023-01-29T18:11:52.510404Z"
        },
        "trusted": true
      },
      "execution_count": 21,
      "outputs": []
    },
    {
      "cell_type": "code",
      "source": [
        "sample_dataset = NQADataset(df,tokenizer)"
      ],
      "metadata": {
        "id": "T_4YjQRyEat9",
        "execution": {
          "iopub.status.busy": "2023-01-29T18:11:52.513443Z",
          "iopub.execute_input": "2023-01-29T18:11:52.513880Z",
          "iopub.status.idle": "2023-01-29T18:11:52.525111Z",
          "shell.execute_reply.started": "2023-01-29T18:11:52.513841Z",
          "shell.execute_reply": "2023-01-29T18:11:52.524011Z"
        },
        "trusted": true
      },
      "execution_count": 22,
      "outputs": []
    },
    {
      "cell_type": "code",
      "source": [
        "for data in sample_dataset:\n",
        "  print(data['question'])\n",
        "  print(data['answer'])\n",
        "  print(data['input_ids'][:10])\n",
        "  print(data['labels'][:10])\n",
        "  break\n"
      ],
      "metadata": {
        "colab": {
          "base_uri": "https://localhost:8080/"
        },
        "id": "15Hs0K2zEmGZ",
        "outputId": "6a7c1c41-c79f-41af-a424-81a853216a4b",
        "execution": {
          "iopub.status.busy": "2023-01-29T18:11:52.526817Z",
          "iopub.execute_input": "2023-01-29T18:11:52.527216Z",
          "iopub.status.idle": "2023-01-29T18:11:52.548516Z",
          "shell.execute_reply.started": "2023-01-29T18:11:52.527164Z",
          "shell.execute_reply": "2023-01-29T18:11:52.547269Z"
        },
        "trusted": true
      },
      "execution_count": 23,
      "outputs": [
        {
          "output_type": "stream",
          "name": "stdout",
          "text": [
            "Who is the managing director of Synergee Capital?\n",
            "Vikram Dalal\n",
            "tensor([2645,   19,    8, 5037, 2090,   13, 8951,   49,  397,   15])\n",
            "tensor([ 1813,   157,  2375, 10729,   138,     1,  -100,  -100,  -100,  -100])\n"
          ]
        }
      ]
    },
    {
      "cell_type": "code",
      "source": [
        "train_df, val_df = train_test_split(df,test_size=0.1)"
      ],
      "metadata": {
        "id": "1vPyMu7JFhZT",
        "execution": {
          "iopub.status.busy": "2023-01-29T18:11:52.549943Z",
          "iopub.execute_input": "2023-01-29T18:11:52.550741Z",
          "iopub.status.idle": "2023-01-29T18:11:52.559380Z",
          "shell.execute_reply.started": "2023-01-29T18:11:52.550704Z",
          "shell.execute_reply": "2023-01-29T18:11:52.558403Z"
        },
        "trusted": true
      },
      "execution_count": 24,
      "outputs": []
    },
    {
      "cell_type": "code",
      "source": [
        "train_df.shape, val_df.shape"
      ],
      "metadata": {
        "colab": {
          "base_uri": "https://localhost:8080/"
        },
        "id": "Fx4RKkvZJuN-",
        "outputId": "3f48880c-ca4c-4ab6-c8f3-d911416dbc71",
        "execution": {
          "iopub.status.busy": "2023-01-29T18:11:52.564159Z",
          "iopub.execute_input": "2023-01-29T18:11:52.564476Z",
          "iopub.status.idle": "2023-01-29T18:11:52.572239Z",
          "shell.execute_reply.started": "2023-01-29T18:11:52.564450Z",
          "shell.execute_reply": "2023-01-29T18:11:52.571057Z"
        },
        "trusted": true
      },
      "execution_count": 25,
      "outputs": [
        {
          "output_type": "execute_result",
          "data": {
            "text/plain": [
              "((4500, 6), (500, 6))"
            ]
          },
          "metadata": {},
          "execution_count": 25
        }
      ]
    },
    {
      "cell_type": "code",
      "source": [
        "class NQADataModule(pl.LightningDataModule):\n",
        "  def __init__(self,train_df : pd.DataFrame,test_df : pd.DataFrame,tokenizer : T5Tokenizer,batch_size : int = 8,source_max_token_len : int = 396,target_max_token_len : int = 32):\n",
        "    super().__init__()\n",
        "    self.batch_size = batch_size\n",
        "    self.train_df = train_df\n",
        "    self.test_df = test_df\n",
        "    self.tokenizer = tokenizer\n",
        "    self.source_max_token_len = source_max_token_len\n",
        "    self.target_max_token_len = target_max_token_len\n",
        "\n",
        "  def setup(self,stage=None):\n",
        "    self.train_dataset = NQADataset(self.train_df,self.tokenizer,self.source_max_token_len,self.target_max_token_len)\n",
        "    self.test_dataset = NQADataset(self.test_df,self.tokenizer,self.source_max_token_len,self.target_max_token_len)\n",
        "\n",
        "  def train_dataloader(self):\n",
        "    return DataLoader(self.train_dataset,batch_size = self.batch_size,shuffle=True,num_workers=4)\n",
        "\n",
        "  def val_dataloader(self):\n",
        "    return DataLoader(self.test_dataset,batch_size = 1,num_workers=4)\n",
        "\n",
        "  def test_dataloader(self):\n",
        "    return DataLoader(self.test_dataset,batch_size = 1,num_workers=4)   "
      ],
      "metadata": {
        "id": "Vow-rDE0JzP7",
        "execution": {
          "iopub.status.busy": "2023-01-29T18:11:52.573492Z",
          "iopub.execute_input": "2023-01-29T18:11:52.574049Z",
          "iopub.status.idle": "2023-01-29T18:11:52.585814Z",
          "shell.execute_reply.started": "2023-01-29T18:11:52.574013Z",
          "shell.execute_reply": "2023-01-29T18:11:52.584832Z"
        },
        "trusted": true
      },
      "execution_count": 26,
      "outputs": []
    },
    {
      "cell_type": "code",
      "source": [
        "type(train_df)"
      ],
      "metadata": {
        "colab": {
          "base_uri": "https://localhost:8080/"
        },
        "id": "BPZUV0R7u7h7",
        "outputId": "8b0a7b7e-7ffb-4151-8032-24669a5245ef",
        "execution": {
          "iopub.status.busy": "2023-01-29T18:11:52.587466Z",
          "iopub.execute_input": "2023-01-29T18:11:52.588153Z",
          "iopub.status.idle": "2023-01-29T18:11:52.599838Z",
          "shell.execute_reply.started": "2023-01-29T18:11:52.588118Z",
          "shell.execute_reply": "2023-01-29T18:11:52.598853Z"
        },
        "trusted": true
      },
      "execution_count": 27,
      "outputs": [
        {
          "output_type": "execute_result",
          "data": {
            "text/plain": [
              "pandas.core.frame.DataFrame"
            ]
          },
          "metadata": {},
          "execution_count": 27
        }
      ]
    },
    {
      "cell_type": "code",
      "source": [
        "BATCH_SIZE = 2\n",
        "N_EPOCHS = 2\n",
        "\n",
        "data_module = NQADataModule(train_df,val_df,tokenizer,batch_size = BATCH_SIZE)\n",
        "data_module.setup()"
      ],
      "metadata": {
        "id": "0CqS_ZxvPTa-",
        "execution": {
          "iopub.status.busy": "2023-01-29T18:11:52.603114Z",
          "iopub.execute_input": "2023-01-29T18:11:52.603399Z",
          "iopub.status.idle": "2023-01-29T18:11:52.610270Z",
          "shell.execute_reply.started": "2023-01-29T18:11:52.603373Z",
          "shell.execute_reply": "2023-01-29T18:11:52.609309Z"
        },
        "trusted": true
      },
      "execution_count": 28,
      "outputs": []
    },
    {
      "cell_type": "code",
      "source": [
        "class NQAModel(pl.LightningModule):\n",
        "  def __init__(self):\n",
        "    super().__init__()\n",
        "    self.model = T5ForConditionalGeneration.from_pretrained(MODEL_NAME,return_dict=True)\n",
        "\n",
        "  def forward(self,input_ids,attention_mask,labels=None):\n",
        "    output = self.model(\n",
        "        input_ids = input_ids,\n",
        "        attention_mask = attention_mask,\n",
        "        labels = labels)\n",
        "    \n",
        "    return output.loss, output.logits\n",
        "\n",
        "  def training_step(self,batch,batch_idx):\n",
        "    input_ids = batch['input_ids']\n",
        "    attention_mask = batch['attention_mask']\n",
        "    labels = batch['labels']\n",
        "    loss, outputs = self(input_ids,attention_mask,labels)\n",
        "    self.log(\"train_loss\",loss,prog_bar=True,logger=True)\n",
        "    return loss\n",
        "\n",
        "  def validation_step(self,batch,batch_idx):\n",
        "    input_ids = batch['input_ids']\n",
        "    attention_mask = batch['attention_mask']\n",
        "    labels = batch['labels']\n",
        "    loss, outputs = self(input_ids,attention_mask,labels)\n",
        "    self.log(\"val_loss\",loss,prog_bar=True,logger=True)\n",
        "    return loss\n",
        "\n",
        "  def test_step(self,batch,batch_idx):\n",
        "    input_ids = batch['input_ids']\n",
        "    attention_mask = batch['attention_mask']\n",
        "    labels = batch['labels']\n",
        "    loss, outputs = self(input_ids,attention_mask,labels)\n",
        "    self.log(\"test_loss\",loss,prog_bar=True,logger=True)\n",
        "    return loss\n",
        "\n",
        "  def configure_optimizers(self):\n",
        "    return AdamW(self.parameters(),lr = 0.0001)"
      ],
      "metadata": {
        "id": "8ED4aqyfPzh0",
        "execution": {
          "iopub.status.busy": "2023-01-29T18:11:52.611839Z",
          "iopub.execute_input": "2023-01-29T18:11:52.612404Z",
          "iopub.status.idle": "2023-01-29T18:11:52.626889Z",
          "shell.execute_reply.started": "2023-01-29T18:11:52.612370Z",
          "shell.execute_reply": "2023-01-29T18:11:52.625797Z"
        },
        "trusted": true
      },
      "execution_count": 29,
      "outputs": []
    },
    {
      "cell_type": "code",
      "source": [
        "model = NQAModel()"
      ],
      "metadata": {
        "id": "VPzLypoprIxC",
        "execution": {
          "iopub.status.busy": "2023-01-29T18:11:52.628760Z",
          "iopub.execute_input": "2023-01-29T18:11:52.629074Z",
          "iopub.status.idle": "2023-01-29T18:12:28.041124Z",
          "shell.execute_reply.started": "2023-01-29T18:11:52.629042Z",
          "shell.execute_reply": "2023-01-29T18:12:28.040111Z"
        },
        "trusted": true
      },
      "execution_count": 30,
      "outputs": []
    },
    {
      "cell_type": "code",
      "source": [
        "checkpoint_callback = ModelCheckpoint(\n",
        "    dirpath = 'checkpoints',\n",
        "    filename = 'best_cp',\n",
        "    save_top_k = 1,\n",
        "    verbose = True,\n",
        "    monitor = 'val_loss',\n",
        "    mode = 'min'\n",
        ")"
      ],
      "metadata": {
        "id": "mc2MJG-Qrnfy",
        "execution": {
          "iopub.status.busy": "2023-01-29T18:12:28.042873Z",
          "iopub.execute_input": "2023-01-29T18:12:28.043252Z",
          "iopub.status.idle": "2023-01-29T18:12:28.053031Z",
          "shell.execute_reply.started": "2023-01-29T18:12:28.043199Z",
          "shell.execute_reply": "2023-01-29T18:12:28.052152Z"
        },
        "trusted": true
      },
      "execution_count": 41,
      "outputs": []
    },
    {
      "cell_type": "code",
      "source": [
        "trainer = pl.Trainer(\n",
        "    callbacks=[checkpoint_callback],\n",
        "    max_epochs = N_EPOCHS,\n",
        "    gpus = -1\n",
        ")"
      ],
      "metadata": {
        "colab": {
          "base_uri": "https://localhost:8080/"
        },
        "id": "3w3DoSKfsNa0",
        "outputId": "631f5049-3096-4878-956a-d557b303c195",
        "execution": {
          "iopub.status.busy": "2023-01-29T18:12:28.054308Z",
          "iopub.execute_input": "2023-01-29T18:12:28.054738Z",
          "iopub.status.idle": "2023-01-29T18:12:29.746231Z",
          "shell.execute_reply.started": "2023-01-29T18:12:28.054702Z",
          "shell.execute_reply": "2023-01-29T18:12:29.745188Z"
        },
        "trusted": true
      },
      "execution_count": 42,
      "outputs": [
        {
          "output_type": "stream",
          "name": "stderr",
          "text": [
            "/usr/local/lib/python3.8/dist-packages/pytorch_lightning/trainer/connectors/accelerator_connector.py:467: LightningDeprecationWarning: Setting `Trainer(gpus=-1)` is deprecated in v1.7 and will be removed in v2.0. Please use `Trainer(accelerator='gpu', devices=-1)` instead.\n",
            "  rank_zero_deprecation(\n",
            "INFO:pytorch_lightning.utilities.rank_zero:GPU available: True (cuda), used: True\n",
            "INFO:pytorch_lightning.utilities.rank_zero:TPU available: False, using: 0 TPU cores\n",
            "INFO:pytorch_lightning.utilities.rank_zero:IPU available: False, using: 0 IPUs\n",
            "INFO:pytorch_lightning.utilities.rank_zero:HPU available: False, using: 0 HPUs\n"
          ]
        }
      ]
    },
    {
      "cell_type": "code",
      "source": [
        "!rm -rf checkpoints\n",
        "!rm -rf lightning_logs"
      ],
      "metadata": {
        "id": "wE2rnKHE3QCW",
        "execution": {
          "iopub.status.busy": "2023-01-29T18:12:29.747716Z",
          "iopub.execute_input": "2023-01-29T18:12:29.748373Z",
          "iopub.status.idle": "2023-01-29T18:12:31.799403Z",
          "shell.execute_reply.started": "2023-01-29T18:12:29.748332Z",
          "shell.execute_reply": "2023-01-29T18:12:31.797999Z"
        },
        "trusted": true
      },
      "execution_count": 24,
      "outputs": []
    },
    {
      "cell_type": "code",
      "source": [
        "trainer.fit(model,data_module)"
      ],
      "metadata": {
        "colab": {
          "base_uri": "https://localhost:8080/",
          "height": 364,
          "referenced_widgets": [
            "dbe0f0dac26a4ae2becd887a61cd1795",
            "f9dc98fe7c9946919e50a0782bcc098e",
            "a2a5879b1db349babdf78631525ceb38",
            "7f70e6e81dd94dd09901b3a366fcc154",
            "f1c0a41fedf64339879ec4da45578a6c",
            "d45059ace570499f9a07fe29e268acd8",
            "4c2e240f7ff74e7589a4d76eebc4d54b",
            "dba2c8681726436aa08f679f54a62883",
            "c2a05f7a106d4c71bdf1ef18c63ee062",
            "30a0b285bd1541168c3c268a7b566081",
            "c66a0eff212e4502a8f80d02dc0cece1",
            "60ffcad46f514013889c0b70eae8af62",
            "cf0ad154509346579acc826752b6463b",
            "c463ccb640cb4da9b920ef2fae2b9649",
            "e59da2e33b8948d88032f111838d1fd4",
            "efd3485d390d4a9c89abfc3e84f8a046",
            "2c571e140d1b4b458b34994f9f99e5ce",
            "1d53284885b14fc596b76247f718ab5d",
            "046f83e311cf4af28ca6b29c55b1fe7d",
            "f17c1488650f4fcc889b1a0f9a7ddf3f",
            "e3eef54fa23b44dea132965976fa4437",
            "43c50a3f2fc2485283734ecd8a32b791",
            "164308e468e34768a09adf57def7dc92",
            "c52fe86f8afd4b2fb8179f92ca0797c6",
            "8b9688e4c3354f80af247945506eb35f",
            "8811788bf515495aa85e604869c5a620",
            "c78b3c2b08114e7e8d1d54b40b542dfb",
            "db2dfab1eafe41afb48ef4703c03b7cc",
            "cd3b62906bca4157bad9b302ffa89ad7",
            "bc6bcab7d51f4aa2a83bb558378e4242",
            "e158fa3e35f742fdba93fd79ca8bd347",
            "946af474eaff47d49fee4ca5c9777a7a",
            "a66c8427993d416e8d31ade23e892a2f",
            "7bee54916dfc4c669e01eb472a99f739",
            "db7bda145542481491522f60077be6e2",
            "1e0b7681c2734a5c988f118ae75be6bd",
            "acd5e21881544e45bc328457987846b4",
            "d4d2eb59f80048a5a40e75bff312a916",
            "39a0f1b4596443079845c563f0528750",
            "c2f571c5da104ba6b7791022936ab198",
            "767767d71d1e44f8a74617704ff49a5f",
            "887a78c88efe46fa8e8fc87f480f314e",
            "011a3545f16f44a4a5bf845b12f66439",
            "699b1b0f9b74464181fffd87ce138ba5"
          ]
        },
        "id": "XlkS5wXjsfRz",
        "outputId": "c3442ce9-6a0e-4a03-fdee-ed9f12f549ce",
        "execution": {
          "iopub.status.busy": "2023-01-29T18:12:31.801788Z",
          "iopub.execute_input": "2023-01-29T18:12:31.802243Z",
          "iopub.status.idle": "2023-01-29T18:25:09.983575Z",
          "shell.execute_reply.started": "2023-01-29T18:12:31.802183Z",
          "shell.execute_reply": "2023-01-29T18:25:09.982307Z"
        },
        "trusted": true
      },
      "execution_count": null,
      "outputs": [
        {
          "output_type": "stream",
          "name": "stderr",
          "text": [
            "WARNING:pytorch_lightning.loggers.tensorboard:Missing logger folder: /content/lightning_logs\n",
            "INFO:pytorch_lightning.accelerators.cuda:LOCAL_RANK: 0 - CUDA_VISIBLE_DEVICES: [0]\n",
            "/usr/local/lib/python3.8/dist-packages/transformers/optimization.py:306: FutureWarning: This implementation of AdamW is deprecated and will be removed in a future version. Use the PyTorch implementation torch.optim.AdamW instead, or set `no_deprecation_warning=True` to disable this warning\n",
            "  warnings.warn(\n",
            "INFO:pytorch_lightning.callbacks.model_summary:\n",
            "  | Name  | Type                       | Params\n",
            "-----------------------------------------------------\n",
            "0 | model | T5ForConditionalGeneration | 222 M \n",
            "-----------------------------------------------------\n",
            "222 M     Trainable params\n",
            "0         Non-trainable params\n",
            "222 M     Total params\n",
            "891.614   Total estimated model params size (MB)\n"
          ]
        },
        {
          "output_type": "display_data",
          "data": {
            "text/plain": [
              "Sanity Checking: 0it [00:00, ?it/s]"
            ],
            "application/vnd.jupyter.widget-view+json": {
              "version_major": 2,
              "version_minor": 0,
              "model_id": "dbe0f0dac26a4ae2becd887a61cd1795"
            }
          },
          "metadata": {}
        },
        {
          "output_type": "stream",
          "name": "stderr",
          "text": [
            "/usr/local/lib/python3.8/dist-packages/torch/utils/data/dataloader.py:554: UserWarning: This DataLoader will create 4 worker processes in total. Our suggested max number of worker in current system is 2, which is smaller than what this DataLoader is going to create. Please be aware that excessive worker creation might get DataLoader running slow or even freeze, lower the worker number to avoid potential slowness/freeze if necessary.\n",
            "  warnings.warn(_create_warning_msg(\n"
          ]
        },
        {
          "output_type": "display_data",
          "data": {
            "text/plain": [
              "Training: 0it [00:00, ?it/s]"
            ],
            "application/vnd.jupyter.widget-view+json": {
              "version_major": 2,
              "version_minor": 0,
              "model_id": "60ffcad46f514013889c0b70eae8af62"
            }
          },
          "metadata": {}
        },
        {
          "output_type": "display_data",
          "data": {
            "text/plain": [
              "Validation: 0it [00:00, ?it/s]"
            ],
            "application/vnd.jupyter.widget-view+json": {
              "version_major": 2,
              "version_minor": 0,
              "model_id": "164308e468e34768a09adf57def7dc92"
            }
          },
          "metadata": {}
        },
        {
          "output_type": "stream",
          "name": "stderr",
          "text": [
            "INFO:pytorch_lightning.utilities.rank_zero:Epoch 0, global step 2250: 'val_loss' reached 0.15808 (best 0.15808), saving model to '/content/checkpoints/best_cp.ckpt' as top 1\n"
          ]
        },
        {
          "output_type": "display_data",
          "data": {
            "text/plain": [
              "Validation: 0it [00:00, ?it/s]"
            ],
            "application/vnd.jupyter.widget-view+json": {
              "version_major": 2,
              "version_minor": 0,
              "model_id": "7bee54916dfc4c669e01eb472a99f739"
            }
          },
          "metadata": {}
        },
        {
          "output_type": "stream",
          "name": "stderr",
          "text": [
            "INFO:pytorch_lightning.utilities.rank_zero:Epoch 1, global step 4500: 'val_loss' reached 0.12769 (best 0.12769), saving model to '/content/checkpoints/best_cp.ckpt' as top 1\n"
          ]
        }
      ]
    },
    {
      "cell_type": "code",
      "source": [
        "trainer.test(model, data_module)"
      ],
      "metadata": {
        "id": "el5jC43Pfbyt"
      },
      "execution_count": null,
      "outputs": []
    },
    {
      "cell_type": "markdown",
      "source": [
        "# **Save Checkpoint to Gdrive**"
      ],
      "metadata": {
        "id": "Rb_OwNYxe-sZ"
      }
    },
    {
      "cell_type": "code",
      "source": [
        "!cp -r '/content/file.zip' '/content/drive/MyDrive/MTP CODE/'"
      ],
      "metadata": {
        "id": "ST953oB6Y6zt"
      },
      "execution_count": 10,
      "outputs": []
    },
    {
      "cell_type": "code",
      "source": [
        "from google.colab import files\n",
        "files.download('/content/checkpoints/best_cp.ckpt')"
      ],
      "metadata": {
        "id": "QfJFZfZlVLjZ"
      },
      "execution_count": null,
      "outputs": []
    },
    {
      "cell_type": "markdown",
      "source": [
        "# **Load the Model from chechkpoint**"
      ],
      "metadata": {
        "id": "EUalIA5gfGT1"
      }
    },
    {
      "cell_type": "code",
      "source": [
        "cppath = '/content/drive/MyDrive/MTP CODE/checkpoints/best_cp.ckpt'\n",
        "trained_model = NQAModel.load_from_checkpoint(cppath)\n",
        "model.freeze()"
      ],
      "metadata": {
        "id": "FSVsnE8heGEy"
      },
      "execution_count": 31,
      "outputs": []
    },
    {
      "cell_type": "code",
      "source": [
        "trainer.test(trained_model, data_module)"
      ],
      "metadata": {
        "id": "ujCOl74vtI99",
        "execution": {
          "iopub.status.busy": "2023-01-29T18:27:53.669831Z",
          "iopub.execute_input": "2023-01-29T18:27:53.670328Z",
          "iopub.status.idle": "2023-01-29T18:28:22.545551Z",
          "shell.execute_reply.started": "2023-01-29T18:27:53.670284Z",
          "shell.execute_reply": "2023-01-29T18:28:22.544392Z"
        },
        "trusted": true,
        "colab": {
          "base_uri": "https://localhost:8080/",
          "height": 243,
          "referenced_widgets": [
            "63ccdaea04d04e6d85b4f58416226e4b",
            "549b50e4a7f045bab9dbb9f17c989536",
            "b6c609f3687c4423a18a34fac3e0a39b",
            "e77ef85fdf3a4bd7a904d26dfda6b6f1",
            "6c189cdc9a3e4fa2b98bc6bf0e1c7ec1",
            "2fb4107e87624973a152e602092eff21",
            "5a3d3d49c385498ca026f2ec31f3f1be",
            "519c76bc8270418cb96eb508c173bc0d",
            "971a717e23e3402aaa69cf4af9a27440",
            "56309f0727f547b8b3f1dce97f2a3f60",
            "ff989c79d0bf42f1b8d32f39e4c45ec6"
          ]
        },
        "outputId": "7c1f9086-c8a3-478d-a484-dadcbf7165cc"
      },
      "execution_count": 43,
      "outputs": [
        {
          "output_type": "stream",
          "name": "stderr",
          "text": [
            "WARNING:pytorch_lightning.loggers.tensorboard:Missing logger folder: /content/checkpoints/lightning_logs\n",
            "INFO:pytorch_lightning.accelerators.cuda:LOCAL_RANK: 0 - CUDA_VISIBLE_DEVICES: [0]\n",
            "/usr/local/lib/python3.8/dist-packages/torch/utils/data/dataloader.py:554: UserWarning: This DataLoader will create 4 worker processes in total. Our suggested max number of worker in current system is 2, which is smaller than what this DataLoader is going to create. Please be aware that excessive worker creation might get DataLoader running slow or even freeze, lower the worker number to avoid potential slowness/freeze if necessary.\n",
            "  warnings.warn(_create_warning_msg(\n"
          ]
        },
        {
          "output_type": "display_data",
          "data": {
            "text/plain": [
              "Testing: 0it [00:00, ?it/s]"
            ],
            "application/vnd.jupyter.widget-view+json": {
              "version_major": 2,
              "version_minor": 0,
              "model_id": "63ccdaea04d04e6d85b4f58416226e4b"
            }
          },
          "metadata": {}
        },
        {
          "output_type": "stream",
          "name": "stdout",
          "text": [
            "────────────────────────────────────────────────────────────────────────────────────────────────────────────────────────\n",
            "       Test metric             DataLoader 0\n",
            "────────────────────────────────────────────────────────────────────────────────────────────────────────────────────────\n",
            "        test_loss           0.15807506442070007\n",
            "────────────────────────────────────────────────────────────────────────────────────────────────────────────────────────\n"
          ]
        },
        {
          "output_type": "execute_result",
          "data": {
            "text/plain": [
              "[{'test_loss': 0.15807506442070007}]"
            ]
          },
          "metadata": {},
          "execution_count": 43
        }
      ]
    },
    {
      "cell_type": "markdown",
      "source": [
        "## **Make Prediction on Sample**"
      ],
      "metadata": {
        "id": "bofkjeYBfOsq"
      }
    },
    {
      "cell_type": "code",
      "source": [
        "def generate_ans(question):\n",
        "    source_encoding = tokenizer(\n",
        "        question['question'],\n",
        "        question['paragraph'],\n",
        "        max_length = 396,\n",
        "        padding = \"max_length\",\n",
        "        truncation = \"only_second\",\n",
        "        return_attention_mask = True,\n",
        "        add_special_tokens = True,\n",
        "        return_tensors = \"pt\")\n",
        "    \n",
        "    generated_ids = trained_model.model.generate(\n",
        "        input_ids = source_encoding['input_ids'],\n",
        "        attention_mask = source_encoding['attention_mask'],\n",
        "        num_beams = 1,\n",
        "        max_length = 80,\n",
        "        repetition_penalty = 2.5,\n",
        "        length_penalty = 1.0,\n",
        "        early_stopping = True,\n",
        "        use_cache = True)\n",
        "    \n",
        "    preds = [\n",
        "        tokenizer.decode(generated_id,skip_special_tokens=True,clean_up_tokenization_spaces=True)\n",
        "        for generated_id in generated_ids]\n",
        "    \n",
        "    return \" \".join(preds)"
      ],
      "metadata": {
        "execution": {
          "iopub.status.busy": "2023-01-29T19:10:17.673965Z",
          "iopub.execute_input": "2023-01-29T19:10:17.674389Z",
          "iopub.status.idle": "2023-01-29T19:10:17.681670Z",
          "shell.execute_reply.started": "2023-01-29T19:10:17.674355Z",
          "shell.execute_reply": "2023-01-29T19:10:17.680559Z"
        },
        "trusted": true,
        "id": "5j_9yzO1CjSA"
      },
      "execution_count": 32,
      "outputs": []
    },
    {
      "cell_type": "code",
      "source": [
        "sample_question = val_df.iloc[5]"
      ],
      "metadata": {
        "execution": {
          "iopub.status.busy": "2023-01-29T19:10:18.554993Z",
          "iopub.execute_input": "2023-01-29T19:10:18.555394Z",
          "iopub.status.idle": "2023-01-29T19:10:18.560285Z",
          "shell.execute_reply.started": "2023-01-29T19:10:18.555362Z",
          "shell.execute_reply": "2023-01-29T19:10:18.559190Z"
        },
        "trusted": true,
        "id": "uRADVi88CjSA"
      },
      "execution_count": 33,
      "outputs": []
    },
    {
      "cell_type": "code",
      "source": [
        "sample_question['question']"
      ],
      "metadata": {
        "execution": {
          "iopub.status.busy": "2023-01-29T19:10:19.425496Z",
          "iopub.execute_input": "2023-01-29T19:10:19.425870Z",
          "iopub.status.idle": "2023-01-29T19:10:19.435511Z",
          "shell.execute_reply.started": "2023-01-29T19:10:19.425840Z",
          "shell.execute_reply": "2023-01-29T19:10:19.434380Z"
        },
        "trusted": true,
        "colab": {
          "base_uri": "https://localhost:8080/",
          "height": 36
        },
        "id": "OK8aDfgBCjSA",
        "outputId": "c9eb914b-0230-4743-d2ac-d950d1f79084"
      },
      "execution_count": 34,
      "outputs": [
        {
          "output_type": "execute_result",
          "data": {
            "text/plain": [
              "'Who ordered the sale of spectrum to Reliance Communications?'"
            ],
            "application/vnd.google.colaboratory.intrinsic+json": {
              "type": "string"
            }
          },
          "metadata": {},
          "execution_count": 34
        }
      ]
    },
    {
      "cell_type": "code",
      "source": [
        "sample_question['answer']"
      ],
      "metadata": {
        "execution": {
          "iopub.status.busy": "2023-01-29T19:10:20.188881Z",
          "iopub.execute_input": "2023-01-29T19:10:20.189274Z",
          "iopub.status.idle": "2023-01-29T19:10:20.196866Z",
          "shell.execute_reply.started": "2023-01-29T19:10:20.189241Z",
          "shell.execute_reply": "2023-01-29T19:10:20.195420Z"
        },
        "trusted": true,
        "colab": {
          "base_uri": "https://localhost:8080/",
          "height": 36
        },
        "id": "cLqEiT6WCjSA",
        "outputId": "b9c3e590-99a8-4665-e690-7060a9831075"
      },
      "execution_count": 35,
      "outputs": [
        {
          "output_type": "execute_result",
          "data": {
            "text/plain": [
              "'the National Company Law Appellate Tribunal'"
            ],
            "application/vnd.google.colaboratory.intrinsic+json": {
              "type": "string"
            }
          },
          "metadata": {},
          "execution_count": 35
        }
      ]
    },
    {
      "cell_type": "code",
      "source": [
        "generate_ans(sample_question)"
      ],
      "metadata": {
        "execution": {
          "iopub.status.busy": "2023-01-29T19:10:21.466997Z",
          "iopub.execute_input": "2023-01-29T19:10:21.467749Z",
          "iopub.status.idle": "2023-01-29T19:10:23.030908Z",
          "shell.execute_reply.started": "2023-01-29T19:10:21.467713Z",
          "shell.execute_reply": "2023-01-29T19:10:23.029880Z"
        },
        "trusted": true,
        "colab": {
          "base_uri": "https://localhost:8080/",
          "height": 36
        },
        "id": "IGufqPQKCjSA",
        "outputId": "1eadc354-c3cf-4ae0-9d13-2b3cdaac3ae8"
      },
      "execution_count": 36,
      "outputs": [
        {
          "output_type": "execute_result",
          "data": {
            "text/plain": [
              "'the National Company Law Appellate Tribunal'"
            ],
            "application/vnd.google.colaboratory.intrinsic+json": {
              "type": "string"
            }
          },
          "metadata": {},
          "execution_count": 36
        }
      ]
    },
    {
      "cell_type": "code",
      "source": [
        "data = {'question': ['What is the amount spent on Helicopter for VVIP?'],\n",
        "        'paragraph' : ['The federal government in its written response informed the Senate that according to the details provided by the Cabinet Division, an amount of ₹ 946.3 million was spent on VVIP helicopter missions by 6 Aviation Squadron under instructions of the PMs Office from 2019 to 2021 when Imran Khan was the prime minister of the country.']\n",
        "       }\n",
        "\n",
        "d = pd.DataFrame(data)"
      ],
      "metadata": {
        "execution": {
          "iopub.status.busy": "2023-01-29T19:18:34.589250Z",
          "iopub.execute_input": "2023-01-29T19:18:34.589981Z",
          "iopub.status.idle": "2023-01-29T19:18:34.596698Z",
          "shell.execute_reply.started": "2023-01-29T19:18:34.589944Z",
          "shell.execute_reply": "2023-01-29T19:18:34.595544Z"
        },
        "trusted": true,
        "id": "MFQ0d79lCjSA"
      },
      "execution_count": 39,
      "outputs": []
    },
    {
      "cell_type": "code",
      "source": [
        "generate_ans(d.iloc[0])"
      ],
      "metadata": {
        "execution": {
          "iopub.status.busy": "2023-01-29T19:19:23.657402Z",
          "iopub.execute_input": "2023-01-29T19:19:23.657762Z",
          "iopub.status.idle": "2023-01-29T19:19:25.099291Z",
          "shell.execute_reply.started": "2023-01-29T19:19:23.657732Z",
          "shell.execute_reply": "2023-01-29T19:19:25.098141Z"
        },
        "trusted": true,
        "colab": {
          "base_uri": "https://localhost:8080/",
          "height": 36
        },
        "id": "ff-4FAmLCjSB",
        "outputId": "2e5f2dc5-e22f-4e19-a0d8-f5223c8de1d4"
      },
      "execution_count": 40,
      "outputs": [
        {
          "output_type": "execute_result",
          "data": {
            "text/plain": [
              "' 946.3 million'"
            ],
            "application/vnd.google.colaboratory.intrinsic+json": {
              "type": "string"
            }
          },
          "metadata": {},
          "execution_count": 40
        }
      ]
    }
  ]
}